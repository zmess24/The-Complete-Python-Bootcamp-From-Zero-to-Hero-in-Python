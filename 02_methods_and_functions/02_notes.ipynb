{
 "cells": [
  {
   "cell_type": "markdown",
   "id": "b1638680",
   "metadata": {},
   "source": [
    "# 1. Methods (Built-In)"
   ]
  },
  {
   "cell_type": "code",
   "execution_count": 1,
   "id": "235ac808",
   "metadata": {},
   "outputs": [
    {
     "data": {
      "text/plain": [
       "4"
      ]
     },
     "execution_count": 1,
     "metadata": {},
     "output_type": "execute_result"
    }
   ],
   "source": [
    "mylist = list(range(0,5))\n",
    "mylist.pop()"
   ]
  },
  {
   "cell_type": "code",
   "execution_count": 3,
   "id": "0edb094e",
   "metadata": {},
   "outputs": [
    {
     "name": "stdout",
     "output_type": "stream",
     "text": [
      "Help on built-in function pop:\n",
      "\n",
      "pop(index=-1, /) method of builtins.list instance\n",
      "    Remove and return item at index (default last).\n",
      "    \n",
      "    Raises IndexError if list is empty or index is out of range.\n",
      "\n"
     ]
    }
   ],
   "source": [
    "help(mylist.pop)"
   ]
  },
  {
   "cell_type": "markdown",
   "id": "153e7610",
   "metadata": {},
   "source": [
    "# 2. Functions"
   ]
  },
  {
   "cell_type": "code",
   "execution_count": 4,
   "id": "6ad533d9",
   "metadata": {},
   "outputs": [
    {
     "name": "stdout",
     "output_type": "stream",
     "text": [
      "Hello Zac!\n"
     ]
    }
   ],
   "source": [
    "def my_first_function(name):\n",
    "    ''' This is my first function! '''\n",
    "    print(f\"Hello {name}!\")\n",
    "\n",
    "my_first_function(\"Zac\")"
   ]
  },
  {
   "cell_type": "code",
   "execution_count": 5,
   "id": "5f438ce9",
   "metadata": {},
   "outputs": [
    {
     "name": "stdout",
     "output_type": "stream",
     "text": [
      "Hello Lebron\n",
      "Hello Zac\n"
     ]
    }
   ],
   "source": [
    "# Add default value\n",
    "def my_second_function(name=\"Lebron\"):\n",
    "    ''' This is my second function! '''\n",
    "    print(f\"Hello {name}\")\n",
    "    \n",
    "my_second_function()\n",
    "my_second_function(\"Zac\")"
   ]
  },
  {
   "cell_type": "code",
   "execution_count": 6,
   "id": "ca7fe06f",
   "metadata": {},
   "outputs": [
    {
     "data": {
      "text/plain": [
       "11"
      ]
     },
     "execution_count": 6,
     "metadata": {},
     "output_type": "execute_result"
    }
   ],
   "source": [
    "def math_addition(num1, num2):\n",
    "    ''' This function adds two numbers together'''\n",
    "    return num1 + num2\n",
    "\n",
    "sum = math_addition(3, 8)\n",
    "sum"
   ]
  },
  {
   "cell_type": "code",
   "execution_count": 7,
   "id": "2e041350",
   "metadata": {},
   "outputs": [
    {
     "data": {
      "text/plain": [
       "False"
      ]
     },
     "execution_count": 7,
     "metadata": {},
     "output_type": "execute_result"
    }
   ],
   "source": [
    "def even_check(num):\n",
    "    return num % 2 == 0\n",
    "\n",
    "even_check(20)\n",
    "even_check(21)"
   ]
  },
  {
   "cell_type": "code",
   "execution_count": 8,
   "id": "05772a99",
   "metadata": {},
   "outputs": [
    {
     "data": {
      "text/plain": [
       "[2, 6]"
      ]
     },
     "execution_count": 8,
     "metadata": {},
     "output_type": "execute_result"
    }
   ],
   "source": [
    "# Return true if any number is even inside of a list, else return false\n",
    "\n",
    "def check_even_list(num_list):\n",
    "    ''' Return all event numbers in the list '''\n",
    "    even_num = []\n",
    "    \n",
    "    for num in num_list:\n",
    "        if num % 2 == 0: \n",
    "            even_num.append(num)\n",
    "    \n",
    "    return even_num\n",
    "        \n",
    "check_even_list([1,2,3,5,6])"
   ]
  },
  {
   "cell_type": "code",
   "execution_count": 9,
   "id": "f1e35c80",
   "metadata": {},
   "outputs": [],
   "source": [
    "work_hours = [('Abby', 200), ('Billy', 400), ('Cassie',1000)]"
   ]
  },
  {
   "cell_type": "code",
   "execution_count": 10,
   "id": "3b042f08",
   "metadata": {},
   "outputs": [
    {
     "name": "stdout",
     "output_type": "stream",
     "text": [
      "Cassie, 1000\n"
     ]
    }
   ],
   "source": [
    "def employee_check(work_hours):\n",
    "    ''' Checks to see who has worked the most hours in a month '''\n",
    "    current_max = 0\n",
    "    employee_of_month = ''\n",
    "    \n",
    "    for employee, hours in work_hours:\n",
    "        if hours > current_max:\n",
    "            current_max = hours\n",
    "            employee_of_month = employee\n",
    "    \n",
    "    return (employee_of_month, current_max)\n",
    "\n",
    "employee_check(work_hours)\n",
    "name, hours = employee_check(work_hours)\n",
    "print(f\"{name}, {hours}\")"
   ]
  },
  {
   "cell_type": "code",
   "execution_count": 16,
   "id": "e501399a",
   "metadata": {},
   "outputs": [
    {
     "data": {
      "text/plain": [
       "[1, 0, 5, 6, 7, 8, 10, 3, 2, 9, 4]"
      ]
     },
     "execution_count": 16,
     "metadata": {},
     "output_type": "execute_result"
    }
   ],
   "source": [
    "from random import shuffle\n",
    "\n",
    "example = list(range(11))\n",
    "\n",
    "shuffle(example)\n",
    "example"
   ]
  },
  {
   "cell_type": "code",
   "execution_count": 18,
   "id": "aa03942f",
   "metadata": {},
   "outputs": [
    {
     "data": {
      "text/plain": [
       "[10, 8, 0, 1, 2, 9, 5, 6, 3, 4, 7]"
      ]
     },
     "execution_count": 18,
     "metadata": {},
     "output_type": "execute_result"
    }
   ],
   "source": [
    "def shuffle_list(mylist):\n",
    "    shuffle(mylist)\n",
    "    return mylist\n",
    "\n",
    "result = shuffle_list(example)\n",
    "result"
   ]
  },
  {
   "cell_type": "code",
   "execution_count": 20,
   "id": "63ae41e1",
   "metadata": {},
   "outputs": [
    {
     "data": {
      "text/plain": [
       "['0', '', '']"
      ]
     },
     "execution_count": 20,
     "metadata": {},
     "output_type": "execute_result"
    }
   ],
   "source": [
    "newlist = ['', '0', '']\n",
    "shuffle_list(newlist)"
   ]
  },
  {
   "cell_type": "code",
   "execution_count": 29,
   "id": "dda127a4",
   "metadata": {},
   "outputs": [],
   "source": [
    "def player_guess():\n",
    "    guess = ''\n",
    "    \n",
    "    while guess not in ['0', '1', '2']:\n",
    "        guess = input('Pick a number: 0, 1, or 2')\n",
    "    \n",
    "    return int(guess)\n",
    "\n",
    "def check_guess(mylist, guess):\n",
    "    if mylist[guess] == '0':\n",
    "        print(\"Correct!\")\n",
    "    else:\n",
    "        print('Wrong Guess')\n",
    "        print(mylist)"
   ]
  },
  {
   "cell_type": "code",
   "execution_count": 25,
   "id": "85397e6c",
   "metadata": {},
   "outputs": [
    {
     "name": "stdout",
     "output_type": "stream",
     "text": [
      "Pick a number: 0, 1, or 21\n"
     ]
    }
   ],
   "source": [
    "myindex = player_guess()"
   ]
  },
  {
   "cell_type": "code",
   "execution_count": 26,
   "id": "fa2ddde9",
   "metadata": {},
   "outputs": [
    {
     "data": {
      "text/plain": [
       "1"
      ]
     },
     "execution_count": 26,
     "metadata": {},
     "output_type": "execute_result"
    }
   ],
   "source": [
    "myindex"
   ]
  },
  {
   "cell_type": "code",
   "execution_count": 30,
   "id": "0c39dc1b",
   "metadata": {},
   "outputs": [
    {
     "name": "stdout",
     "output_type": "stream",
     "text": [
      "Pick a number: 0, 1, or 21\n",
      "Wrong Guess\n",
      "['0', '', '']\n"
     ]
    }
   ],
   "source": [
    "# INITIAL LIST\n",
    "mylist = ['', '0', '']\n",
    "\n",
    "# SHUFFLE LIST\n",
    "shuffeled_list = shuffle_list(mylist)\n",
    "\n",
    "# USER GUESS\n",
    "guess = player_guess()\n",
    "\n",
    "# CHCEK GUESS\n",
    "check_guess(shuffeled_list, guess)"
   ]
  },
  {
   "cell_type": "markdown",
   "id": "7df55040",
   "metadata": {},
   "source": [
    "### Practice Exercises 1"
   ]
  },
  {
   "cell_type": "code",
   "execution_count": null,
   "id": "bd8c551f",
   "metadata": {},
   "outputs": [],
   "source": [
    "# Exercise 1\n",
    "\n",
    "def myfunc():\n",
    "    print('Hello World')"
   ]
  },
  {
   "cell_type": "code",
   "execution_count": 31,
   "id": "c2c86246",
   "metadata": {},
   "outputs": [],
   "source": [
    "# Exercise 2\n",
    "\n",
    "def myfunc(name=\"Zac\"):\n",
    "    print(\"Hello {}\".format(name))"
   ]
  },
  {
   "cell_type": "code",
   "execution_count": 32,
   "id": "693fe88b",
   "metadata": {},
   "outputs": [],
   "source": [
    "# Exercise 3\n",
    "\n",
    "def myfunc(bool):\n",
    "    if bool == True : return \"Hello\"\n",
    "    elif bool == False : return \"Goodbye\""
   ]
  },
  {
   "cell_type": "code",
   "execution_count": 33,
   "id": "46c89b8e",
   "metadata": {},
   "outputs": [],
   "source": [
    "# Exercise 4 \n",
    "\n",
    "def myfunc(x,y,z):\n",
    "    if z == True: return x\n",
    "    elif z == False: return y"
   ]
  },
  {
   "cell_type": "code",
   "execution_count": 34,
   "id": "a2af5458",
   "metadata": {},
   "outputs": [],
   "source": [
    "# Exercise 5\n",
    "\n",
    "def myfunc(num1, num2):\n",
    "    return num1 + num2"
   ]
  },
  {
   "cell_type": "code",
   "execution_count": 35,
   "id": "743a6dc2",
   "metadata": {},
   "outputs": [],
   "source": [
    "# Exercise 6\n",
    "\n",
    "def is_even(num):\n",
    "    if num % 2 == 0: return True\n",
    "    else: return False"
   ]
  },
  {
   "cell_type": "code",
   "execution_count": null,
   "id": "248f28b5",
   "metadata": {},
   "outputs": [],
   "source": [
    "# Exercise 7\n",
    "\n",
    "def is_greater(num1, num2):\n",
    "    if num1 > num2: return True\n",
    "    else: return False"
   ]
  },
  {
   "cell_type": "markdown",
   "id": "08d112e6",
   "metadata": {},
   "source": [
    "### *args and *kwargs"
   ]
  },
  {
   "cell_type": "code",
   "execution_count": 39,
   "id": "c85382ab",
   "metadata": {},
   "outputs": [
    {
     "data": {
      "text/plain": [
       "(40, 60)"
      ]
     },
     "execution_count": 39,
     "metadata": {},
     "output_type": "execute_result"
    }
   ],
   "source": [
    "def myfunc(*args): # \"*args\" treats args as a tuple of params\n",
    "    ''' Returns sum of all entered arguements '''\n",
    "    return args\n",
    "\n",
    "myfunc(40,60)"
   ]
  },
  {
   "cell_type": "code",
   "execution_count": 42,
   "id": "1e9d48b5",
   "metadata": {},
   "outputs": [
    {
     "name": "stdout",
     "output_type": "stream",
     "text": [
      "My fruit of choice is apple\n",
      "I did not find any fruit here\n"
     ]
    }
   ],
   "source": [
    "def myfunc(**kwargs): # '**kwargs' treats args as dictionary\n",
    "    if 'fruit' in kwargs:\n",
    "        print('My fruit of choice is {}'.format(kwargs['fruit']))\n",
    "    else:\n",
    "        print('I did not find any fruit here')\n",
    "        \n",
    "myfunc(fruit='apple', veggie='lettuce')\n",
    "myfunc(veggie='lettuce')"
   ]
  },
  {
   "cell_type": "code",
   "execution_count": 45,
   "id": "7a3b07e2",
   "metadata": {},
   "outputs": [
    {
     "name": "stdout",
     "output_type": "stream",
     "text": [
      "(10, 20, 30)\n",
      "{'food': 'apples'}\n",
      "I would like 10 apples\n"
     ]
    }
   ],
   "source": [
    "def myfunc(*args, **kwargs):\n",
    "    print(args)\n",
    "    print(kwargs)\n",
    "    print('I would like {} {}'.format(args[0], kwargs['food']))\n",
    "\n",
    "myfunc(10,20,30, food='apples')"
   ]
  },
  {
   "cell_type": "markdown",
   "id": "d4d7d19a",
   "metadata": {},
   "source": [
    "### Practice Exercises 2"
   ]
  },
  {
   "cell_type": "code",
   "execution_count": 46,
   "id": "08a4d3e6",
   "metadata": {},
   "outputs": [],
   "source": [
    "# Exercise 1\n",
    "\n",
    "def myfunc(*args):\n",
    "    count = 0\n",
    "    for num in args:\n",
    "        count += num\n",
    "    \n",
    "    return count"
   ]
  },
  {
   "cell_type": "code",
   "execution_count": 49,
   "id": "5e7bc673",
   "metadata": {},
   "outputs": [],
   "source": [
    "# Exercise 2\n",
    "\n",
    "def myfunc(*args):\n",
    "    return [num for num in args if num % 2 == 0]"
   ]
  },
  {
   "cell_type": "code",
   "execution_count": null,
   "id": "7a348b5e",
   "metadata": {},
   "outputs": [],
   "source": [
    "# Exercise 3\n",
    "\n",
    "def myfunc(string):\n",
    "    newString = '';\n",
    "    for index, char in enumerate(string):\n",
    "        if index % 2 == 0:\n",
    "            newString += char.upper()\n",
    "        else:\n",
    "            newString += char.lower()\n",
    "    return newString"
   ]
  }
 ],
 "metadata": {
  "kernelspec": {
   "display_name": "Python 3 (ipykernel)",
   "language": "python",
   "name": "python3"
  },
  "language_info": {
   "codemirror_mode": {
    "name": "ipython",
    "version": 3
   },
   "file_extension": ".py",
   "mimetype": "text/x-python",
   "name": "python",
   "nbconvert_exporter": "python",
   "pygments_lexer": "ipython3",
   "version": "3.10.9"
  }
 },
 "nbformat": 4,
 "nbformat_minor": 5
}
