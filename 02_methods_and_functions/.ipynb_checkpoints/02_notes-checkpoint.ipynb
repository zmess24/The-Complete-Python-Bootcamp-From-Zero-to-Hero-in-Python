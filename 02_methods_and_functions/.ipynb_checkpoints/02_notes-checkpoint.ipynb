{
 "cells": [
  {
   "cell_type": "markdown",
   "id": "b1638680",
   "metadata": {},
   "source": [
    "# 1. Methods (Built-In)"
   ]
  },
  {
   "cell_type": "code",
   "execution_count": 1,
   "id": "235ac808",
   "metadata": {},
   "outputs": [
    {
     "data": {
      "text/plain": [
       "4"
      ]
     },
     "execution_count": 1,
     "metadata": {},
     "output_type": "execute_result"
    }
   ],
   "source": [
    "mylist = list(range(0,5))\n",
    "mylist.pop()"
   ]
  },
  {
   "cell_type": "code",
   "execution_count": 3,
   "id": "0edb094e",
   "metadata": {},
   "outputs": [
    {
     "name": "stdout",
     "output_type": "stream",
     "text": [
      "Help on built-in function pop:\n",
      "\n",
      "pop(index=-1, /) method of builtins.list instance\n",
      "    Remove and return item at index (default last).\n",
      "    \n",
      "    Raises IndexError if list is empty or index is out of range.\n",
      "\n"
     ]
    }
   ],
   "source": [
    "help(mylist.pop)"
   ]
  },
  {
   "cell_type": "markdown",
   "id": "153e7610",
   "metadata": {},
   "source": [
    "# 2. Functions"
   ]
  },
  {
   "cell_type": "code",
   "execution_count": 4,
   "id": "6ad533d9",
   "metadata": {},
   "outputs": [
    {
     "name": "stdout",
     "output_type": "stream",
     "text": [
      "Hello Zac!\n"
     ]
    }
   ],
   "source": [
    "def my_first_function(name):\n",
    "    ''' This is my first function! '''\n",
    "    print(f\"Hello {name}!\")\n",
    "\n",
    "my_first_function(\"Zac\")"
   ]
  },
  {
   "cell_type": "code",
   "execution_count": 5,
   "id": "5f438ce9",
   "metadata": {},
   "outputs": [
    {
     "name": "stdout",
     "output_type": "stream",
     "text": [
      "Hello Lebron\n",
      "Hello Zac\n"
     ]
    }
   ],
   "source": [
    "# Add default value\n",
    "def my_second_function(name=\"Lebron\"):\n",
    "    ''' This is my second function! '''\n",
    "    print(f\"Hello {name}\")\n",
    "    \n",
    "my_second_function()\n",
    "my_second_function(\"Zac\")"
   ]
  },
  {
   "cell_type": "code",
   "execution_count": 6,
   "id": "ca7fe06f",
   "metadata": {},
   "outputs": [
    {
     "data": {
      "text/plain": [
       "11"
      ]
     },
     "execution_count": 6,
     "metadata": {},
     "output_type": "execute_result"
    }
   ],
   "source": [
    "def math_addition(num1, num2):\n",
    "    ''' This function adds two numbers together'''\n",
    "    return num1 + num2\n",
    "\n",
    "sum = math_addition(3, 8)\n",
    "sum"
   ]
  },
  {
   "cell_type": "code",
   "execution_count": 7,
   "id": "2e041350",
   "metadata": {},
   "outputs": [
    {
     "data": {
      "text/plain": [
       "False"
      ]
     },
     "execution_count": 7,
     "metadata": {},
     "output_type": "execute_result"
    }
   ],
   "source": [
    "def even_check(num):\n",
    "    return num % 2 == 0\n",
    "\n",
    "even_check(20)\n",
    "even_check(21)"
   ]
  },
  {
   "cell_type": "code",
   "execution_count": 8,
   "id": "05772a99",
   "metadata": {},
   "outputs": [
    {
     "data": {
      "text/plain": [
       "[2, 6]"
      ]
     },
     "execution_count": 8,
     "metadata": {},
     "output_type": "execute_result"
    }
   ],
   "source": [
    "# Return true if any number is even inside of a list, else return false\n",
    "\n",
    "def check_even_list(num_list):\n",
    "    ''' Return all event numbers in the list '''\n",
    "    even_num = []\n",
    "    \n",
    "    for num in num_list:\n",
    "        if num % 2 == 0: \n",
    "            even_num.append(num)\n",
    "    \n",
    "    return even_num\n",
    "        \n",
    "check_even_list([1,2,3,5,6])"
   ]
  },
  {
   "cell_type": "code",
   "execution_count": 9,
   "id": "f1e35c80",
   "metadata": {},
   "outputs": [],
   "source": [
    "work_hours = [('Abby', 200), ('Billy', 400), ('Cassie',1000)]"
   ]
  },
  {
   "cell_type": "code",
   "execution_count": 10,
   "id": "3b042f08",
   "metadata": {},
   "outputs": [
    {
     "name": "stdout",
     "output_type": "stream",
     "text": [
      "Cassie, 1000\n"
     ]
    }
   ],
   "source": [
    "def employee_check(work_hours):\n",
    "    ''' Checks to see who has worked the most hours in a month '''\n",
    "    current_max = 0\n",
    "    employee_of_month = ''\n",
    "    \n",
    "    for employee, hours in work_hours:\n",
    "        if hours > current_max:\n",
    "            current_max = hours\n",
    "            employee_of_month = employee\n",
    "    \n",
    "    return (employee_of_month, current_max)\n",
    "\n",
    "employee_check(work_hours)\n",
    "name, hours = employee_check(work_hours)\n",
    "print(f\"{name}, {hours}\")"
   ]
  },
  {
   "cell_type": "code",
   "execution_count": 16,
   "id": "e501399a",
   "metadata": {},
   "outputs": [
    {
     "data": {
      "text/plain": [
       "[1, 0, 5, 6, 7, 8, 10, 3, 2, 9, 4]"
      ]
     },
     "execution_count": 16,
     "metadata": {},
     "output_type": "execute_result"
    }
   ],
   "source": [
    "from random import shuffle\n",
    "\n",
    "example = list(range(11))\n",
    "\n",
    "shuffle(example)\n",
    "example"
   ]
  },
  {
   "cell_type": "code",
   "execution_count": 18,
   "id": "aa03942f",
   "metadata": {},
   "outputs": [
    {
     "data": {
      "text/plain": [
       "[10, 8, 0, 1, 2, 9, 5, 6, 3, 4, 7]"
      ]
     },
     "execution_count": 18,
     "metadata": {},
     "output_type": "execute_result"
    }
   ],
   "source": [
    "def shuffle_list(mylist):\n",
    "    shuffle(mylist)\n",
    "    return mylist\n",
    "\n",
    "result = shuffle_list(example)\n",
    "result"
   ]
  },
  {
   "cell_type": "code",
   "execution_count": 20,
   "id": "63ae41e1",
   "metadata": {},
   "outputs": [
    {
     "data": {
      "text/plain": [
       "['0', '', '']"
      ]
     },
     "execution_count": 20,
     "metadata": {},
     "output_type": "execute_result"
    }
   ],
   "source": [
    "newlist = ['', '0', '']\n",
    "shuffle_list(newlist)"
   ]
  },
  {
   "cell_type": "code",
   "execution_count": 29,
   "id": "dda127a4",
   "metadata": {},
   "outputs": [],
   "source": [
    "def player_guess():\n",
    "    guess = ''\n",
    "    \n",
    "    while guess not in ['0', '1', '2']:\n",
    "        guess = input('Pick a number: 0, 1, or 2')\n",
    "    \n",
    "    return int(guess)\n",
    "\n",
    "def check_guess(mylist, guess):\n",
    "    if mylist[guess] == '0':\n",
    "        print(\"Correct!\")\n",
    "    else:\n",
    "        print('Wrong Guess')\n",
    "        print(mylist)"
   ]
  },
  {
   "cell_type": "code",
   "execution_count": 25,
   "id": "85397e6c",
   "metadata": {},
   "outputs": [
    {
     "name": "stdout",
     "output_type": "stream",
     "text": [
      "Pick a number: 0, 1, or 21\n"
     ]
    }
   ],
   "source": [
    "myindex = player_guess()"
   ]
  },
  {
   "cell_type": "code",
   "execution_count": 26,
   "id": "fa2ddde9",
   "metadata": {},
   "outputs": [
    {
     "data": {
      "text/plain": [
       "1"
      ]
     },
     "execution_count": 26,
     "metadata": {},
     "output_type": "execute_result"
    }
   ],
   "source": [
    "myindex"
   ]
  },
  {
   "cell_type": "code",
   "execution_count": 30,
   "id": "0c39dc1b",
   "metadata": {},
   "outputs": [
    {
     "name": "stdout",
     "output_type": "stream",
     "text": [
      "Pick a number: 0, 1, or 21\n",
      "Wrong Guess\n",
      "['0', '', '']\n"
     ]
    }
   ],
   "source": [
    "# INITIAL LIST\n",
    "mylist = ['', '0', '']\n",
    "\n",
    "# SHUFFLE LIST\n",
    "shuffeled_list = shuffle_list(mylist)\n",
    "\n",
    "# USER GUESS\n",
    "guess = player_guess()\n",
    "\n",
    "# CHCEK GUESS\n",
    "check_guess(shuffeled_list, guess)"
   ]
  },
  {
   "cell_type": "markdown",
   "id": "7df55040",
   "metadata": {},
   "source": [
    "### Practice Exercises 1"
   ]
  },
  {
   "cell_type": "code",
   "execution_count": null,
   "id": "bd8c551f",
   "metadata": {},
   "outputs": [],
   "source": [
    "# Exercise 1\n",
    "\n",
    "def myfunc():\n",
    "    print('Hello World')"
   ]
  },
  {
   "cell_type": "code",
   "execution_count": 31,
   "id": "c2c86246",
   "metadata": {},
   "outputs": [],
   "source": [
    "# Exercise 2\n",
    "\n",
    "def myfunc(name=\"Zac\"):\n",
    "    print(\"Hello {}\".format(name))"
   ]
  },
  {
   "cell_type": "code",
   "execution_count": 32,
   "id": "693fe88b",
   "metadata": {},
   "outputs": [],
   "source": [
    "# Exercise 3\n",
    "\n",
    "def myfunc(bool):\n",
    "    if bool == True : return \"Hello\"\n",
    "    elif bool == False : return \"Goodbye\""
   ]
  },
  {
   "cell_type": "code",
   "execution_count": 33,
   "id": "46c89b8e",
   "metadata": {},
   "outputs": [],
   "source": [
    "# Exercise 4 \n",
    "\n",
    "def myfunc(x,y,z):\n",
    "    if z == True: return x\n",
    "    elif z == False: return y"
   ]
  },
  {
   "cell_type": "code",
   "execution_count": 34,
   "id": "a2af5458",
   "metadata": {},
   "outputs": [],
   "source": [
    "# Exercise 5\n",
    "\n",
    "def myfunc(num1, num2):\n",
    "    return num1 + num2"
   ]
  },
  {
   "cell_type": "code",
   "execution_count": 35,
   "id": "743a6dc2",
   "metadata": {},
   "outputs": [],
   "source": [
    "# Exercise 6\n",
    "\n",
    "def is_even(num):\n",
    "    if num % 2 == 0: return True\n",
    "    else: return False"
   ]
  },
  {
   "cell_type": "code",
   "execution_count": null,
   "id": "248f28b5",
   "metadata": {},
   "outputs": [],
   "source": [
    "# Exercise 7\n",
    "\n",
    "def is_greater(num1, num2):\n",
    "    if num1 > num2: return True\n",
    "    else: return False"
   ]
  },
  {
   "cell_type": "markdown",
   "id": "08d112e6",
   "metadata": {},
   "source": [
    "### *args and *kwargs"
   ]
  },
  {
   "cell_type": "code",
   "execution_count": 39,
   "id": "c85382ab",
   "metadata": {},
   "outputs": [
    {
     "data": {
      "text/plain": [
       "(40, 60)"
      ]
     },
     "execution_count": 39,
     "metadata": {},
     "output_type": "execute_result"
    }
   ],
   "source": [
    "def myfunc(*args): # \"*args\" treats args as a tuple of params\n",
    "    ''' Returns sum of all entered arguements '''\n",
    "    return args\n",
    "\n",
    "myfunc(40,60)"
   ]
  },
  {
   "cell_type": "code",
   "execution_count": 42,
   "id": "1e9d48b5",
   "metadata": {},
   "outputs": [
    {
     "name": "stdout",
     "output_type": "stream",
     "text": [
      "My fruit of choice is apple\n",
      "I did not find any fruit here\n"
     ]
    }
   ],
   "source": [
    "def myfunc(**kwargs): # '**kwargs' treats args as dictionary\n",
    "    if 'fruit' in kwargs:\n",
    "        print('My fruit of choice is {}'.format(kwargs['fruit']))\n",
    "    else:\n",
    "        print('I did not find any fruit here')\n",
    "        \n",
    "myfunc(fruit='apple', veggie='lettuce')\n",
    "myfunc(veggie='lettuce')"
   ]
  },
  {
   "cell_type": "code",
   "execution_count": 45,
   "id": "7a3b07e2",
   "metadata": {},
   "outputs": [
    {
     "name": "stdout",
     "output_type": "stream",
     "text": [
      "(10, 20, 30)\n",
      "{'food': 'apples'}\n",
      "I would like 10 apples\n"
     ]
    }
   ],
   "source": [
    "def myfunc(*args, **kwargs):\n",
    "    print(args)\n",
    "    print(kwargs)\n",
    "    print('I would like {} {}'.format(args[0], kwargs['food']))\n",
    "\n",
    "myfunc(10,20,30, food='apples')"
   ]
  },
  {
   "cell_type": "markdown",
   "id": "d4d7d19a",
   "metadata": {},
   "source": [
    "### Practice Exercises 2"
   ]
  },
  {
   "cell_type": "code",
   "execution_count": 46,
   "id": "08a4d3e6",
   "metadata": {},
   "outputs": [],
   "source": [
    "# Exercise 1\n",
    "\n",
    "def myfunc(*args):\n",
    "    count = 0\n",
    "    for num in args:\n",
    "        count += num\n",
    "    \n",
    "    return count"
   ]
  },
  {
   "cell_type": "code",
   "execution_count": 49,
   "id": "5e7bc673",
   "metadata": {},
   "outputs": [],
   "source": [
    "# Exercise 2\n",
    "\n",
    "def myfunc(*args):\n",
    "    return [num for num in args if num % 2 == 0]"
   ]
  },
  {
   "cell_type": "code",
   "execution_count": null,
   "id": "7a348b5e",
   "metadata": {},
   "outputs": [],
   "source": [
    "# Exercise 3\n",
    "\n",
    "def myfunc(string):\n",
    "    newString = '';\n",
    "    for index, char in enumerate(string):\n",
    "        if index % 2 == 0:\n",
    "            newString += char.upper()\n",
    "        else:\n",
    "            newString += char.lower()\n",
    "    return newString"
   ]
  },
  {
   "cell_type": "markdown",
   "id": "ab1fd067",
   "metadata": {},
   "source": [
    "# 3. Map, & Filter Functions"
   ]
  },
  {
   "cell_type": "code",
   "execution_count": 50,
   "id": "6b3d45b0",
   "metadata": {},
   "outputs": [],
   "source": [
    "def square(num):\n",
    "    return num**2"
   ]
  },
  {
   "cell_type": "code",
   "execution_count": 51,
   "id": "cbfd1b8d",
   "metadata": {},
   "outputs": [],
   "source": [
    "my_nums = [1,2,3,4,5]"
   ]
  },
  {
   "cell_type": "code",
   "execution_count": 53,
   "id": "ab914c8a",
   "metadata": {},
   "outputs": [
    {
     "name": "stdout",
     "output_type": "stream",
     "text": [
      "1\n",
      "4\n",
      "9\n",
      "16\n",
      "25\n"
     ]
    }
   ],
   "source": [
    "for item in map(square,my_nums):\n",
    "    print(item)"
   ]
  },
  {
   "cell_type": "code",
   "execution_count": 54,
   "id": "f6226d6b",
   "metadata": {},
   "outputs": [
    {
     "data": {
      "text/plain": [
       "[1, 4, 9, 16, 25]"
      ]
     },
     "execution_count": 54,
     "metadata": {},
     "output_type": "execute_result"
    }
   ],
   "source": [
    "list(map(square, my_nums))"
   ]
  },
  {
   "cell_type": "code",
   "execution_count": 55,
   "id": "a29efed1",
   "metadata": {},
   "outputs": [],
   "source": [
    "def splicer(string):\n",
    "    if len(string) % 2 == 0:\n",
    "        return \"EVEN\"\n",
    "    else:\n",
    "        return string[0]"
   ]
  },
  {
   "cell_type": "code",
   "execution_count": 57,
   "id": "deb3f537",
   "metadata": {},
   "outputs": [],
   "source": [
    "names = ['Andy', 'Eve', 'Sally']"
   ]
  },
  {
   "cell_type": "code",
   "execution_count": 58,
   "id": "61cd6923",
   "metadata": {},
   "outputs": [
    {
     "data": {
      "text/plain": [
       "['EVEN', 'E', 'S']"
      ]
     },
     "execution_count": 58,
     "metadata": {},
     "output_type": "execute_result"
    }
   ],
   "source": [
    "list(map(splicer,names))"
   ]
  },
  {
   "cell_type": "code",
   "execution_count": 59,
   "id": "e49da926",
   "metadata": {},
   "outputs": [],
   "source": [
    "def check_even(num):\n",
    "    return num % 2 == 0"
   ]
  },
  {
   "cell_type": "code",
   "execution_count": 61,
   "id": "6c7dfc3e",
   "metadata": {},
   "outputs": [],
   "source": [
    "nums = list(range(6))"
   ]
  },
  {
   "cell_type": "code",
   "execution_count": 65,
   "id": "0c3a8c14",
   "metadata": {},
   "outputs": [
    {
     "name": "stdout",
     "output_type": "stream",
     "text": [
      "0\n",
      "2\n",
      "4\n"
     ]
    },
    {
     "data": {
      "text/plain": [
       "[0, 2, 4]"
      ]
     },
     "execution_count": 65,
     "metadata": {},
     "output_type": "execute_result"
    }
   ],
   "source": [
    "# Option 1\n",
    "for n in filter(check_even, nums):\n",
    "    print(n)\n",
    "\n",
    "\n",
    "# Option 2\n",
    "list(filter(check_even, nums))"
   ]
  },
  {
   "cell_type": "markdown",
   "id": "b49f4cb1",
   "metadata": {},
   "source": [
    "# 4. Lambda Expressions"
   ]
  },
  {
   "cell_type": "markdown",
   "id": "3d35d12f",
   "metadata": {},
   "source": [
    "Lamda Expressions are the same as anonymous functions"
   ]
  },
  {
   "cell_type": "code",
   "execution_count": 68,
   "id": "e9d3e71b",
   "metadata": {},
   "outputs": [],
   "source": [
    "# Function\n",
    "def square(num):\n",
    "    return num ** 2\n",
    "\n",
    "# Lambda\n",
    "lambda num: num ** 2"
   ]
  },
  {
   "cell_type": "code",
   "execution_count": 67,
   "id": "cf440ae5",
   "metadata": {},
   "outputs": [
    {
     "data": {
      "text/plain": [
       "9"
      ]
     },
     "execution_count": 67,
     "metadata": {},
     "output_type": "execute_result"
    }
   ],
   "source": [
    "square(3)"
   ]
  },
  {
   "cell_type": "code",
   "execution_count": 69,
   "id": "8d631cc5",
   "metadata": {},
   "outputs": [],
   "source": [
    "nums = list(range(10))"
   ]
  },
  {
   "cell_type": "code",
   "execution_count": 70,
   "id": "2b2f2ea5",
   "metadata": {},
   "outputs": [
    {
     "data": {
      "text/plain": [
       "[0, 1, 4, 9, 16, 25, 36, 49, 64, 81]"
      ]
     },
     "execution_count": 70,
     "metadata": {},
     "output_type": "execute_result"
    }
   ],
   "source": [
    "list(map(lambda num: num**2, nums))"
   ]
  },
  {
   "cell_type": "code",
   "execution_count": 71,
   "id": "837ccc12",
   "metadata": {},
   "outputs": [
    {
     "data": {
      "text/plain": [
       "[0, 2, 4, 6, 8]"
      ]
     },
     "execution_count": 71,
     "metadata": {},
     "output_type": "execute_result"
    }
   ],
   "source": [
    "list(filter(lambda num: num % 2 == 0, nums))"
   ]
  },
  {
   "cell_type": "code",
   "execution_count": 75,
   "id": "53ae915d",
   "metadata": {},
   "outputs": [
    {
     "data": {
      "text/plain": [
       "['ydnA', 'evE', 'yllaS']"
      ]
     },
     "execution_count": 75,
     "metadata": {},
     "output_type": "execute_result"
    }
   ],
   "source": [
    "list(map(lambda name: name[::-1], names))"
   ]
  },
  {
   "cell_type": "markdown",
   "id": "f57c515b",
   "metadata": {},
   "source": [
    "# 5. Nested Statements & Scope"
   ]
  },
  {
   "cell_type": "markdown",
   "id": "8c90a470",
   "metadata": {},
   "source": [
    "LEGB RULE:\n",
    "\n",
    "* **L: Local** - Names assinged in any way within a function (def or lambda), and not declared global in that function\n",
    "* **E: Enclosing function locals** - Names in the local scope of any and all enclosing functions (def or lambda), from inner to outer\n",
    "* **G: Global** - Names assinged at the top-level of a module file or declared global in a def within a file\n",
    "* **B: Built-In (Python)** - Names preassigned in the built in names module: open, range, SyntaxError, ect..."
   ]
  },
  {
   "cell_type": "code",
   "execution_count": 76,
   "id": "09bfc3a1",
   "metadata": {},
   "outputs": [],
   "source": [
    "x = 25\n",
    "\n",
    "def printer():\n",
    "    x = 50\n",
    "    return x"
   ]
  },
  {
   "cell_type": "code",
   "execution_count": 78,
   "id": "fcce6f4a",
   "metadata": {},
   "outputs": [
    {
     "name": "stdout",
     "output_type": "stream",
     "text": [
      "25\n"
     ]
    }
   ],
   "source": [
    "print(x)"
   ]
  },
  {
   "cell_type": "code",
   "execution_count": 80,
   "id": "9d2c3261",
   "metadata": {},
   "outputs": [
    {
     "data": {
      "text/plain": [
       "50"
      ]
     },
     "execution_count": 80,
     "metadata": {},
     "output_type": "execute_result"
    }
   ],
   "source": [
    "printer()"
   ]
  },
  {
   "cell_type": "code",
   "execution_count": 81,
   "id": "9687cbea",
   "metadata": {},
   "outputs": [
    {
     "data": {
      "text/plain": [
       "25"
      ]
     },
     "execution_count": 81,
     "metadata": {},
     "output_type": "execute_result"
    }
   ],
   "source": [
    "# Local \n",
    "lambda num: num**2"
   ]
  },
  {
   "cell_type": "code",
   "execution_count": 84,
   "id": "f9da9cc3",
   "metadata": {},
   "outputs": [
    {
     "name": "stdout",
     "output_type": "stream",
     "text": [
      "Hello THIS IS A GLOBAL STRING\n"
     ]
    }
   ],
   "source": [
    "# Enclosing Function Locals\n",
    "\n",
    "name = \"THIS IS A GLOBAL STRING\"\n",
    "\n",
    "def greet():\n",
    "    \n",
    "    name = \"Sammy\"\n",
    "    \n",
    "    def hello():\n",
    "        print(f\"Hello {name}\")\n",
    "    \n",
    "    hello()\n",
    "\n",
    "greet()"
   ]
  },
  {
   "cell_type": "code",
   "execution_count": null,
   "id": "80b6d0f1",
   "metadata": {},
   "outputs": [],
   "source": []
  }
 ],
 "metadata": {
  "kernelspec": {
   "display_name": "Python 3 (ipykernel)",
   "language": "python",
   "name": "python3"
  },
  "language_info": {
   "codemirror_mode": {
    "name": "ipython",
    "version": 3
   },
   "file_extension": ".py",
   "mimetype": "text/x-python",
   "name": "python",
   "nbconvert_exporter": "python",
   "pygments_lexer": "ipython3",
   "version": "3.10.9"
  }
 },
 "nbformat": 4,
 "nbformat_minor": 5
}
