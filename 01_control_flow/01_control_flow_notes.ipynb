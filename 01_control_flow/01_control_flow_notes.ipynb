{
 "cells": [
  {
   "cell_type": "markdown",
   "id": "6bb55bac",
   "metadata": {},
   "source": [
    "# 1. Branch Statements"
   ]
  },
  {
   "cell_type": "markdown",
   "id": "cc4f7134",
   "metadata": {},
   "source": [
    "Three keywords:\n",
    " * if\n",
    " * elif\n",
    " * else"
   ]
  },
  {
   "cell_type": "code",
   "execution_count": 2,
   "id": "94632d8b",
   "metadata": {},
   "outputs": [
    {
     "name": "stdout",
     "output_type": "stream",
     "text": [
      "ITS TRUE\n"
     ]
    }
   ],
   "source": [
    "if True:\n",
    "    print(\"ITS TRUE\")"
   ]
  },
  {
   "cell_type": "code",
   "execution_count": 14,
   "id": "6aa24175",
   "metadata": {},
   "outputs": [
    {
     "name": "stdout",
     "output_type": "stream",
     "text": [
      "FEED ME steak\n"
     ]
    }
   ],
   "source": [
    "hungry = True\n",
    "# hungry = False\n",
    "food = \"steak\"\n",
    "\n",
    "if hungry:\n",
    "    print(f'FEED ME {food}')\n",
    "else:\n",
    "    print(\"I'M GOOD!\")"
   ]
  },
  {
   "cell_type": "code",
   "execution_count": 16,
   "id": "f99e6bd4",
   "metadata": {},
   "outputs": [
    {
     "name": "stdout",
     "output_type": "stream",
     "text": [
      "Money is cool!\n"
     ]
    }
   ],
   "source": [
    "loc = 'BANK'\n",
    "\n",
    "if loc == 'AUTO SHOP':\n",
    "    print('Cars are cool!')\n",
    "elif loc == \"BANK\":\n",
    "    print(\"Money is cool!\")\n",
    "elif loc == \"STORE\":\n",
    "    print('Welcome to the store!')\n",
    "else:\n",
    "    print(\"I do not know much\")"
   ]
  },
  {
   "cell_type": "markdown",
   "id": "72a8c3a3",
   "metadata": {},
   "source": [
    "# 2. For Loops"
   ]
  },
  {
   "cell_type": "code",
   "execution_count": 19,
   "id": "9a2fa3f1",
   "metadata": {},
   "outputs": [
    {
     "name": "stdout",
     "output_type": "stream",
     "text": [
      "python\n",
      "javascript\n",
      "GO\n"
     ]
    }
   ],
   "source": [
    "languages = [\"python\", \"javascript\", \"GO\"]\n",
    "\n",
    "for langauge in languages:\n",
    "    print(langauge)"
   ]
  },
  {
   "cell_type": "code",
   "execution_count": 21,
   "id": "49a663f8",
   "metadata": {},
   "outputs": [
    {
     "name": "stdout",
     "output_type": "stream",
     "text": [
      "python\n",
      "javascript\n",
      "GO\n",
      "Loop Ended\n"
     ]
    }
   ],
   "source": [
    "languages = [\"python\", \"javascript\", \"GO\"]\n",
    "\n",
    "for langauge in languages:\n",
    "    print(langauge)\n",
    "else:\n",
    "    print(\"Loop Ended\") # Called when loop is done iterating"
   ]
  },
  {
   "cell_type": "code",
   "execution_count": 25,
   "id": "324840e3",
   "metadata": {},
   "outputs": [
    {
     "name": "stdout",
     "output_type": "stream",
     "text": [
      "10\n",
      "11\n",
      "12\n",
      "13\n",
      "14\n",
      "15\n",
      "16\n",
      "17\n",
      "18\n",
      "19\n"
     ]
    }
   ],
   "source": [
    "numbers = range(10, 20)\n",
    "\n",
    "for i in numbers:\n",
    "    print(i)"
   ]
  },
  {
   "cell_type": "code",
   "execution_count": 24,
   "id": "a653fdbe",
   "metadata": {},
   "outputs": [
    {
     "name": "stdout",
     "output_type": "stream",
     "text": [
      "P\n",
      "y\n",
      "t\n",
      "h\n",
      "o\n",
      "n\n"
     ]
    }
   ],
   "source": [
    "string = \"Python\"\n",
    "\n",
    "for char in string:\n",
    "    print(char)"
   ]
  },
  {
   "cell_type": "code",
   "execution_count": 60,
   "id": "835a59d4",
   "metadata": {},
   "outputs": [],
   "source": [
    "numbers = range(10)"
   ]
  },
  {
   "cell_type": "code",
   "execution_count": 61,
   "id": "fc23548d",
   "metadata": {},
   "outputs": [
    {
     "name": "stdout",
     "output_type": "stream",
     "text": [
      "0 is even!\n",
      "1 is odd!\n",
      "2 is even!\n",
      "3 is odd!\n",
      "4 is even!\n",
      "5 is odd!\n",
      "6 is even!\n",
      "7 is odd!\n",
      "8 is even!\n",
      "9 is odd!\n",
      "Done iterating\n"
     ]
    }
   ],
   "source": [
    "# With branch statements\n",
    "for i in numbers:\n",
    "    if (i % 2 == 0):\n",
    "        print(f\"{i} is even!\")\n",
    "    else:\n",
    "        print(f\"{i} is odd!\")\n",
    "else:\n",
    "    print(\"Done iterating\")"
   ]
  },
  {
   "cell_type": "code",
   "execution_count": 62,
   "id": "0a760c7f",
   "metadata": {},
   "outputs": [
    {
     "name": "stdout",
     "output_type": "stream",
     "text": [
      "1\n",
      "2\n"
     ]
    }
   ],
   "source": [
    "# Iterate over a set\n",
    "my_set = set()\n",
    "my_set.add(1)\n",
    "my_set.add(2)\n",
    "for i in my_set:\n",
    "    print(i)"
   ]
  },
  {
   "cell_type": "code",
   "execution_count": 63,
   "id": "8b221591",
   "metadata": {},
   "outputs": [
    {
     "name": "stdout",
     "output_type": "stream",
     "text": [
      "1\n",
      "2\n",
      "3\n",
      "4\n",
      "5\n",
      "6\n",
      "6\n"
     ]
    }
   ],
   "source": [
    "# Iterate over tuple\n",
    "tup = (1,2,3,4,5,6,6)\n",
    "for t in tup:\n",
    "    print(t)"
   ]
  },
  {
   "cell_type": "code",
   "execution_count": 76,
   "id": "9281a903",
   "metadata": {},
   "outputs": [
    {
     "name": "stdout",
     "output_type": "stream",
     "text": [
      "key: k1, value: 1\n",
      "key: k2, value: 2\n",
      "key: k3, value: 3\n"
     ]
    }
   ],
   "source": [
    "# Iterate over dictionary\n",
    "dict = { 'k1': 1, 'k2': 2, 'k3': 3}\n",
    "for key, value in dict.items():\n",
    "    print(f\"key: {key}, value: {value}\")"
   ]
  },
  {
   "cell_type": "code",
   "execution_count": 77,
   "id": "e4ff7a72",
   "metadata": {},
   "outputs": [
    {
     "name": "stdout",
     "output_type": "stream",
     "text": [
      "1\n",
      "2\n",
      "3\n"
     ]
    }
   ],
   "source": [
    "for value in dict.values():\n",
    "    print(value)"
   ]
  },
  {
   "cell_type": "code",
   "execution_count": 78,
   "id": "09b8ec1a",
   "metadata": {},
   "outputs": [
    {
     "name": "stdout",
     "output_type": "stream",
     "text": [
      "k1\n",
      "k2\n",
      "k3\n"
     ]
    }
   ],
   "source": [
    "for key in dict.keys():\n",
    "    print(key)"
   ]
  },
  {
   "cell_type": "code",
   "execution_count": 65,
   "id": "45a576bb",
   "metadata": {},
   "outputs": [
    {
     "data": {
      "text/plain": [
       "45"
      ]
     },
     "execution_count": 65,
     "metadata": {},
     "output_type": "execute_result"
    }
   ],
   "source": [
    "list_sum = 0\n",
    "\n",
    "for num in numbers:\n",
    "    list_sum += num\n",
    "    \n",
    "list_sum"
   ]
  },
  {
   "cell_type": "code",
   "execution_count": 66,
   "id": "6f7970ad",
   "metadata": {},
   "outputs": [
    {
     "data": {
      "text/plain": [
       "4"
      ]
     },
     "execution_count": 66,
     "metadata": {},
     "output_type": "execute_result"
    }
   ],
   "source": [
    "tup_list = [(1,2), (3,4), (5,6), (7,8)]\n",
    "len(tup_list)"
   ]
  },
  {
   "cell_type": "code",
   "execution_count": 71,
   "id": "28336643",
   "metadata": {},
   "outputs": [
    {
     "name": "stdout",
     "output_type": "stream",
     "text": [
      "1, 2\n",
      "3, 4\n",
      "5, 6\n",
      "7, 8\n"
     ]
    }
   ],
   "source": [
    "for a,b in tup_list:\n",
    "    print(f\"{a}, {b}\")"
   ]
  },
  {
   "cell_type": "markdown",
   "id": "dfd19670",
   "metadata": {},
   "source": [
    "# 3. While Loops"
   ]
  },
  {
   "cell_type": "code",
   "execution_count": 82,
   "id": "b9483e12",
   "metadata": {},
   "outputs": [
    {
     "name": "stdout",
     "output_type": "stream",
     "text": [
      "The current value of x is 0\n",
      "The current value of x is 1\n",
      "The current value of x is 2\n",
      "The current value of x is 3\n",
      "The current value of x is 4\n",
      "X is not less than 5\n"
     ]
    }
   ],
   "source": [
    "x = 0\n",
    "\n",
    "while x < 5:\n",
    "    print(f\"The current value of x is {x}\")\n",
    "    x += 1\n",
    "else: # Code executes at the end of the while loop.\n",
    "    print(\"X is not less than 5\")"
   ]
  },
  {
   "cell_type": "markdown",
   "id": "3a6e6bd4",
   "metadata": {},
   "source": [
    "### break, continue, pass\n",
    "\n",
    "* **break**: Breaks out of the current closest enclosing loop.\n",
    "* **continue**: Goes to the top of the current closest enclosing loop.\n",
    "* **pass**: Does nothing at all."
   ]
  },
  {
   "cell_type": "code",
   "execution_count": 87,
   "id": "c672c70b",
   "metadata": {},
   "outputs": [
    {
     "name": "stdout",
     "output_type": "stream",
     "text": [
      "Test\n"
     ]
    }
   ],
   "source": [
    "x = [1,2,3]\n",
    "\n",
    "for item in x:\n",
    "    print(\"Test\")\n",
    "    break"
   ]
  },
  {
   "cell_type": "code",
   "execution_count": 90,
   "id": "22df64ef",
   "metadata": {},
   "outputs": [
    {
     "name": "stdout",
     "output_type": "stream",
     "text": [
      "S\n",
      "m\n",
      "m\n"
     ]
    }
   ],
   "source": [
    "my_string = 'Sammy'\n",
    "\n",
    "for letter in my_string:\n",
    "    if letter == 'a': continue\n",
    "    if letter == 'y': break\n",
    "    print(letter)"
   ]
  },
  {
   "cell_type": "markdown",
   "id": "5a677fbf",
   "metadata": {},
   "source": [
    "# 4. Useful Operators"
   ]
  },
  {
   "cell_type": "markdown",
   "id": "2f572abb",
   "metadata": {},
   "source": [
    "### Range"
   ]
  },
  {
   "cell_type": "code",
   "execution_count": 92,
   "id": "240e5116",
   "metadata": {},
   "outputs": [
    {
     "data": {
      "text/plain": [
       "[10, 11, 12, 13, 14, 15, 16, 17, 18, 19]"
      ]
     },
     "execution_count": 92,
     "metadata": {},
     "output_type": "execute_result"
    }
   ],
   "source": [
    "mylist = list(range(10, 20))\n",
    "mylist"
   ]
  },
  {
   "cell_type": "code",
   "execution_count": 95,
   "id": "eff545af",
   "metadata": {},
   "outputs": [
    {
     "data": {
      "text/plain": [
       "[10, 12, 14, 16, 18]"
      ]
     },
     "execution_count": 95,
     "metadata": {},
     "output_type": "execute_result"
    }
   ],
   "source": [
    "# With Steps\n",
    "mylist = list(range(10,20,2))\n",
    "mylist"
   ]
  },
  {
   "cell_type": "markdown",
   "id": "7ecbc4ae",
   "metadata": {},
   "source": [
    "### Enumerate"
   ]
  },
  {
   "cell_type": "code",
   "execution_count": 96,
   "id": "4e0e13cb",
   "metadata": {},
   "outputs": [
    {
     "name": "stdout",
     "output_type": "stream",
     "text": [
      "At index 0 the letter is a\n",
      "At index 1 the letter is b\n",
      "At index 2 the letter is c\n",
      "At index 3 the letter is d\n",
      "At index 4 the letter is e\n"
     ]
    }
   ],
   "source": [
    "index_count = 0\n",
    "\n",
    "for letter in 'abcde':\n",
    "    print('At index {} the letter is {}'.format(index_count, letter))\n",
    "    index_count += 1"
   ]
  },
  {
   "cell_type": "code",
   "execution_count": 100,
   "id": "24cae525",
   "metadata": {},
   "outputs": [
    {
     "name": "stdout",
     "output_type": "stream",
     "text": [
      "index is 0, letter is a\n",
      "index is 1, letter is b\n",
      "index is 2, letter is c\n",
      "index is 3, letter is d\n",
      "index is 4, letter is e\n"
     ]
    }
   ],
   "source": [
    "word = 'abcde'\n",
    "\n",
    "for index, letter in enumerate(word):\n",
    "    print(f\"index is {index}, letter is {letter}\")"
   ]
  },
  {
   "cell_type": "markdown",
   "id": "0ea21021",
   "metadata": {},
   "source": [
    "### Zip\n",
    "\n",
    "Only zips as far as the shortest lists"
   ]
  },
  {
   "cell_type": "code",
   "execution_count": 104,
   "id": "5d06ee06",
   "metadata": {},
   "outputs": [],
   "source": [
    "list1 = [1,2,3]\n",
    "list2 = ['a', 'b', 'c']\n",
    "list3 = [100, 200, 300]"
   ]
  },
  {
   "cell_type": "code",
   "execution_count": 105,
   "id": "c83ac7a3",
   "metadata": {},
   "outputs": [
    {
     "name": "stdout",
     "output_type": "stream",
     "text": [
      "(1, 'a', 100)\n",
      "(2, 'b', 200)\n",
      "(3, 'c', 300)\n"
     ]
    }
   ],
   "source": [
    "for item in zip(list1, list2, list3):\n",
    "    print(item)"
   ]
  },
  {
   "cell_type": "code",
   "execution_count": 106,
   "id": "8e240799",
   "metadata": {},
   "outputs": [
    {
     "data": {
      "text/plain": [
       "[(1, 'a', 100), (2, 'b', 200), (3, 'c', 300)]"
      ]
     },
     "execution_count": 106,
     "metadata": {},
     "output_type": "execute_result"
    }
   ],
   "source": [
    "list(zip(list1,list2,list3))"
   ]
  },
  {
   "cell_type": "markdown",
   "id": "d40b0281",
   "metadata": {},
   "source": [
    "### In"
   ]
  },
  {
   "cell_type": "code",
   "execution_count": 107,
   "id": "41d12d6f",
   "metadata": {},
   "outputs": [
    {
     "data": {
      "text/plain": [
       "False"
      ]
     },
     "execution_count": 107,
     "metadata": {},
     "output_type": "execute_result"
    }
   ],
   "source": [
    "'x' in [1,2,3]"
   ]
  },
  {
   "cell_type": "code",
   "execution_count": 108,
   "id": "caeb4470",
   "metadata": {},
   "outputs": [
    {
     "data": {
      "text/plain": [
       "True"
      ]
     },
     "execution_count": 108,
     "metadata": {},
     "output_type": "execute_result"
    }
   ],
   "source": [
    "'x' in ['x', 'y', 'z']"
   ]
  },
  {
   "cell_type": "code",
   "execution_count": 109,
   "id": "03068884",
   "metadata": {},
   "outputs": [
    {
     "data": {
      "text/plain": [
       "False"
      ]
     },
     "execution_count": 109,
     "metadata": {},
     "output_type": "execute_result"
    }
   ],
   "source": [
    "'a' in 'some string Ayeee'"
   ]
  },
  {
   "cell_type": "code",
   "execution_count": 110,
   "id": "bbf919e4",
   "metadata": {},
   "outputs": [
    {
     "data": {
      "text/plain": [
       "True"
      ]
     },
     "execution_count": 110,
     "metadata": {},
     "output_type": "execute_result"
    }
   ],
   "source": [
    "'k1' in {'k1': 123}"
   ]
  },
  {
   "cell_type": "code",
   "execution_count": 113,
   "id": "543e16dd",
   "metadata": {},
   "outputs": [
    {
     "data": {
      "text/plain": [
       "False"
      ]
     },
     "execution_count": 113,
     "metadata": {},
     "output_type": "execute_result"
    }
   ],
   "source": [
    "d = {'k1': 343}\n",
    "\n",
    "343 in d.keys()"
   ]
  },
  {
   "cell_type": "code",
   "execution_count": 115,
   "id": "f9b46a43",
   "metadata": {},
   "outputs": [
    {
     "data": {
      "text/plain": [
       "10"
      ]
     },
     "execution_count": 115,
     "metadata": {},
     "output_type": "execute_result"
    }
   ],
   "source": [
    "mylist = [10,20,30,40,50]\n",
    "\n",
    "min(mylist)"
   ]
  },
  {
   "cell_type": "code",
   "execution_count": 117,
   "id": "9417caf7",
   "metadata": {},
   "outputs": [
    {
     "data": {
      "text/plain": [
       "50"
      ]
     },
     "execution_count": 117,
     "metadata": {},
     "output_type": "execute_result"
    }
   ],
   "source": [
    "max(mylist)"
   ]
  },
  {
   "cell_type": "markdown",
   "id": "681d90bb",
   "metadata": {},
   "source": [
    "### Random Library / Importing"
   ]
  },
  {
   "cell_type": "code",
   "execution_count": 118,
   "id": "beb03dbb",
   "metadata": {},
   "outputs": [],
   "source": [
    "from random import shuffle"
   ]
  },
  {
   "cell_type": "code",
   "execution_count": 120,
   "id": "e371af90",
   "metadata": {},
   "outputs": [
    {
     "data": {
      "text/plain": [
       "[1, 5, 0, 6, 9, 4, 2, 3, 8, 7]"
      ]
     },
     "execution_count": 120,
     "metadata": {},
     "output_type": "execute_result"
    }
   ],
   "source": [
    "mylist = list(range(10))\n",
    "shuffle(mylist)\n",
    "mylist"
   ]
  },
  {
   "cell_type": "code",
   "execution_count": 121,
   "id": "9f8776d4",
   "metadata": {},
   "outputs": [],
   "source": [
    "from random import randint"
   ]
  },
  {
   "cell_type": "code",
   "execution_count": 124,
   "id": "3faa2799",
   "metadata": {},
   "outputs": [
    {
     "data": {
      "text/plain": [
       "17"
      ]
     },
     "execution_count": 124,
     "metadata": {},
     "output_type": "execute_result"
    }
   ],
   "source": [
    "random_number = randint(0,100)\n",
    "random_number"
   ]
  },
  {
   "cell_type": "markdown",
   "id": "5b211aea",
   "metadata": {},
   "source": [
    "### User Input"
   ]
  },
  {
   "cell_type": "code",
   "execution_count": 127,
   "id": "f2303e88",
   "metadata": {},
   "outputs": [
    {
     "name": "stdout",
     "output_type": "stream",
     "text": [
      "Enter a number here50\n"
     ]
    }
   ],
   "source": [
    "result = input(\"Enter a number here\") # Always returns a string"
   ]
  },
  {
   "cell_type": "code",
   "execution_count": 128,
   "id": "3e6d798a",
   "metadata": {},
   "outputs": [
    {
     "data": {
      "text/plain": [
       "'50'"
      ]
     },
     "execution_count": 128,
     "metadata": {},
     "output_type": "execute_result"
    }
   ],
   "source": [
    "result"
   ]
  },
  {
   "cell_type": "code",
   "execution_count": 129,
   "id": "8342cb44",
   "metadata": {},
   "outputs": [
    {
     "data": {
      "text/plain": [
       "str"
      ]
     },
     "execution_count": 129,
     "metadata": {},
     "output_type": "execute_result"
    }
   ],
   "source": [
    "type(result)"
   ]
  },
  {
   "cell_type": "code",
   "execution_count": 130,
   "id": "4d81a3b4",
   "metadata": {},
   "outputs": [
    {
     "data": {
      "text/plain": [
       "50.0"
      ]
     },
     "execution_count": 130,
     "metadata": {},
     "output_type": "execute_result"
    }
   ],
   "source": [
    "float(result) # transform to float"
   ]
  },
  {
   "cell_type": "code",
   "execution_count": 132,
   "id": "37ec1f10",
   "metadata": {},
   "outputs": [
    {
     "data": {
      "text/plain": [
       "50"
      ]
     },
     "execution_count": 132,
     "metadata": {},
     "output_type": "execute_result"
    }
   ],
   "source": [
    "int(result) # transform to int"
   ]
  },
  {
   "cell_type": "markdown",
   "id": "f120aad0",
   "metadata": {},
   "source": [
    "# 5. List Comprehensions"
   ]
  },
  {
   "cell_type": "code",
   "execution_count": 134,
   "id": "1c5a0669",
   "metadata": {},
   "outputs": [
    {
     "data": {
      "text/plain": [
       "['h', 'e', 'l', 'l', 'o']"
      ]
     },
     "execution_count": 134,
     "metadata": {},
     "output_type": "execute_result"
    }
   ],
   "source": [
    "mystring = 'hello'\n",
    "mylist = []\n",
    "\n",
    "for letter in mystring:\n",
    "    mylist.append(letter)\n",
    "    \n",
    "mylist"
   ]
  },
  {
   "cell_type": "code",
   "execution_count": 136,
   "id": "c9730ef3",
   "metadata": {},
   "outputs": [
    {
     "data": {
      "text/plain": [
       "['h', 'e', 'l', 'l', 'o']"
      ]
     },
     "execution_count": 136,
     "metadata": {},
     "output_type": "execute_result"
    }
   ],
   "source": [
    "mylist = [letter for letter in mystring]\n",
    "mylist"
   ]
  },
  {
   "cell_type": "code",
   "execution_count": 138,
   "id": "f756a6c8",
   "metadata": {},
   "outputs": [
    {
     "data": {
      "text/plain": [
       "['w', 'o', 'r', 'd']"
      ]
     },
     "execution_count": 138,
     "metadata": {},
     "output_type": "execute_result"
    }
   ],
   "source": [
    "mylist = [x for x in 'word']\n",
    "mylist"
   ]
  },
  {
   "cell_type": "code",
   "execution_count": 139,
   "id": "09ce4f54",
   "metadata": {},
   "outputs": [
    {
     "data": {
      "text/plain": [
       "[0, 1, 2, 3, 4, 5, 6, 7, 8, 9, 10]"
      ]
     },
     "execution_count": 139,
     "metadata": {},
     "output_type": "execute_result"
    }
   ],
   "source": [
    "mylist = [num for num in range(0,11)]\n",
    "mylist"
   ]
  },
  {
   "cell_type": "code",
   "execution_count": 141,
   "id": "17d01fb1",
   "metadata": {},
   "outputs": [
    {
     "data": {
      "text/plain": [
       "[0, 1, 4, 9, 16, 25, 36, 49, 64, 81, 100]"
      ]
     },
     "execution_count": 141,
     "metadata": {},
     "output_type": "execute_result"
    }
   ],
   "source": [
    "mylist = [num**2 for num in range(0,11)]\n",
    "mylist"
   ]
  },
  {
   "cell_type": "code",
   "execution_count": 143,
   "id": "84ef2627",
   "metadata": {},
   "outputs": [
    {
     "data": {
      "text/plain": [
       "[0, 4, 16, 36, 64, 100]"
      ]
     },
     "execution_count": 143,
     "metadata": {},
     "output_type": "execute_result"
    }
   ],
   "source": [
    "mylist = [x**2 for x in range(0,11) if x % 2 == 0]\n",
    "mylist"
   ]
  },
  {
   "cell_type": "code",
   "execution_count": 145,
   "id": "b807c2fc",
   "metadata": {},
   "outputs": [
    {
     "data": {
      "text/plain": [
       "[32.0, 50.0, 68.0, 94.1]"
      ]
     },
     "execution_count": 145,
     "metadata": {},
     "output_type": "execute_result"
    }
   ],
   "source": [
    "celcius = [0,10,20,34.5]\n",
    "\n",
    "# Converts celcius to fahrenheit\n",
    "fahrenheit = [((9/5)* temp + 32) for temp in celcius]\n",
    "\n",
    "fahrenheit"
   ]
  },
  {
   "cell_type": "code",
   "execution_count": 149,
   "id": "142a8ad2",
   "metadata": {},
   "outputs": [
    {
     "data": {
      "text/plain": [
       "[0, 'ODD', 2, 'ODD', 4, 'ODD', 6, 'ODD', 8, 'ODD', 10]"
      ]
     },
     "execution_count": 149,
     "metadata": {},
     "output_type": "execute_result"
    }
   ],
   "source": [
    "# Keep code and avoid sleek one liners that are hard to use even though possible\n",
    "\n",
    "# Records only odd number\n",
    "results = [x if x % 2 == 0 else \"ODD\" for x in range(0,11)]\n",
    "results"
   ]
  },
  {
   "cell_type": "code",
   "execution_count": 151,
   "id": "7784d837",
   "metadata": {},
   "outputs": [
    {
     "data": {
      "text/plain": [
       "[2, 20, 200, 4, 40, 400, 6, 60, 600]"
      ]
     },
     "execution_count": 151,
     "metadata": {},
     "output_type": "execute_result"
    }
   ],
   "source": [
    "mylist = []\n",
    "\n",
    "for x in [2,4,6]:\n",
    "    for y in [1, 10, 100]:\n",
    "        mylist.append(x*y)\n",
    "\n",
    "mylist"
   ]
  },
  {
   "cell_type": "code",
   "execution_count": 153,
   "id": "4b5fcc60",
   "metadata": {},
   "outputs": [
    {
     "data": {
      "text/plain": [
       "[2, 20, 200, 4, 40, 400, 6, 60, 600]"
      ]
     },
     "execution_count": 153,
     "metadata": {},
     "output_type": "execute_result"
    }
   ],
   "source": [
    "mylist = [x*y for x in [2,4,6] for y in [1,10,100]]\n",
    "mylist"
   ]
  },
  {
   "cell_type": "code",
   "execution_count": null,
   "id": "ee313c90",
   "metadata": {},
   "outputs": [],
   "source": []
  }
 ],
 "metadata": {
  "kernelspec": {
   "display_name": "Python 3 (ipykernel)",
   "language": "python",
   "name": "python3"
  },
  "language_info": {
   "codemirror_mode": {
    "name": "ipython",
    "version": 3
   },
   "file_extension": ".py",
   "mimetype": "text/x-python",
   "name": "python",
   "nbconvert_exporter": "python",
   "pygments_lexer": "ipython3",
   "version": "3.10.9"
  }
 },
 "nbformat": 4,
 "nbformat_minor": 5
}
