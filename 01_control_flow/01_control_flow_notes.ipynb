{
 "cells": [
  {
   "cell_type": "markdown",
   "id": "55c0b4de",
   "metadata": {},
   "source": [
    "# 1. Branch Statements"
   ]
  },
  {
   "cell_type": "markdown",
   "id": "ef9bbc4f",
   "metadata": {},
   "source": [
    "Three keywords:\n",
    " * if\n",
    " * elif\n",
    " * else"
   ]
  },
  {
   "cell_type": "code",
   "execution_count": 2,
   "id": "3c91fba4",
   "metadata": {},
   "outputs": [
    {
     "name": "stdout",
     "output_type": "stream",
     "text": [
      "ITS TRUE\n"
     ]
    }
   ],
   "source": [
    "if True:\n",
    "    print(\"ITS TRUE\")"
   ]
  },
  {
   "cell_type": "code",
   "execution_count": 14,
   "id": "a5bcdff2",
   "metadata": {},
   "outputs": [
    {
     "name": "stdout",
     "output_type": "stream",
     "text": [
      "FEED ME steak\n"
     ]
    }
   ],
   "source": [
    "hungry = True\n",
    "# hungry = False\n",
    "food = \"steak\"\n",
    "\n",
    "if hungry:\n",
    "    print(f'FEED ME {food}')\n",
    "else:\n",
    "    print(\"I'M GOOD!\")"
   ]
  },
  {
   "cell_type": "code",
   "execution_count": 16,
   "id": "dfa5901a",
   "metadata": {},
   "outputs": [
    {
     "name": "stdout",
     "output_type": "stream",
     "text": [
      "Money is cool!\n"
     ]
    }
   ],
   "source": [
    "loc = 'BANK'\n",
    "\n",
    "if loc == 'AUTO SHOP':\n",
    "    print('Cars are cool!')\n",
    "elif loc == \"BANK\":\n",
    "    print(\"Money is cool!\")\n",
    "elif loc == \"STORE\":\n",
    "    print('Welcome to the store!')\n",
    "else:\n",
    "    print(\"I do not know much\")"
   ]
  },
  {
   "cell_type": "markdown",
   "id": "3b40795c",
   "metadata": {},
   "source": [
    "# 2. Loops"
   ]
  },
  {
   "cell_type": "code",
   "execution_count": 19,
   "id": "b0743997",
   "metadata": {},
   "outputs": [
    {
     "name": "stdout",
     "output_type": "stream",
     "text": [
      "python\n",
      "javascript\n",
      "GO\n"
     ]
    }
   ],
   "source": [
    "languages = [\"python\", \"javascript\", \"GO\"]\n",
    "\n",
    "for langauge in languages:\n",
    "    print(langauge)"
   ]
  },
  {
   "cell_type": "code",
   "execution_count": 21,
   "id": "3fa61d07",
   "metadata": {},
   "outputs": [
    {
     "name": "stdout",
     "output_type": "stream",
     "text": [
      "python\n",
      "javascript\n",
      "GO\n",
      "Loop Ended\n"
     ]
    }
   ],
   "source": [
    "languages = [\"python\", \"javascript\", \"GO\"]\n",
    "\n",
    "for langauge in languages:\n",
    "    print(langauge)\n",
    "else:\n",
    "    print(\"Loop Ended\") # Called when loop is done iterating"
   ]
  },
  {
   "cell_type": "code",
   "execution_count": 25,
   "id": "700fa724",
   "metadata": {},
   "outputs": [
    {
     "name": "stdout",
     "output_type": "stream",
     "text": [
      "10\n",
      "11\n",
      "12\n",
      "13\n",
      "14\n",
      "15\n",
      "16\n",
      "17\n",
      "18\n",
      "19\n"
     ]
    }
   ],
   "source": [
    "numbers = range(10, 20)\n",
    "\n",
    "for i in numbers:\n",
    "    print(i)"
   ]
  },
  {
   "cell_type": "code",
   "execution_count": 24,
   "id": "68d91467",
   "metadata": {},
   "outputs": [
    {
     "name": "stdout",
     "output_type": "stream",
     "text": [
      "P\n",
      "y\n",
      "t\n",
      "h\n",
      "o\n",
      "n\n"
     ]
    }
   ],
   "source": [
    "string = \"Python\"\n",
    "\n",
    "for char in string:\n",
    "    print(char)"
   ]
  },
  {
   "cell_type": "code",
   "execution_count": 30,
   "id": "22c9f99c",
   "metadata": {},
   "outputs": [],
   "source": [
    "numbers = range(20)"
   ]
  },
  {
   "cell_type": "code",
   "execution_count": 31,
   "id": "8343eb2c",
   "metadata": {},
   "outputs": [
    {
     "name": "stdout",
     "output_type": "stream",
     "text": [
      "0 is even!\n",
      "1 is odd!\n",
      "2 is even!\n",
      "3 is odd!\n",
      "4 is even!\n",
      "5 is odd!\n",
      "6 is even!\n",
      "7 is odd!\n",
      "8 is even!\n",
      "9 is odd!\n",
      "10 is even!\n",
      "11 is odd!\n",
      "12 is even!\n",
      "13 is odd!\n",
      "14 is even!\n",
      "15 is odd!\n",
      "16 is even!\n",
      "17 is odd!\n",
      "18 is even!\n",
      "19 is odd!\n",
      "Done iterating\n"
     ]
    }
   ],
   "source": [
    "# With branch statements\n",
    "for i in numbers:\n",
    "    if (i % 2 == 0):\n",
    "        print(f\"{i} is even!\")\n",
    "    else:\n",
    "        print(f\"{i} is odd!\")\n",
    "else:\n",
    "    print(\"Done iterating\")"
   ]
  },
  {
   "cell_type": "code",
   "execution_count": 45,
   "id": "6095b8ff",
   "metadata": {},
   "outputs": [
    {
     "name": "stdout",
     "output_type": "stream",
     "text": [
      "1\n",
      "2\n"
     ]
    }
   ],
   "source": [
    "# Iterate over a set\n",
    "my_set = set()\n",
    "my_set.add(1)\n",
    "my_set.add(2)\n",
    "for i in my_set:\n",
    "    print(i)"
   ]
  },
  {
   "cell_type": "code",
   "execution_count": 49,
   "id": "bc79884d",
   "metadata": {},
   "outputs": [
    {
     "name": "stdout",
     "output_type": "stream",
     "text": [
      "1\n",
      "2\n",
      "3\n",
      "4\n",
      "5\n",
      "6\n",
      "6\n"
     ]
    }
   ],
   "source": [
    "# Iterate over tuple\n",
    "tup = (1,2,3,4,5,6,6)\n",
    "for t in tup:\n",
    "    print(t)"
   ]
  },
  {
   "cell_type": "code",
   "execution_count": 57,
   "id": "32256e9a",
   "metadata": {},
   "outputs": [
    {
     "name": "stdout",
     "output_type": "stream",
     "text": [
      "1\n",
      "2\n"
     ]
    }
   ],
   "source": [
    "# Iterate over dictionary\n",
    "dict = { 'k1': 1, 'k2': 2}\n",
    "for k in dict:\n",
    "    print(dict[k])"
   ]
  },
  {
   "cell_type": "code",
   "execution_count": null,
   "id": "f62aacd1",
   "metadata": {},
   "outputs": [],
   "source": []
  }
 ],
 "metadata": {
  "kernelspec": {
   "display_name": "Python 3 (ipykernel)",
   "language": "python",
   "name": "python3"
  },
  "language_info": {
   "codemirror_mode": {
    "name": "ipython",
    "version": 3
   },
   "file_extension": ".py",
   "mimetype": "text/x-python",
   "name": "python",
   "nbconvert_exporter": "python",
   "pygments_lexer": "ipython3",
   "version": "3.10.9"
  }
 },
 "nbformat": 4,
 "nbformat_minor": 5
}
