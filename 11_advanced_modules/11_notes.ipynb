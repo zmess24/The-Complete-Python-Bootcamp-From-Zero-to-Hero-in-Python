{
 "cells": [
  {
   "cell_type": "markdown",
   "id": "b93a7117",
   "metadata": {},
   "source": [
    "# 1. Collections Module"
   ]
  },
  {
   "cell_type": "code",
   "execution_count": 1,
   "id": "466436c9",
   "metadata": {},
   "outputs": [],
   "source": [
    "from collections import Counter"
   ]
  },
  {
   "cell_type": "code",
   "execution_count": 2,
   "id": "54f46ef0",
   "metadata": {},
   "outputs": [],
   "source": [
    "mylist = [1,1,2,2,1,1,1,4,5,6,7,3,2]"
   ]
  },
  {
   "cell_type": "code",
   "execution_count": 3,
   "id": "d487371b",
   "metadata": {},
   "outputs": [
    {
     "data": {
      "text/plain": [
       "Counter({1: 5, 2: 3, 4: 1, 5: 1, 6: 1, 7: 1, 3: 1})"
      ]
     },
     "execution_count": 3,
     "metadata": {},
     "output_type": "execute_result"
    }
   ],
   "source": [
    "Counter(mylist)"
   ]
  },
  {
   "cell_type": "code",
   "execution_count": 5,
   "id": "dc30b0c4",
   "metadata": {},
   "outputs": [
    {
     "data": {
      "text/plain": [
       "Counter({'how': 1,\n",
       "         'many': 1,\n",
       "         'times': 1,\n",
       "         'does': 1,\n",
       "         'each': 1,\n",
       "         'word': 2,\n",
       "         'show': 1,\n",
       "         'up': 1,\n",
       "         'in': 1,\n",
       "         'this': 1,\n",
       "         'sentence': 1,\n",
       "         'with': 1,\n",
       "         'a': 1})"
      ]
     },
     "execution_count": 5,
     "metadata": {},
     "output_type": "execute_result"
    }
   ],
   "source": [
    "sentence = \"How many times does each word show up in this sentence with a word\"\n",
    "Counter(sentence.lower().split())"
   ]
  },
  {
   "cell_type": "code",
   "execution_count": 9,
   "id": "2dfdcb76",
   "metadata": {},
   "outputs": [
    {
     "data": {
      "text/plain": [
       "[('b', 8), ('c', 6), ('a', 5), ('d', 5)]"
      ]
     },
     "execution_count": 9,
     "metadata": {},
     "output_type": "execute_result"
    }
   ],
   "source": [
    "letters = 'aaaaabbbbbbbbccccccddddd'\n",
    "c = Counter(letters)\n",
    "c.most_common()"
   ]
  },
  {
   "cell_type": "code",
   "execution_count": 11,
   "id": "b9833633",
   "metadata": {},
   "outputs": [],
   "source": [
    "from collections import defaultdict"
   ]
  },
  {
   "cell_type": "code",
   "execution_count": 13,
   "id": "0ad6c8f6",
   "metadata": {},
   "outputs": [
    {
     "ename": "KeyError",
     "evalue": "'WRONG'",
     "output_type": "error",
     "traceback": [
      "\u001b[0;31m---------------------------------------------------------------------------\u001b[0m",
      "\u001b[0;31mKeyError\u001b[0m                                  Traceback (most recent call last)",
      "Cell \u001b[0;32mIn[13], line 2\u001b[0m\n\u001b[1;32m      1\u001b[0m d \u001b[38;5;241m=\u001b[39m {\u001b[38;5;124m'\u001b[39m\u001b[38;5;124ma\u001b[39m\u001b[38;5;124m'\u001b[39m: \u001b[38;5;241m10\u001b[39m}\n\u001b[0;32m----> 2\u001b[0m \u001b[43md\u001b[49m\u001b[43m[\u001b[49m\u001b[38;5;124;43m'\u001b[39;49m\u001b[38;5;124;43mWRONG\u001b[39;49m\u001b[38;5;124;43m'\u001b[39;49m\u001b[43m]\u001b[49m\n",
      "\u001b[0;31mKeyError\u001b[0m: 'WRONG'"
     ]
    }
   ],
   "source": [
    "d = {'a': 10}\n",
    "d['WRONG']"
   ]
  },
  {
   "cell_type": "code",
   "execution_count": 20,
   "id": "06f776ad",
   "metadata": {},
   "outputs": [
    {
     "data": {
      "text/plain": [
       "100"
      ]
     },
     "execution_count": 20,
     "metadata": {},
     "output_type": "execute_result"
    }
   ],
   "source": [
    "# Assigns default value for keys that don't exist\n",
    "d = defaultdict(lambda: 0)\n",
    "d['correct'] = 100\n",
    "d['correct']"
   ]
  },
  {
   "cell_type": "code",
   "execution_count": 21,
   "id": "ba91da62",
   "metadata": {},
   "outputs": [
    {
     "data": {
      "text/plain": [
       "0"
      ]
     },
     "execution_count": 21,
     "metadata": {},
     "output_type": "execute_result"
    }
   ],
   "source": [
    "d['WRONG!']"
   ]
  },
  {
   "cell_type": "code",
   "execution_count": 22,
   "id": "f53b51f4",
   "metadata": {},
   "outputs": [
    {
     "data": {
      "text/plain": [
       "defaultdict(<function __main__.<lambda>()>, {'correct': 100, 'WRONG!': 0})"
      ]
     },
     "execution_count": 22,
     "metadata": {},
     "output_type": "execute_result"
    }
   ],
   "source": [
    "d"
   ]
  },
  {
   "cell_type": "code",
   "execution_count": 23,
   "id": "72cc1014",
   "metadata": {},
   "outputs": [
    {
     "data": {
      "text/plain": [
       "10"
      ]
     },
     "execution_count": 23,
     "metadata": {},
     "output_type": "execute_result"
    }
   ],
   "source": [
    "mytuple = (10, 20, 30)\n",
    "mytuple[0]"
   ]
  },
  {
   "cell_type": "code",
   "execution_count": 27,
   "id": "d4f76354",
   "metadata": {},
   "outputs": [],
   "source": [
    "from collections import namedtuple\n",
    "\n",
    "Dog = namedtuple('Dog', ['age', 'breed', 'name'])"
   ]
  },
  {
   "cell_type": "code",
   "execution_count": 29,
   "id": "f6deaeae",
   "metadata": {},
   "outputs": [
    {
     "data": {
      "text/plain": [
       "__main__.Dog"
      ]
     },
     "execution_count": 29,
     "metadata": {},
     "output_type": "execute_result"
    }
   ],
   "source": [
    "sammy = Dog(age=5, breed=\"Husky\", name=\"Sam\")\n",
    "type(sammy)"
   ]
  },
  {
   "cell_type": "code",
   "execution_count": 34,
   "id": "29725a58",
   "metadata": {},
   "outputs": [
    {
     "data": {
      "text/plain": [
       "Dog(age=5, breed='Husky', name='Sam')"
      ]
     },
     "execution_count": 34,
     "metadata": {},
     "output_type": "execute_result"
    }
   ],
   "source": [
    "sammy"
   ]
  },
  {
   "cell_type": "code",
   "execution_count": 35,
   "id": "07883ac3",
   "metadata": {},
   "outputs": [
    {
     "data": {
      "text/plain": [
       "5"
      ]
     },
     "execution_count": 35,
     "metadata": {},
     "output_type": "execute_result"
    }
   ],
   "source": [
    "sammy.age"
   ]
  },
  {
   "cell_type": "markdown",
   "id": "4d1a949a",
   "metadata": {},
   "source": [
    "# 2. Shutil Module & OS Module"
   ]
  },
  {
   "cell_type": "code",
   "execution_count": 36,
   "id": "121a78f4",
   "metadata": {},
   "outputs": [
    {
     "data": {
      "text/plain": [
       "'/Users/zacharymessinger/s/Education/udemy_courses/udemy_python_bootcamp/11_advanced_modules'"
      ]
     },
     "execution_count": 36,
     "metadata": {},
     "output_type": "execute_result"
    }
   ],
   "source": [
    "pwd"
   ]
  },
  {
   "cell_type": "code",
   "execution_count": 37,
   "id": "83c21e18",
   "metadata": {},
   "outputs": [],
   "source": [
    "f = open(\"practice.txt\",'w+')\n",
    "f.write('This is a test string')\n",
    "f.close()"
   ]
  },
  {
   "cell_type": "code",
   "execution_count": 39,
   "id": "bac09e4a",
   "metadata": {},
   "outputs": [],
   "source": [
    "import os"
   ]
  },
  {
   "cell_type": "code",
   "execution_count": 46,
   "id": "ad73baaa",
   "metadata": {},
   "outputs": [
    {
     "data": {
      "text/plain": [
       "'/Users/zacharymessinger/s/Education/udemy_courses/udemy_python_bootcamp/11_advanced_modules'"
      ]
     },
     "execution_count": 46,
     "metadata": {},
     "output_type": "execute_result"
    }
   ],
   "source": [
    "# Get's current working directory\n",
    "os.getcwd()"
   ]
  },
  {
   "cell_type": "code",
   "execution_count": 47,
   "id": "c5359a05",
   "metadata": {},
   "outputs": [
    {
     "data": {
      "text/plain": [
       "['.localized', 'Shared', 'zacharymessinger']"
      ]
     },
     "execution_count": 47,
     "metadata": {},
     "output_type": "execute_result"
    }
   ],
   "source": [
    "# List direction for given path\n",
    "os.listdir('/Users')"
   ]
  },
  {
   "cell_type": "code",
   "execution_count": 55,
   "id": "8b114b82",
   "metadata": {},
   "outputs": [],
   "source": [
    "import shutil\n",
    "import send2trash"
   ]
  },
  {
   "cell_type": "code",
   "execution_count": 56,
   "id": "c8c8bfee",
   "metadata": {},
   "outputs": [
    {
     "data": {
      "text/plain": [
       "'/Users/zacharymessinger/practice.txt'"
      ]
     },
     "execution_count": 56,
     "metadata": {},
     "output_type": "execute_result"
    }
   ],
   "source": [
    "# Move folder (e.g mv command on terminal)\n",
    "shutil.move('practice.txt', '/Users/zacharymessinger')"
   ]
  },
  {
   "cell_type": "code",
   "execution_count": 58,
   "id": "96194ecc",
   "metadata": {},
   "outputs": [
    {
     "data": {
      "text/plain": [
       "'/Users/zacharymessinger/s/Education/udemy_courses/udemy_python_bootcamp/11_advanced_modules/practice.txt'"
      ]
     },
     "execution_count": 58,
     "metadata": {},
     "output_type": "execute_result"
    }
   ],
   "source": [
    "shutil.move('/Users/zacharymessinger/practice.txt', os.getcwd())"
   ]
  },
  {
   "cell_type": "code",
   "execution_count": 62,
   "id": "9d72f409",
   "metadata": {},
   "outputs": [
    {
     "data": {
      "text/plain": [
       "['11_notes.ipynb', '.ipynb_checkpoints']"
      ]
     },
     "execution_count": 62,
     "metadata": {},
     "output_type": "execute_result"
    }
   ],
   "source": [
    "# send2trash.send2trash('practice.txt')\n",
    "os.listdir(os.getcwd())"
   ]
  },
  {
   "cell_type": "code",
   "execution_count": 63,
   "id": "9f86b356",
   "metadata": {},
   "outputs": [
    {
     "name": "stdout",
     "output_type": "stream",
     "text": [
      "Currently looking at /Users/zacharymessinger/s/Education/udemy_courses/udemy_python_bootcamp/\n",
      "\n",
      "\n",
      "The subfolders are: \n",
      "Subfolder: 03_project_1\n",
      "Subfolder: 10_generators\n",
      "Subfolder: 11_advanced_modules\n",
      "Subfolder: 01_control_flow\n",
      "Subfolder: 06_error_exception_handling\n",
      "Subfolder: 00_data_types \n",
      "Subfolder: 04_oop_pip_and_error_handling\n",
      "Subfolder: 07_pylint\n",
      "Subfolder: 05_modules_and_packages\n",
      "Subfolder: 08_project_2\n",
      "Subfolder: .ipynb_checkpoints\n",
      "Subfolder: 09_decorators\n",
      "Subfolder: .git\n",
      "Subfolder: 02_methods_and_functions\n",
      "\n",
      "\n",
      "The files are: \n",
      "\n",
      "\n",
      "Currently looking at /Users/zacharymessinger/s/Education/udemy_courses/udemy_python_bootcamp/03_project_1\n",
      "\n",
      "\n",
      "The subfolders are: \n",
      "Subfolder: .ipynb_checkpoints\n",
      "\n",
      "\n",
      "The files are: \n",
      "File: Project_1.ipynb\n",
      "File: 03_notes.ipynb\n",
      "\n",
      "\n",
      "Currently looking at /Users/zacharymessinger/s/Education/udemy_courses/udemy_python_bootcamp/03_project_1/.ipynb_checkpoints\n",
      "\n",
      "\n",
      "The subfolders are: \n",
      "\n",
      "\n",
      "The files are: \n",
      "File: Project_1-checkpoint.ipynb\n",
      "File: 03_notes-checkpoint.ipynb\n",
      "\n",
      "\n",
      "Currently looking at /Users/zacharymessinger/s/Education/udemy_courses/udemy_python_bootcamp/10_generators\n",
      "\n",
      "\n",
      "The subfolders are: \n",
      "Subfolder: .ipynb_checkpoints\n",
      "\n",
      "\n",
      "The files are: \n",
      "File: 10_notes.ipynb\n",
      "File: 10-homework.ipynb\n",
      "\n",
      "\n",
      "Currently looking at /Users/zacharymessinger/s/Education/udemy_courses/udemy_python_bootcamp/10_generators/.ipynb_checkpoints\n",
      "\n",
      "\n",
      "The subfolders are: \n",
      "\n",
      "\n",
      "The files are: \n",
      "File: 10-homework-checkpoint.ipynb\n",
      "File: 10_notes-checkpoint.ipynb\n",
      "\n",
      "\n",
      "Currently looking at /Users/zacharymessinger/s/Education/udemy_courses/udemy_python_bootcamp/11_advanced_modules\n",
      "\n",
      "\n",
      "The subfolders are: \n",
      "Subfolder: .ipynb_checkpoints\n",
      "\n",
      "\n",
      "The files are: \n",
      "File: 11_notes.ipynb\n",
      "\n",
      "\n",
      "Currently looking at /Users/zacharymessinger/s/Education/udemy_courses/udemy_python_bootcamp/11_advanced_modules/.ipynb_checkpoints\n",
      "\n",
      "\n",
      "The subfolders are: \n",
      "\n",
      "\n",
      "The files are: \n",
      "File: 11_notes-checkpoint.ipynb\n",
      "\n",
      "\n",
      "Currently looking at /Users/zacharymessinger/s/Education/udemy_courses/udemy_python_bootcamp/01_control_flow\n",
      "\n",
      "\n",
      "The subfolders are: \n",
      "Subfolder: .ipynb_checkpoints\n",
      "\n",
      "\n",
      "The files are: \n",
      "File: assessment.ipynb\n",
      "File: 01_control_flow_notes.ipynb\n",
      "\n",
      "\n",
      "Currently looking at /Users/zacharymessinger/s/Education/udemy_courses/udemy_python_bootcamp/01_control_flow/.ipynb_checkpoints\n",
      "\n",
      "\n",
      "The subfolders are: \n",
      "\n",
      "\n",
      "The files are: \n",
      "File: assessment-checkpoint.ipynb\n",
      "File: 01_control_flow_notes-checkpoint.ipynb\n",
      "\n",
      "\n",
      "Currently looking at /Users/zacharymessinger/s/Education/udemy_courses/udemy_python_bootcamp/06_error_exception_handling\n",
      "\n",
      "\n",
      "The subfolders are: \n",
      "Subfolder: .ipynb_checkpoints\n",
      "\n",
      "\n",
      "The files are: \n",
      "File: 06_notes.ipynb\n",
      "File: 06_homework.ipynb\n",
      "File: testfile\n",
      "\n",
      "\n",
      "Currently looking at /Users/zacharymessinger/s/Education/udemy_courses/udemy_python_bootcamp/06_error_exception_handling/.ipynb_checkpoints\n",
      "\n",
      "\n",
      "The subfolders are: \n",
      "\n",
      "\n",
      "The files are: \n",
      "File: 06_homework-checkpoint.ipynb\n",
      "File: 06_notes-checkpoint.ipynb\n",
      "\n",
      "\n",
      "Currently looking at /Users/zacharymessinger/s/Education/udemy_courses/udemy_python_bootcamp/00_data_types \n",
      "\n",
      "\n",
      "The subfolders are: \n",
      "Subfolder: .ipynb_checkpoints\n",
      "\n",
      "\n",
      "The files are: \n",
      "File: example_text_file.txt\n",
      "File: my_new_file.txt\n",
      "File: writing_new_file\n",
      "File: myfile.txt\n",
      "File: writing_new_file.txt\n",
      "File: input_outputs_with_basic_files.ipynb\n",
      "File: structures_data_types.ipynb\n",
      "File: Data_Types_Assessment.ipynb\n",
      "\n",
      "\n",
      "Currently looking at /Users/zacharymessinger/s/Education/udemy_courses/udemy_python_bootcamp/00_data_types /.ipynb_checkpoints\n",
      "\n",
      "\n",
      "The subfolders are: \n",
      "\n",
      "\n",
      "The files are: \n",
      "\n",
      "\n",
      "Currently looking at /Users/zacharymessinger/s/Education/udemy_courses/udemy_python_bootcamp/04_oop_pip_and_error_handling\n",
      "\n",
      "\n",
      "The subfolders are: \n",
      "Subfolder: .ipynb_checkpoints\n",
      "\n",
      "\n",
      "The files are: \n",
      "File: 04_challenge.ipynb\n",
      "File: 04_notes.ipynb\n",
      "File: 04_homework.ipynb\n",
      "\n",
      "\n",
      "Currently looking at /Users/zacharymessinger/s/Education/udemy_courses/udemy_python_bootcamp/04_oop_pip_and_error_handling/.ipynb_checkpoints\n",
      "\n",
      "\n",
      "The subfolders are: \n",
      "\n",
      "\n",
      "The files are: \n",
      "File: 04_challenge-checkpoint.ipynb\n",
      "File: 04_homework-checkpoint.ipynb\n",
      "File: 04_notes-checkpoint.ipynb\n",
      "\n",
      "\n",
      "Currently looking at /Users/zacharymessinger/s/Education/udemy_courses/udemy_python_bootcamp/07_pylint\n",
      "\n",
      "\n",
      "The subfolders are: \n",
      "Subfolder: __pycache__\n",
      "\n",
      "\n",
      "The files are: \n",
      "File: simple_one.py\n",
      "File: test_cap.py\n",
      "File: cap.py\n",
      "\n",
      "\n",
      "Currently looking at /Users/zacharymessinger/s/Education/udemy_courses/udemy_python_bootcamp/07_pylint/__pycache__\n",
      "\n",
      "\n",
      "The subfolders are: \n",
      "\n",
      "\n",
      "The files are: \n",
      "File: cap.cpython-310.pyc\n",
      "\n",
      "\n",
      "Currently looking at /Users/zacharymessinger/s/Education/udemy_courses/udemy_python_bootcamp/05_modules_and_packages\n",
      "\n",
      "\n",
      "The subfolders are: \n",
      "Subfolder: packages_and_modules\n",
      "Subfolder: name_and_main\n",
      "Subfolder: .ipynb_checkpoints\n",
      "Subfolder: .vscode\n",
      "\n",
      "\n",
      "The files are: \n",
      "\n",
      "\n",
      "Currently looking at /Users/zacharymessinger/s/Education/udemy_courses/udemy_python_bootcamp/05_modules_and_packages/packages_and_modules\n",
      "\n",
      "\n",
      "The subfolders are: \n",
      "Subfolder: MyMainPackage\n",
      "\n",
      "\n",
      "The files are: \n",
      "File: my_module.py\n",
      "File: my_program.py\n",
      "\n",
      "\n",
      "Currently looking at /Users/zacharymessinger/s/Education/udemy_courses/udemy_python_bootcamp/05_modules_and_packages/packages_and_modules/MyMainPackage\n",
      "\n",
      "\n",
      "The subfolders are: \n",
      "Subfolder: __pycache__\n",
      "Subfolder: SubPackage\n",
      "\n",
      "\n",
      "The files are: \n",
      "File: __init__.py\n",
      "File: some_main_script.py\n",
      "\n",
      "\n",
      "Currently looking at /Users/zacharymessinger/s/Education/udemy_courses/udemy_python_bootcamp/05_modules_and_packages/packages_and_modules/MyMainPackage/__pycache__\n",
      "\n",
      "\n",
      "The subfolders are: \n",
      "\n",
      "\n",
      "The files are: \n",
      "File: some_main_script.cpython-310.pyc\n",
      "File: __init__.cpython-310.pyc\n",
      "\n",
      "\n",
      "Currently looking at /Users/zacharymessinger/s/Education/udemy_courses/udemy_python_bootcamp/05_modules_and_packages/packages_and_modules/MyMainPackage/SubPackage\n",
      "\n",
      "\n",
      "The subfolders are: \n",
      "Subfolder: __pycache__\n",
      "\n",
      "\n",
      "The files are: \n",
      "File: __init__.py\n",
      "File: my_subscript.py\n",
      "\n",
      "\n",
      "Currently looking at /Users/zacharymessinger/s/Education/udemy_courses/udemy_python_bootcamp/05_modules_and_packages/packages_and_modules/MyMainPackage/SubPackage/__pycache__\n",
      "\n",
      "\n",
      "The subfolders are: \n",
      "\n",
      "\n",
      "The files are: \n",
      "File: my_subscript.cpython-310.pyc\n",
      "File: __init__.cpython-310.pyc\n",
      "\n",
      "\n",
      "Currently looking at /Users/zacharymessinger/s/Education/udemy_courses/udemy_python_bootcamp/05_modules_and_packages/name_and_main\n",
      "\n",
      "\n",
      "The subfolders are: \n",
      "Subfolder: __pycache__\n",
      "\n",
      "\n",
      "The files are: \n",
      "File: one.py\n",
      "File: two.py\n",
      "\n",
      "\n",
      "Currently looking at /Users/zacharymessinger/s/Education/udemy_courses/udemy_python_bootcamp/05_modules_and_packages/name_and_main/__pycache__\n",
      "\n",
      "\n",
      "The subfolders are: \n",
      "\n",
      "\n",
      "The files are: \n",
      "File: one.cpython-310.pyc\n",
      "\n",
      "\n",
      "Currently looking at /Users/zacharymessinger/s/Education/udemy_courses/udemy_python_bootcamp/05_modules_and_packages/.ipynb_checkpoints\n",
      "\n",
      "\n",
      "The subfolders are: \n",
      "\n",
      "\n",
      "The files are: \n",
      "\n",
      "\n",
      "Currently looking at /Users/zacharymessinger/s/Education/udemy_courses/udemy_python_bootcamp/05_modules_and_packages/.vscode\n",
      "\n",
      "\n",
      "The subfolders are: \n",
      "\n",
      "\n",
      "The files are: \n",
      "File: settings.json\n",
      "\n",
      "\n",
      "Currently looking at /Users/zacharymessinger/s/Education/udemy_courses/udemy_python_bootcamp/08_project_2\n",
      "\n",
      "\n",
      "The subfolders are: \n",
      "Subfolder: .ipynb_checkpoints\n",
      "\n",
      "\n",
      "The files are: \n",
      "File: 08_project_2_assignment.ipynb\n",
      "File: war.ipynb\n",
      "\n",
      "\n",
      "Currently looking at /Users/zacharymessinger/s/Education/udemy_courses/udemy_python_bootcamp/08_project_2/.ipynb_checkpoints\n",
      "\n",
      "\n",
      "The subfolders are: \n",
      "\n",
      "\n",
      "The files are: \n",
      "File: war-checkpoint.ipynb\n",
      "File: 08_project_2_assignment-checkpoint.ipynb\n",
      "\n",
      "\n",
      "Currently looking at /Users/zacharymessinger/s/Education/udemy_courses/udemy_python_bootcamp/.ipynb_checkpoints\n",
      "\n",
      "\n",
      "The subfolders are: \n",
      "\n",
      "\n",
      "The files are: \n",
      "File: structures_data_types-checkpoint.ipynb\n",
      "File: input_outputs_with_basic_files-checkpoint.ipynb\n",
      "File: Data_Types_Assessment-checkpoint.ipynb\n",
      "\n",
      "\n",
      "Currently looking at /Users/zacharymessinger/s/Education/udemy_courses/udemy_python_bootcamp/09_decorators\n",
      "\n",
      "\n",
      "The subfolders are: \n",
      "Subfolder: .ipynb_checkpoints\n",
      "\n",
      "\n",
      "The files are: \n",
      "File: 09_notes.ipynb\n",
      "\n",
      "\n",
      "Currently looking at /Users/zacharymessinger/s/Education/udemy_courses/udemy_python_bootcamp/09_decorators/.ipynb_checkpoints\n",
      "\n",
      "\n",
      "The subfolders are: \n",
      "\n",
      "\n",
      "The files are: \n",
      "File: 09_notes-checkpoint.ipynb\n",
      "\n",
      "\n",
      "Currently looking at /Users/zacharymessinger/s/Education/udemy_courses/udemy_python_bootcamp/.git\n",
      "\n",
      "\n",
      "The subfolders are: \n",
      "Subfolder: objects\n",
      "Subfolder: info\n",
      "Subfolder: logs\n",
      "Subfolder: hooks\n",
      "Subfolder: refs\n",
      "\n",
      "\n",
      "The files are: \n",
      "File: config\n",
      "File: HEAD\n",
      "File: description\n",
      "File: index\n",
      "File: COMMIT_EDITMSG\n",
      "\n",
      "\n",
      "Currently looking at /Users/zacharymessinger/s/Education/udemy_courses/udemy_python_bootcamp/.git/objects\n",
      "\n",
      "\n",
      "The subfolders are: \n",
      "Subfolder: 61\n",
      "Subfolder: 0d\n",
      "Subfolder: 59\n",
      "Subfolder: 3e\n",
      "Subfolder: 68\n",
      "Subfolder: 3b\n",
      "Subfolder: 03\n",
      "Subfolder: 04\n",
      "Subfolder: 35\n",
      "Subfolder: 69\n",
      "Subfolder: 56\n",
      "Subfolder: 51\n",
      "Subfolder: 67\n",
      "Subfolder: 93\n",
      "Subfolder: 94\n",
      "Subfolder: 5f\n",
      "Subfolder: 33\n",
      "Subfolder: 9d\n",
      "Subfolder: 9c\n",
      "Subfolder: a4\n",
      "Subfolder: d9\n",
      "Subfolder: b3\n",
      "Subfolder: df\n",
      "Subfolder: a5\n",
      "Subfolder: bd\n",
      "Subfolder: d1\n",
      "Subfolder: bc\n",
      "Subfolder: d8\n",
      "Subfolder: e2\n",
      "Subfolder: f3\n",
      "Subfolder: eb\n",
      "Subfolder: c9\n",
      "Subfolder: fd\n",
      "Subfolder: f2\n",
      "Subfolder: c1\n",
      "Subfolder: 4e\n",
      "Subfolder: 20\n",
      "Subfolder: pack\n",
      "Subfolder: 11\n",
      "Subfolder: 29\n",
      "Subfolder: 89\n",
      "Subfolder: 45\n",
      "Subfolder: 73\n",
      "Subfolder: 74\n",
      "Subfolder: 28\n",
      "Subfolder: 17\n",
      "Subfolder: 8f\n",
      "Subfolder: 7e\n",
      "Subfolder: 10\n",
      "Subfolder: 19\n",
      "Subfolder: 26\n",
      "Subfolder: 44\n",
      "Subfolder: 2a\n",
      "Subfolder: 88\n",
      "Subfolder: 9f\n",
      "Subfolder: 07\n",
      "Subfolder: 9a\n",
      "Subfolder: 36\n",
      "Subfolder: 5c\n",
      "Subfolder: 09\n",
      "Subfolder: 5d\n",
      "Subfolder: info\n",
      "Subfolder: 91\n",
      "Subfolder: 65\n",
      "Subfolder: 98\n",
      "Subfolder: 53\n",
      "Subfolder: 5b\n",
      "Subfolder: 37\n",
      "Subfolder: 08\n",
      "Subfolder: 6d\n",
      "Subfolder: 39\n",
      "Subfolder: 99\n",
      "Subfolder: 52\n",
      "Subfolder: 97\n",
      "Subfolder: 63\n",
      "Subfolder: 0f\n",
      "Subfolder: 64\n",
      "Subfolder: bf\n",
      "Subfolder: d4\n",
      "Subfolder: a7\n",
      "Subfolder: b8\n",
      "Subfolder: dd\n",
      "Subfolder: dc\n",
      "Subfolder: d5\n",
      "Subfolder: a8\n",
      "Subfolder: b9\n",
      "Subfolder: c4\n",
      "Subfolder: ea\n",
      "Subfolder: e1\n",
      "Subfolder: cd\n",
      "Subfolder: e6\n",
      "Subfolder: f9\n",
      "Subfolder: f0\n",
      "Subfolder: e8\n",
      "Subfolder: fa\n",
      "Subfolder: ff\n",
      "Subfolder: c5\n",
      "Subfolder: c2\n",
      "Subfolder: e7\n",
      "Subfolder: 46\n",
      "Subfolder: 79\n",
      "Subfolder: 41\n",
      "Subfolder: 1b\n",
      "Subfolder: 77\n",
      "Subfolder: 70\n",
      "Subfolder: 1e\n",
      "Subfolder: 24\n",
      "Subfolder: 23\n",
      "Subfolder: 15\n",
      "Subfolder: 8c\n",
      "Subfolder: 1d\n",
      "Subfolder: 71\n",
      "Subfolder: 82\n",
      "Subfolder: 49\n",
      "Subfolder: 2e\n",
      "Subfolder: 47\n",
      "Subfolder: 78\n",
      "Subfolder: 13\n",
      "Subfolder: 7f\n",
      "Subfolder: 7a\n",
      "Subfolder: 14\n",
      "Subfolder: 8e\n",
      "\n",
      "\n",
      "The files are: \n",
      "\n",
      "\n",
      "Currently looking at /Users/zacharymessinger/s/Education/udemy_courses/udemy_python_bootcamp/.git/objects/61\n",
      "\n",
      "\n",
      "The subfolders are: \n",
      "\n",
      "\n",
      "The files are: \n",
      "File: 4576f12d1c3ea7f304200a8fb8b303775dadc6\n",
      "\n",
      "\n",
      "Currently looking at /Users/zacharymessinger/s/Education/udemy_courses/udemy_python_bootcamp/.git/objects/0d\n",
      "\n",
      "\n",
      "The subfolders are: \n",
      "\n",
      "\n",
      "The files are: \n",
      "File: 93fbec44670e56bc8aa4ef918cf4145931ff40\n",
      "\n",
      "\n",
      "Currently looking at /Users/zacharymessinger/s/Education/udemy_courses/udemy_python_bootcamp/.git/objects/59\n",
      "\n",
      "\n",
      "The subfolders are: \n",
      "\n",
      "\n",
      "The files are: \n",
      "File: 3eb99ac3be030492154c75d1f087cc0c27403a\n",
      "\n",
      "\n",
      "Currently looking at /Users/zacharymessinger/s/Education/udemy_courses/udemy_python_bootcamp/.git/objects/3e\n",
      "\n",
      "\n",
      "The subfolders are: \n",
      "\n",
      "\n",
      "The files are: \n",
      "File: 270931e14a8cf504bfaf0d3d7ab0c298b3b20a\n",
      "File: 60776238d6757443166bb04e9f0fd47ac94f4f\n",
      "\n",
      "\n",
      "Currently looking at /Users/zacharymessinger/s/Education/udemy_courses/udemy_python_bootcamp/.git/objects/68\n",
      "\n",
      "\n",
      "The subfolders are: \n",
      "\n",
      "\n",
      "The files are: \n",
      "File: 3de2729d2dc8baeb3c5954be602fc4ea80cda7\n",
      "\n",
      "\n",
      "Currently looking at /Users/zacharymessinger/s/Education/udemy_courses/udemy_python_bootcamp/.git/objects/3b\n",
      "\n",
      "\n",
      "The subfolders are: \n",
      "\n",
      "\n",
      "The files are: \n",
      "File: 7293a18146affafa5e8f42750d42474d75b86c\n",
      "File: 48dfc8a347b5785ed8917f213fc3a3471223cf\n",
      "\n",
      "\n",
      "Currently looking at /Users/zacharymessinger/s/Education/udemy_courses/udemy_python_bootcamp/.git/objects/03\n",
      "\n",
      "\n",
      "The subfolders are: \n",
      "\n",
      "\n",
      "The files are: \n",
      "File: b80464cd0caab40adb91b444736b7c48a28ce2\n",
      "\n",
      "\n",
      "Currently looking at /Users/zacharymessinger/s/Education/udemy_courses/udemy_python_bootcamp/.git/objects/04\n",
      "\n",
      "\n",
      "The subfolders are: \n",
      "\n",
      "\n",
      "The files are: \n",
      "File: ccade17b24de3c4ca5d0a254aec115e92d0ee7\n",
      "File: 01b5b99be013d24f4261450fe210c0245250bb\n",
      "File: dc428a497a9e45971e0736858188dcba5a01c5\n",
      "\n",
      "\n",
      "Currently looking at /Users/zacharymessinger/s/Education/udemy_courses/udemy_python_bootcamp/.git/objects/35\n",
      "\n",
      "\n",
      "The subfolders are: \n",
      "\n",
      "\n",
      "The files are: \n",
      "File: 5c00fa0ee15b0b35677ba305f02d54df212e02\n",
      "\n",
      "\n",
      "Currently looking at /Users/zacharymessinger/s/Education/udemy_courses/udemy_python_bootcamp/.git/objects/69\n",
      "\n",
      "\n",
      "The subfolders are: \n",
      "\n",
      "\n",
      "The files are: \n",
      "File: 28644cca039653c162ca3073939235e4288661\n",
      "File: fff7da71911fec9506b21f1be597a58841c255\n",
      "\n",
      "\n",
      "Currently looking at /Users/zacharymessinger/s/Education/udemy_courses/udemy_python_bootcamp/.git/objects/56\n",
      "\n",
      "\n",
      "The subfolders are: \n",
      "\n",
      "\n",
      "The files are: \n",
      "File: 95565d0afd25f62a93283da1511b1a1f1e2602\n",
      "File: a98fa4ba405ae15b6dfbd31242c88d572f6151\n",
      "\n",
      "\n",
      "Currently looking at /Users/zacharymessinger/s/Education/udemy_courses/udemy_python_bootcamp/.git/objects/51\n",
      "\n",
      "\n",
      "The subfolders are: \n",
      "\n",
      "\n",
      "The files are: \n",
      "File: 0d3ac8c5d99ef148530f7eeb83d19b7f383ab2\n",
      "\n",
      "\n",
      "Currently looking at /Users/zacharymessinger/s/Education/udemy_courses/udemy_python_bootcamp/.git/objects/67\n",
      "\n",
      "\n",
      "The subfolders are: \n",
      "\n",
      "\n",
      "The files are: \n",
      "File: 332c304c988c4b1328c237a7d3c45b26cf2c6e\n",
      "\n",
      "\n",
      "Currently looking at /Users/zacharymessinger/s/Education/udemy_courses/udemy_python_bootcamp/.git/objects/93\n",
      "\n",
      "\n",
      "The subfolders are: \n",
      "\n",
      "\n",
      "The files are: \n",
      "File: e4a970a8c45f8703240ef8b3c6f4cea731772e\n",
      "File: 706df65f70f708989d40bb9019603da64dbfe8\n",
      "\n",
      "\n",
      "Currently looking at /Users/zacharymessinger/s/Education/udemy_courses/udemy_python_bootcamp/.git/objects/94\n",
      "\n",
      "\n",
      "The subfolders are: \n",
      "\n",
      "\n",
      "The files are: \n",
      "File: 36f094434c937719af32ffada69dd14c4df522\n",
      "\n",
      "\n",
      "Currently looking at /Users/zacharymessinger/s/Education/udemy_courses/udemy_python_bootcamp/.git/objects/5f\n",
      "\n",
      "\n",
      "The subfolders are: \n",
      "\n",
      "\n",
      "The files are: \n",
      "File: 3eaf4ac2d653698604e2d63d3795f42d45f7c5\n",
      "File: 3292a60ccf110c3d76e7c455a4ee7b89fe8371\n",
      "\n",
      "\n",
      "Currently looking at /Users/zacharymessinger/s/Education/udemy_courses/udemy_python_bootcamp/.git/objects/33\n",
      "\n",
      "\n",
      "The subfolders are: \n",
      "\n",
      "\n",
      "The files are: \n",
      "File: 41532e3f070c6c6be8858ca86a09a4059f898a\n",
      "\n",
      "\n",
      "Currently looking at /Users/zacharymessinger/s/Education/udemy_courses/udemy_python_bootcamp/.git/objects/9d\n",
      "\n",
      "\n",
      "The subfolders are: \n",
      "\n",
      "\n",
      "The files are: \n",
      "File: 6df38d06c7e71558bafda48d50ac8e3b3cf463\n",
      "File: 29ac31f19f5316d2f526815baf05a425e97fa7\n",
      "\n",
      "\n",
      "Currently looking at /Users/zacharymessinger/s/Education/udemy_courses/udemy_python_bootcamp/.git/objects/9c\n",
      "\n",
      "\n",
      "The subfolders are: \n",
      "\n",
      "\n",
      "The files are: \n",
      "File: 48955f3ae381a27ccc873e8de8c37a7c47822a\n",
      "File: 9eb243b3874913264e89e5869756c6af112f20\n",
      "File: 1d3fe3cfe400b887441cc320a4356116e44110\n",
      "\n",
      "\n",
      "Currently looking at /Users/zacharymessinger/s/Education/udemy_courses/udemy_python_bootcamp/.git/objects/a4\n",
      "\n",
      "\n",
      "The subfolders are: \n",
      "\n",
      "\n",
      "The files are: \n",
      "File: 2e82cfdf72bfbaa7c29010d5b03dbd17446c3a\n",
      "\n",
      "\n",
      "Currently looking at /Users/zacharymessinger/s/Education/udemy_courses/udemy_python_bootcamp/.git/objects/d9\n",
      "\n",
      "\n",
      "The subfolders are: \n",
      "\n",
      "\n",
      "The files are: \n",
      "File: 070a7450bf963984025a8916b2bb403d94fc3d\n",
      "File: 12be160ef3166695fef38f2634f25adf45cce5\n",
      "\n",
      "\n",
      "Currently looking at /Users/zacharymessinger/s/Education/udemy_courses/udemy_python_bootcamp/.git/objects/b3\n",
      "\n",
      "\n",
      "The subfolders are: \n",
      "\n",
      "\n",
      "The files are: \n",
      "File: ddf76002c94bee33614d65bcbd181230cc7ac6\n",
      "\n",
      "\n",
      "Currently looking at /Users/zacharymessinger/s/Education/udemy_courses/udemy_python_bootcamp/.git/objects/df\n",
      "\n",
      "\n",
      "The subfolders are: \n",
      "\n",
      "\n",
      "The files are: \n",
      "File: 8bb59a47ee9061465a2873c759c40a009d1a24\n",
      "File: 273b5e95699ccefe642560e1fd43b7c871fc3f\n",
      "File: 3f4d313da27040ebd22d4403708d968c799626\n",
      "\n",
      "\n",
      "Currently looking at /Users/zacharymessinger/s/Education/udemy_courses/udemy_python_bootcamp/.git/objects/a5\n",
      "\n",
      "\n",
      "The subfolders are: \n",
      "\n",
      "\n",
      "The files are: \n",
      "File: 20e6d1a9abcce99b831bbd80c81c44d47a4604\n",
      "\n",
      "\n",
      "Currently looking at /Users/zacharymessinger/s/Education/udemy_courses/udemy_python_bootcamp/.git/objects/bd\n",
      "\n",
      "\n",
      "The subfolders are: \n",
      "\n",
      "\n",
      "The files are: \n",
      "File: 207105cd16e28b386399b50eaef3c7921bd8c0\n",
      "\n",
      "\n",
      "Currently looking at /Users/zacharymessinger/s/Education/udemy_courses/udemy_python_bootcamp/.git/objects/d1\n",
      "\n",
      "\n",
      "The subfolders are: \n",
      "\n",
      "\n",
      "The files are: \n",
      "File: d1b31c9c6d0169470aa9bbf0c09076ab073680\n",
      "\n",
      "\n",
      "Currently looking at /Users/zacharymessinger/s/Education/udemy_courses/udemy_python_bootcamp/.git/objects/bc\n",
      "\n",
      "\n",
      "The subfolders are: \n",
      "\n",
      "\n",
      "The files are: \n",
      "File: 931714b67ac71d66497faaa4cae4d11d928e88\n",
      "\n",
      "\n",
      "Currently looking at /Users/zacharymessinger/s/Education/udemy_courses/udemy_python_bootcamp/.git/objects/d8\n",
      "\n",
      "\n",
      "The subfolders are: \n",
      "\n",
      "\n",
      "The files are: \n",
      "File: e051264aa6a3d4c3216571427f26965d858560\n",
      "\n",
      "\n",
      "Currently looking at /Users/zacharymessinger/s/Education/udemy_courses/udemy_python_bootcamp/.git/objects/e2\n",
      "\n",
      "\n",
      "The subfolders are: \n",
      "\n",
      "\n",
      "The files are: \n",
      "File: 14730936f8cc721745d2d47743d9a8bdf71905\n",
      "\n",
      "\n",
      "Currently looking at /Users/zacharymessinger/s/Education/udemy_courses/udemy_python_bootcamp/.git/objects/f3\n",
      "\n",
      "\n",
      "The subfolders are: \n",
      "\n",
      "\n",
      "The files are: \n",
      "File: 4a9b3cbcd2dfa1b95b847282611e7a84b21f88\n",
      "\n",
      "\n",
      "Currently looking at /Users/zacharymessinger/s/Education/udemy_courses/udemy_python_bootcamp/.git/objects/eb\n",
      "\n",
      "\n",
      "The subfolders are: \n",
      "\n",
      "\n",
      "The files are: \n",
      "File: edbef973163dbc21da4da9f24dbaf022b1ad80\n",
      "File: 42c70338668857d015629b3988935ff4c60189\n",
      "File: 77420b5abe737799c318a9fd8990fe9aed606f\n",
      "\n",
      "\n",
      "Currently looking at /Users/zacharymessinger/s/Education/udemy_courses/udemy_python_bootcamp/.git/objects/c9\n",
      "\n",
      "\n",
      "The subfolders are: \n",
      "\n",
      "\n",
      "The files are: \n",
      "File: 490378b95d392152e49e97290097a61e6226fb\n",
      "\n",
      "\n",
      "Currently looking at /Users/zacharymessinger/s/Education/udemy_courses/udemy_python_bootcamp/.git/objects/fd\n",
      "\n",
      "\n",
      "The subfolders are: \n",
      "\n",
      "\n",
      "The files are: \n",
      "File: e6f6c727c29cf4d4cbc62d6051e39696482212\n",
      "\n",
      "\n",
      "Currently looking at /Users/zacharymessinger/s/Education/udemy_courses/udemy_python_bootcamp/.git/objects/f2\n",
      "\n",
      "\n",
      "The subfolders are: \n",
      "\n",
      "\n",
      "The files are: \n",
      "File: d0619d0e87afc41aff396d02da8efbc779da01\n",
      "File: d64719a19265d1ed698a052488c7a27e00483b\n",
      "\n",
      "\n",
      "Currently looking at /Users/zacharymessinger/s/Education/udemy_courses/udemy_python_bootcamp/.git/objects/c1\n",
      "\n",
      "\n",
      "The subfolders are: \n",
      "\n",
      "\n",
      "The files are: \n",
      "File: 35c6a7cef61e5ea22296a2b0e528f4398b06ec\n",
      "\n",
      "\n",
      "Currently looking at /Users/zacharymessinger/s/Education/udemy_courses/udemy_python_bootcamp/.git/objects/4e\n",
      "\n",
      "\n",
      "The subfolders are: \n",
      "\n",
      "\n",
      "The files are: \n",
      "File: f561d08ca1107002c45e92218edc5349b06b5a\n",
      "\n",
      "\n",
      "Currently looking at /Users/zacharymessinger/s/Education/udemy_courses/udemy_python_bootcamp/.git/objects/20\n",
      "\n",
      "\n",
      "The subfolders are: \n",
      "\n",
      "\n",
      "The files are: \n",
      "File: 15c088817fb7aacb9eaf39c3501264003f369e\n",
      "\n",
      "\n",
      "Currently looking at /Users/zacharymessinger/s/Education/udemy_courses/udemy_python_bootcamp/.git/objects/pack\n",
      "\n",
      "\n",
      "The subfolders are: \n",
      "\n",
      "\n",
      "The files are: \n",
      "\n",
      "\n",
      "Currently looking at /Users/zacharymessinger/s/Education/udemy_courses/udemy_python_bootcamp/.git/objects/11\n",
      "\n",
      "\n",
      "The subfolders are: \n",
      "\n",
      "\n",
      "The files are: \n",
      "File: 08f28910216d69797b982114d10670293c323f\n",
      "\n",
      "\n",
      "Currently looking at /Users/zacharymessinger/s/Education/udemy_courses/udemy_python_bootcamp/.git/objects/29\n",
      "\n",
      "\n",
      "The subfolders are: \n",
      "\n",
      "\n",
      "The files are: \n",
      "File: 001d6265779936d395c1cea699451cc1e40899\n",
      "\n",
      "\n",
      "Currently looking at /Users/zacharymessinger/s/Education/udemy_courses/udemy_python_bootcamp/.git/objects/89\n",
      "\n",
      "\n",
      "The subfolders are: \n",
      "\n",
      "\n",
      "The files are: \n",
      "File: 488d1c5b6de827189bf429cfad68f40526dc4b\n",
      "File: 5bc5305c24cad5d65ab41ca17f0a503b74b765\n",
      "\n",
      "\n",
      "Currently looking at /Users/zacharymessinger/s/Education/udemy_courses/udemy_python_bootcamp/.git/objects/45\n",
      "\n",
      "\n",
      "The subfolders are: \n",
      "\n",
      "\n",
      "The files are: \n",
      "File: 25e5529d17db6e9dc9a00925443d1c2e50b1af\n",
      "\n",
      "\n",
      "Currently looking at /Users/zacharymessinger/s/Education/udemy_courses/udemy_python_bootcamp/.git/objects/73\n",
      "\n",
      "\n",
      "The subfolders are: \n",
      "\n",
      "\n",
      "The files are: \n",
      "File: 2984f4df95f97b48f1bdb4bae2ca6265fdf966\n",
      "\n",
      "\n",
      "Currently looking at /Users/zacharymessinger/s/Education/udemy_courses/udemy_python_bootcamp/.git/objects/74\n",
      "\n",
      "\n",
      "The subfolders are: \n",
      "\n",
      "\n",
      "The files are: \n",
      "File: 9e8f97f421b5ff2d8f27f35f522c99e5fc8196\n",
      "\n",
      "\n",
      "Currently looking at /Users/zacharymessinger/s/Education/udemy_courses/udemy_python_bootcamp/.git/objects/28\n",
      "\n",
      "\n",
      "The subfolders are: \n",
      "\n",
      "\n",
      "The files are: \n",
      "File: 28552048bec1f855f1ff3b685359048b044bb2\n",
      "File: 7b28081c93c4d06716a0c4ddacbbe1ab8f80c4\n",
      "\n",
      "\n",
      "Currently looking at /Users/zacharymessinger/s/Education/udemy_courses/udemy_python_bootcamp/.git/objects/17\n",
      "\n",
      "\n",
      "The subfolders are: \n",
      "\n",
      "\n",
      "The files are: \n",
      "File: 9ad6007a22e61ce7c9d82e9f277bbadd9ecee6\n",
      "File: 97678d615dfc37d7e32f0485cbfa5ff9cccc9b\n",
      "\n",
      "\n",
      "Currently looking at /Users/zacharymessinger/s/Education/udemy_courses/udemy_python_bootcamp/.git/objects/8f\n",
      "\n",
      "\n",
      "The subfolders are: \n",
      "\n",
      "\n",
      "The files are: \n",
      "File: 7b04bc00f0502ae5d794b8a532e5614d6650c1\n",
      "\n",
      "\n",
      "Currently looking at /Users/zacharymessinger/s/Education/udemy_courses/udemy_python_bootcamp/.git/objects/7e\n",
      "\n",
      "\n",
      "The subfolders are: \n",
      "\n",
      "\n",
      "The files are: \n",
      "File: 10ddb7581979e45b2a5b8723d41a5e68e7c994\n",
      "File: ff24d27fbb2f8765b10c667678916e41fee718\n",
      "\n",
      "\n",
      "Currently looking at /Users/zacharymessinger/s/Education/udemy_courses/udemy_python_bootcamp/.git/objects/10\n",
      "\n",
      "\n",
      "The subfolders are: \n",
      "\n",
      "\n",
      "The files are: \n",
      "File: 5a180f144e1a357378452b7f7e16d05bb0edc8\n",
      "File: 216104a27f83b3ec1e65723fdfea7b99601d74\n",
      "\n",
      "\n",
      "Currently looking at /Users/zacharymessinger/s/Education/udemy_courses/udemy_python_bootcamp/.git/objects/19\n",
      "\n",
      "\n",
      "The subfolders are: \n",
      "\n",
      "\n",
      "The files are: \n",
      "File: 0be71420f33fb77848c8e5047bbec805b0703b\n",
      "\n",
      "\n",
      "Currently looking at /Users/zacharymessinger/s/Education/udemy_courses/udemy_python_bootcamp/.git/objects/26\n",
      "\n",
      "\n",
      "The subfolders are: \n",
      "\n",
      "\n",
      "The files are: \n",
      "File: dd07aa286693dba19fbda4924f38e45e891822\n",
      "File: 988bd8f8b923ea9790fae03463df1b665b45e3\n",
      "\n",
      "\n",
      "Currently looking at /Users/zacharymessinger/s/Education/udemy_courses/udemy_python_bootcamp/.git/objects/44\n",
      "\n",
      "\n",
      "The subfolders are: \n",
      "\n",
      "\n",
      "The files are: \n",
      "File: 09605e51598192731f28a97badefb89d67361a\n",
      "File: d8d48e7421894db1e9db0562a9c6f2ddf0879a\n",
      "\n",
      "\n",
      "Currently looking at /Users/zacharymessinger/s/Education/udemy_courses/udemy_python_bootcamp/.git/objects/2a\n",
      "\n",
      "\n",
      "The subfolders are: \n",
      "\n",
      "\n",
      "The files are: \n",
      "File: 105368bb8ff0568f9f6aa07941a19c1445e0be\n",
      "File: bad61d42787fea19c614f5ee561b4bf51620cc\n",
      "\n",
      "\n",
      "Currently looking at /Users/zacharymessinger/s/Education/udemy_courses/udemy_python_bootcamp/.git/objects/88\n",
      "\n",
      "\n",
      "The subfolders are: \n",
      "\n",
      "\n",
      "The files are: \n",
      "File: 1057ab62e8a6f9270ea217a9ddaf8422e5342d\n",
      "\n",
      "\n",
      "Currently looking at /Users/zacharymessinger/s/Education/udemy_courses/udemy_python_bootcamp/.git/objects/9f\n",
      "\n",
      "\n",
      "The subfolders are: \n",
      "\n",
      "\n",
      "The files are: \n",
      "File: 90d1c168eae64125911e60868d5667fa9e90cf\n",
      "\n",
      "\n",
      "Currently looking at /Users/zacharymessinger/s/Education/udemy_courses/udemy_python_bootcamp/.git/objects/07\n",
      "\n",
      "\n",
      "The subfolders are: \n",
      "\n",
      "\n",
      "The files are: \n",
      "File: 7585324f3a567c4752b66e5146e7c3ad0362c0\n",
      "\n",
      "\n",
      "Currently looking at /Users/zacharymessinger/s/Education/udemy_courses/udemy_python_bootcamp/.git/objects/9a\n",
      "\n",
      "\n",
      "The subfolders are: \n",
      "\n",
      "\n",
      "The files are: \n",
      "File: 0aee7a13412d4be45e5f2c05af4979bc26f4e4\n",
      "\n",
      "\n",
      "Currently looking at /Users/zacharymessinger/s/Education/udemy_courses/udemy_python_bootcamp/.git/objects/36\n",
      "\n",
      "\n",
      "The subfolders are: \n",
      "\n",
      "\n",
      "The files are: \n",
      "File: 3fcab7ed6e9634e198cf5555ceb88932c9a245\n",
      "\n",
      "\n",
      "Currently looking at /Users/zacharymessinger/s/Education/udemy_courses/udemy_python_bootcamp/.git/objects/5c\n",
      "\n",
      "\n",
      "The subfolders are: \n",
      "\n",
      "\n",
      "The files are: \n",
      "File: ae86e8aedd756ec64be4921830330e8b145463\n",
      "File: 2ccce81f6da2b2f86d61899eba08f4a43f09e5\n",
      "\n",
      "\n",
      "Currently looking at /Users/zacharymessinger/s/Education/udemy_courses/udemy_python_bootcamp/.git/objects/09\n",
      "\n",
      "\n",
      "The subfolders are: \n",
      "\n",
      "\n",
      "The files are: \n",
      "File: 7e7422584e200aed860079be41ebbb41e3d535\n",
      "\n",
      "\n",
      "Currently looking at /Users/zacharymessinger/s/Education/udemy_courses/udemy_python_bootcamp/.git/objects/5d\n",
      "\n",
      "\n",
      "The subfolders are: \n",
      "\n",
      "\n",
      "The files are: \n",
      "File: 24acc2e381263a176618cab0e71598dad01f14\n",
      "\n",
      "\n",
      "Currently looking at /Users/zacharymessinger/s/Education/udemy_courses/udemy_python_bootcamp/.git/objects/info\n",
      "\n",
      "\n",
      "The subfolders are: \n",
      "\n",
      "\n",
      "The files are: \n",
      "\n",
      "\n",
      "Currently looking at /Users/zacharymessinger/s/Education/udemy_courses/udemy_python_bootcamp/.git/objects/91\n",
      "\n",
      "\n",
      "The subfolders are: \n",
      "\n",
      "\n",
      "The files are: \n",
      "File: 10b2ed585e824f6a1a0e4f77fe609e8c1959da\n",
      "File: 43b949e81bd56f268203ebcbc41ba37a5bbf7c\n",
      "\n",
      "\n",
      "Currently looking at /Users/zacharymessinger/s/Education/udemy_courses/udemy_python_bootcamp/.git/objects/65\n",
      "\n",
      "\n",
      "The subfolders are: \n",
      "\n",
      "\n",
      "The files are: \n",
      "File: 4842fe6e600db40e7608b5df35f17b56e37f7d\n",
      "File: a70b25378634ab81aab9d722415fc21e0c4f13\n",
      "\n",
      "\n",
      "Currently looking at /Users/zacharymessinger/s/Education/udemy_courses/udemy_python_bootcamp/.git/objects/98\n",
      "\n",
      "\n",
      "The subfolders are: \n",
      "\n",
      "\n",
      "The files are: \n",
      "File: b14cfc5ac21a8fc18ad68d40314c4341d201b0\n",
      "\n",
      "\n",
      "Currently looking at /Users/zacharymessinger/s/Education/udemy_courses/udemy_python_bootcamp/.git/objects/53\n",
      "\n",
      "\n",
      "The subfolders are: \n",
      "\n",
      "\n",
      "The files are: \n",
      "File: 3184c5e07598350d562ff1ac578814ad8f8524\n",
      "\n",
      "\n",
      "Currently looking at /Users/zacharymessinger/s/Education/udemy_courses/udemy_python_bootcamp/.git/objects/5b\n",
      "\n",
      "\n",
      "The subfolders are: \n",
      "\n",
      "\n",
      "The files are: \n",
      "File: f16b85b1d02ad67faa0e2be54d215c65ad293b\n",
      "File: 37819674ab7905e05dad7867586c5e49f83bd4\n",
      "\n",
      "\n",
      "Currently looking at /Users/zacharymessinger/s/Education/udemy_courses/udemy_python_bootcamp/.git/objects/37\n",
      "\n",
      "\n",
      "The subfolders are: \n",
      "\n",
      "\n",
      "The files are: \n",
      "File: 1d67b8d67f8745af1422c251e0fe7774af4639\n",
      "File: 7a7a9e41eee0cf61c17a2f750f3631a1b1445d\n",
      "\n",
      "\n",
      "Currently looking at /Users/zacharymessinger/s/Education/udemy_courses/udemy_python_bootcamp/.git/objects/08\n",
      "\n",
      "\n",
      "The subfolders are: \n",
      "\n",
      "\n",
      "The files are: \n",
      "File: 741b50446ea8f4e81fa865300aeced9962456b\n",
      "\n",
      "\n",
      "Currently looking at /Users/zacharymessinger/s/Education/udemy_courses/udemy_python_bootcamp/.git/objects/6d\n",
      "\n",
      "\n",
      "The subfolders are: \n",
      "\n",
      "\n",
      "The files are: \n",
      "File: 932c08cc7f700cd6ed5ca38acdc1867bf3e66f\n",
      "File: adcbd5df24c04fce94a89e2a078d3d5858af0c\n",
      "\n",
      "\n",
      "Currently looking at /Users/zacharymessinger/s/Education/udemy_courses/udemy_python_bootcamp/.git/objects/39\n",
      "\n",
      "\n",
      "The subfolders are: \n",
      "\n",
      "\n",
      "The files are: \n",
      "File: 0177b91c98e8b970b898dbd1420af9ac9b05f5\n",
      "File: 66db6d8f370c2ea7c22d2e7a92384d4f53efe9\n",
      "\n",
      "\n",
      "Currently looking at /Users/zacharymessinger/s/Education/udemy_courses/udemy_python_bootcamp/.git/objects/99\n",
      "\n",
      "\n",
      "The subfolders are: \n",
      "\n",
      "\n",
      "The files are: \n",
      "File: 3623f0aa7f9e00c9159524eac567a3bceb48ea\n",
      "\n",
      "\n",
      "Currently looking at /Users/zacharymessinger/s/Education/udemy_courses/udemy_python_bootcamp/.git/objects/52\n",
      "\n",
      "\n",
      "The subfolders are: \n",
      "\n",
      "\n",
      "The files are: \n",
      "File: 85f6026d0e60a5854da1de2ecc57e80e249baa\n",
      "\n",
      "\n",
      "Currently looking at /Users/zacharymessinger/s/Education/udemy_courses/udemy_python_bootcamp/.git/objects/97\n",
      "\n",
      "\n",
      "The subfolders are: \n",
      "\n",
      "\n",
      "The files are: \n",
      "File: 1c18ac158a202a7eeadf265f926ce07e363945\n",
      "\n",
      "\n",
      "Currently looking at /Users/zacharymessinger/s/Education/udemy_courses/udemy_python_bootcamp/.git/objects/63\n",
      "\n",
      "\n",
      "The subfolders are: \n",
      "\n",
      "\n",
      "The files are: \n",
      "File: e5429df97f47aeca1e131163891baeb93dcb65\n",
      "File: 7aa0eb3824eb9e710f3eea3750fd81f40a6e07\n",
      "File: 98e455e910f7870e22c686f6376258a019dbf5\n",
      "\n",
      "\n",
      "Currently looking at /Users/zacharymessinger/s/Education/udemy_courses/udemy_python_bootcamp/.git/objects/0f\n",
      "\n",
      "\n",
      "The subfolders are: \n",
      "\n",
      "\n",
      "The files are: \n",
      "File: ffafb25038aef85cbe1b85f2c34f60e57e886f\n",
      "File: 0372c832c9f63db507ce40d4763f025ab1483b\n",
      "\n",
      "\n",
      "Currently looking at /Users/zacharymessinger/s/Education/udemy_courses/udemy_python_bootcamp/.git/objects/64\n",
      "\n",
      "\n",
      "The subfolders are: \n",
      "\n",
      "\n",
      "The files are: \n",
      "File: 3f643cb284b7efa25041f419b834db2ace6c0a\n",
      "File: bf2624454683e6b587a879d1b31de6859641ab\n",
      "\n",
      "\n",
      "Currently looking at /Users/zacharymessinger/s/Education/udemy_courses/udemy_python_bootcamp/.git/objects/bf\n",
      "\n",
      "\n",
      "The subfolders are: \n",
      "\n",
      "\n",
      "The files are: \n",
      "File: af9b956b5bec2cc8e3b80f897eade4a58a211e\n",
      "File: 717754dc95c631c9e6f8e1447074048f9d9b8e\n",
      "File: 19d47d3799f005c4a53886a5d8d8e9149a7eb2\n",
      "\n",
      "\n",
      "Currently looking at /Users/zacharymessinger/s/Education/udemy_courses/udemy_python_bootcamp/.git/objects/d4\n",
      "\n",
      "\n",
      "The subfolders are: \n",
      "\n",
      "\n",
      "The files are: \n",
      "File: 48d42f24e4622898cff17a090f7ca505fffaab\n",
      "File: eb167eac5fc1e68acefc884d88955279a08536\n",
      "\n",
      "\n",
      "Currently looking at /Users/zacharymessinger/s/Education/udemy_courses/udemy_python_bootcamp/.git/objects/a7\n",
      "\n",
      "\n",
      "The subfolders are: \n",
      "\n",
      "\n",
      "The files are: \n",
      "File: e95a70e3623257ad180b42dcbcd57d27a43021\n",
      "\n",
      "\n",
      "Currently looking at /Users/zacharymessinger/s/Education/udemy_courses/udemy_python_bootcamp/.git/objects/b8\n",
      "\n",
      "\n",
      "The subfolders are: \n",
      "\n",
      "\n",
      "The files are: \n",
      "File: c1679e22abfbe054ed347b3acafbd4cc191857\n",
      "File: 9d10e455329a29693051a269cadfdafa4356b3\n",
      "\n",
      "\n",
      "Currently looking at /Users/zacharymessinger/s/Education/udemy_courses/udemy_python_bootcamp/.git/objects/dd\n",
      "\n",
      "\n",
      "The subfolders are: \n",
      "\n",
      "\n",
      "The files are: \n",
      "File: 53da55971ad458aa4be5b4259a1f2d96de8d23\n",
      "\n",
      "\n",
      "Currently looking at /Users/zacharymessinger/s/Education/udemy_courses/udemy_python_bootcamp/.git/objects/dc\n",
      "\n",
      "\n",
      "The subfolders are: \n",
      "\n",
      "\n",
      "The files are: \n",
      "File: ff438f82c7149fb9125df7b9355eabe7126d7f\n",
      "File: 6b177867d56e28c3e2ddcccd950ef0063458cd\n",
      "\n",
      "\n",
      "Currently looking at /Users/zacharymessinger/s/Education/udemy_courses/udemy_python_bootcamp/.git/objects/d5\n",
      "\n",
      "\n",
      "The subfolders are: \n",
      "\n",
      "\n",
      "The files are: \n",
      "File: c74b4c9955af476361b8dc5090715dc1faf04a\n",
      "File: 2150b533edd305041434c0cf42ae0fab4dd0bc\n",
      "File: 5362583a58ba9859076da99a18b80ff7be9ac0\n",
      "\n",
      "\n",
      "Currently looking at /Users/zacharymessinger/s/Education/udemy_courses/udemy_python_bootcamp/.git/objects/a8\n",
      "\n",
      "\n",
      "The subfolders are: \n",
      "\n",
      "\n",
      "The files are: \n",
      "File: 21779b48434ab9bc7991616a34e3ac1f4f160b\n",
      "File: b5169806d239ded80adb177b76c3227bd9ecce\n",
      "\n",
      "\n",
      "Currently looking at /Users/zacharymessinger/s/Education/udemy_courses/udemy_python_bootcamp/.git/objects/b9\n",
      "\n",
      "\n",
      "The subfolders are: \n",
      "\n",
      "\n",
      "The files are: \n",
      "File: 448dbc7e1a7e6ff4e5aaf50d93a50c5acae5db\n",
      "\n",
      "\n",
      "Currently looking at /Users/zacharymessinger/s/Education/udemy_courses/udemy_python_bootcamp/.git/objects/c4\n",
      "\n",
      "\n",
      "The subfolders are: \n",
      "\n",
      "\n",
      "The files are: \n",
      "File: c28c1a2b58ab06e682d93c0c83bbe2a295a83c\n",
      "File: 52142578e7feff278f04b173f97596497b62c6\n",
      "\n",
      "\n",
      "Currently looking at /Users/zacharymessinger/s/Education/udemy_courses/udemy_python_bootcamp/.git/objects/ea\n",
      "\n",
      "\n",
      "The subfolders are: \n",
      "\n",
      "\n",
      "The files are: \n",
      "File: 5dbf0553bdaa8ad56c8956a6506d77238db9ae\n",
      "File: e5889de384a50fd1ef2dc604e88be67a0b1864\n",
      "\n",
      "\n",
      "Currently looking at /Users/zacharymessinger/s/Education/udemy_courses/udemy_python_bootcamp/.git/objects/e1\n",
      "\n",
      "\n",
      "The subfolders are: \n",
      "\n",
      "\n",
      "The files are: \n",
      "File: 47641b8323d729f9f4473c026b6abc8d0f24f4\n",
      "\n",
      "\n",
      "Currently looking at /Users/zacharymessinger/s/Education/udemy_courses/udemy_python_bootcamp/.git/objects/cd\n",
      "\n",
      "\n",
      "The subfolders are: \n",
      "\n",
      "\n",
      "The files are: \n",
      "File: 28c81d7bba71948a7cf41ba9750d1d6b756606\n",
      "\n",
      "\n",
      "Currently looking at /Users/zacharymessinger/s/Education/udemy_courses/udemy_python_bootcamp/.git/objects/e6\n",
      "\n",
      "\n",
      "The subfolders are: \n",
      "\n",
      "\n",
      "The files are: \n",
      "File: 9de29bb2d1d6434b8b29ae775ad8c2e48c5391\n",
      "\n",
      "\n",
      "Currently looking at /Users/zacharymessinger/s/Education/udemy_courses/udemy_python_bootcamp/.git/objects/f9\n",
      "\n",
      "\n",
      "The subfolders are: \n",
      "\n",
      "\n",
      "The files are: \n",
      "File: 1b8e0da2a3c8ee36980d57c93c6a544cb6a0e8\n",
      "\n",
      "\n",
      "Currently looking at /Users/zacharymessinger/s/Education/udemy_courses/udemy_python_bootcamp/.git/objects/f0\n",
      "\n",
      "\n",
      "The subfolders are: \n",
      "\n",
      "\n",
      "The files are: \n",
      "File: 97dec806225f68890cd533de0752d6087aa662\n",
      "\n",
      "\n",
      "Currently looking at /Users/zacharymessinger/s/Education/udemy_courses/udemy_python_bootcamp/.git/objects/e8\n",
      "\n",
      "\n",
      "The subfolders are: \n",
      "\n",
      "\n",
      "The files are: \n",
      "File: 88befecd8b254487c1dc82bfe6a92906e0909a\n",
      "\n",
      "\n",
      "Currently looking at /Users/zacharymessinger/s/Education/udemy_courses/udemy_python_bootcamp/.git/objects/fa\n",
      "\n",
      "\n",
      "The subfolders are: \n",
      "\n",
      "\n",
      "The files are: \n",
      "File: 366222079041d42461dd4705060786b2747e04\n",
      "\n",
      "\n",
      "Currently looking at /Users/zacharymessinger/s/Education/udemy_courses/udemy_python_bootcamp/.git/objects/ff\n",
      "\n",
      "\n",
      "The subfolders are: \n",
      "\n",
      "\n",
      "The files are: \n",
      "File: f6961b1f3873e2e2c621d5582c4d79d171719c\n",
      "\n",
      "\n",
      "Currently looking at /Users/zacharymessinger/s/Education/udemy_courses/udemy_python_bootcamp/.git/objects/c5\n",
      "\n",
      "\n",
      "The subfolders are: \n",
      "\n",
      "\n",
      "The files are: \n",
      "File: f550d25aaad9355206eefe870ae1d69f31948e\n",
      "\n",
      "\n",
      "Currently looking at /Users/zacharymessinger/s/Education/udemy_courses/udemy_python_bootcamp/.git/objects/c2\n",
      "\n",
      "\n",
      "The subfolders are: \n",
      "\n",
      "\n",
      "The files are: \n",
      "File: 19eac158b24fc319fcc1e3d4af4791878dac15\n",
      "\n",
      "\n",
      "Currently looking at /Users/zacharymessinger/s/Education/udemy_courses/udemy_python_bootcamp/.git/objects/e7\n",
      "\n",
      "\n",
      "The subfolders are: \n",
      "\n",
      "\n",
      "The files are: \n",
      "File: d1fb7d4477358c67d374a8fbb47406b95565bb\n",
      "\n",
      "\n",
      "Currently looking at /Users/zacharymessinger/s/Education/udemy_courses/udemy_python_bootcamp/.git/objects/46\n",
      "\n",
      "\n",
      "The subfolders are: \n",
      "\n",
      "\n",
      "The files are: \n",
      "File: 3e44fa5a51eb27aa04936ef20d41fdb6f4cb5d\n",
      "\n",
      "\n",
      "Currently looking at /Users/zacharymessinger/s/Education/udemy_courses/udemy_python_bootcamp/.git/objects/79\n",
      "\n",
      "\n",
      "The subfolders are: \n",
      "\n",
      "\n",
      "The files are: \n",
      "File: f995aa04bbb354d9de7a050609fedcdfea8162\n",
      "\n",
      "\n",
      "Currently looking at /Users/zacharymessinger/s/Education/udemy_courses/udemy_python_bootcamp/.git/objects/41\n",
      "\n",
      "\n",
      "The subfolders are: \n",
      "\n",
      "\n",
      "The files are: \n",
      "File: a3564cbac312e1a6ee443ca28cf11992f180c3\n",
      "\n",
      "\n",
      "Currently looking at /Users/zacharymessinger/s/Education/udemy_courses/udemy_python_bootcamp/.git/objects/1b\n",
      "\n",
      "\n",
      "The subfolders are: \n",
      "\n",
      "\n",
      "The files are: \n",
      "File: 1094823bc41105eafdb244988e43a5305e29eb\n",
      "\n",
      "\n",
      "Currently looking at /Users/zacharymessinger/s/Education/udemy_courses/udemy_python_bootcamp/.git/objects/77\n",
      "\n",
      "\n",
      "The subfolders are: \n",
      "\n",
      "\n",
      "The files are: \n",
      "File: dd9e28e440be61ed6034c8c0c2d92f2a352a0b\n",
      "\n",
      "\n",
      "Currently looking at /Users/zacharymessinger/s/Education/udemy_courses/udemy_python_bootcamp/.git/objects/70\n",
      "\n",
      "\n",
      "The subfolders are: \n",
      "\n",
      "\n",
      "The files are: \n",
      "File: f457cd57b92a546b550d2fdfc2f01fee9c4f06\n",
      "File: 6c81ba3ee2fbc43cfb0e388eab86b113ed12ff\n",
      "\n",
      "\n",
      "Currently looking at /Users/zacharymessinger/s/Education/udemy_courses/udemy_python_bootcamp/.git/objects/1e\n",
      "\n",
      "\n",
      "The subfolders are: \n",
      "\n",
      "\n",
      "The files are: \n",
      "File: 89d2fc5c5a88001f8d5afb572c3051a54d9a9f\n",
      "File: 63d465c42b73392f1dbc8c9f70ceb52c4603dd\n",
      "\n",
      "\n",
      "Currently looking at /Users/zacharymessinger/s/Education/udemy_courses/udemy_python_bootcamp/.git/objects/24\n",
      "\n",
      "\n",
      "The subfolders are: \n",
      "\n",
      "\n",
      "The files are: \n",
      "File: 85a1d44e2c226df19bac37a2dbae46722a1815\n",
      "File: 41f43be4810d71c97b94784ba26a73144d8d1e\n",
      "\n",
      "\n",
      "Currently looking at /Users/zacharymessinger/s/Education/udemy_courses/udemy_python_bootcamp/.git/objects/23\n",
      "\n",
      "\n",
      "The subfolders are: \n",
      "\n",
      "\n",
      "The files are: \n",
      "File: dadb0093c1a3f7be225f3d60e60829e2b0fdc0\n",
      "File: bd8517984db9e4b4efc9656c53506f33005990\n",
      "\n",
      "\n",
      "Currently looking at /Users/zacharymessinger/s/Education/udemy_courses/udemy_python_bootcamp/.git/objects/15\n",
      "\n",
      "\n",
      "The subfolders are: \n",
      "\n",
      "\n",
      "The files are: \n",
      "File: b30a1ebc1ae460eb51b8087410d7a575bc8520\n",
      "\n",
      "\n",
      "Currently looking at /Users/zacharymessinger/s/Education/udemy_courses/udemy_python_bootcamp/.git/objects/8c\n",
      "\n",
      "\n",
      "The subfolders are: \n",
      "\n",
      "\n",
      "The files are: \n",
      "File: e8ba5c44723f7defc285e7137b0e37776cdd87\n",
      "File: e6e64f1f499a6d89b75fc90ab25c9c1ebe97a3\n",
      "File: 343e99b3e61c93d60dcbc4d6fc7c9cf17e3f62\n",
      "File: e01fc25a0d7025daefd61105b41493f589c460\n",
      "\n",
      "\n",
      "Currently looking at /Users/zacharymessinger/s/Education/udemy_courses/udemy_python_bootcamp/.git/objects/1d\n",
      "\n",
      "\n",
      "The subfolders are: \n",
      "\n",
      "\n",
      "The files are: \n",
      "File: 7675baad22c218acd4a5a2316d76d57f3834b4\n",
      "\n",
      "\n",
      "Currently looking at /Users/zacharymessinger/s/Education/udemy_courses/udemy_python_bootcamp/.git/objects/71\n",
      "\n",
      "\n",
      "The subfolders are: \n",
      "\n",
      "\n",
      "The files are: \n",
      "File: a7b6ff5099ea1a6a3401dc44ce1fcb50f300ca\n",
      "\n",
      "\n",
      "Currently looking at /Users/zacharymessinger/s/Education/udemy_courses/udemy_python_bootcamp/.git/objects/82\n",
      "\n",
      "\n",
      "The subfolders are: \n",
      "\n",
      "\n",
      "The files are: \n",
      "File: 8253fd0cca759a6cb0efd890a4137ef6eeff4d\n",
      "\n",
      "\n",
      "Currently looking at /Users/zacharymessinger/s/Education/udemy_courses/udemy_python_bootcamp/.git/objects/49\n",
      "\n",
      "\n",
      "The subfolders are: \n",
      "\n",
      "\n",
      "The files are: \n",
      "File: e3811de5ab02944a745706eeed11bf2d12a497\n",
      "\n",
      "\n",
      "Currently looking at /Users/zacharymessinger/s/Education/udemy_courses/udemy_python_bootcamp/.git/objects/2e\n",
      "\n",
      "\n",
      "The subfolders are: \n",
      "\n",
      "\n",
      "The files are: \n",
      "File: 634ac98bf9b8079683418d0e5c88537676d075\n",
      "\n",
      "\n",
      "Currently looking at /Users/zacharymessinger/s/Education/udemy_courses/udemy_python_bootcamp/.git/objects/47\n",
      "\n",
      "\n",
      "The subfolders are: \n",
      "\n",
      "\n",
      "The files are: \n",
      "File: 893900787326d6172747493005bee3605b729d\n",
      "\n",
      "\n",
      "Currently looking at /Users/zacharymessinger/s/Education/udemy_courses/udemy_python_bootcamp/.git/objects/78\n",
      "\n",
      "\n",
      "The subfolders are: \n",
      "\n",
      "\n",
      "The files are: \n",
      "File: 40030f88feb66a828b5cc75572a06720cf7283\n",
      "File: 109202e226e227d2354256d238218c016e62fd\n",
      "\n",
      "\n",
      "Currently looking at /Users/zacharymessinger/s/Education/udemy_courses/udemy_python_bootcamp/.git/objects/13\n",
      "\n",
      "\n",
      "The subfolders are: \n",
      "\n",
      "\n",
      "The files are: \n",
      "File: 9de1323a5c3979864d5f00e1ffc4f3ae5ae1df\n",
      "File: 23ad39051bdcdd3390f4861ef683a0f26b43d5\n",
      "\n",
      "\n",
      "Currently looking at /Users/zacharymessinger/s/Education/udemy_courses/udemy_python_bootcamp/.git/objects/7f\n",
      "\n",
      "\n",
      "The subfolders are: \n",
      "\n",
      "\n",
      "The files are: \n",
      "File: f50741a3723355beb3c9610cd05a4ba4029d25\n",
      "File: 12d15643c9b678f0759318b9db850e5120528e\n",
      "File: a46f5c3d871967a54e886c255c4f06d5e26854\n",
      "\n",
      "\n",
      "Currently looking at /Users/zacharymessinger/s/Education/udemy_courses/udemy_python_bootcamp/.git/objects/7a\n",
      "\n",
      "\n",
      "The subfolders are: \n",
      "\n",
      "\n",
      "The files are: \n",
      "File: 74c0907063695874701955b3e44655fd8757c9\n",
      "File: 6adcf0543e563ada6a18a85120fb28d848675b\n",
      "\n",
      "\n",
      "Currently looking at /Users/zacharymessinger/s/Education/udemy_courses/udemy_python_bootcamp/.git/objects/14\n",
      "\n",
      "\n",
      "The subfolders are: \n",
      "\n",
      "\n",
      "The files are: \n",
      "File: a240567935c56216065ff304b61d8e8d46f04c\n",
      "\n",
      "\n",
      "Currently looking at /Users/zacharymessinger/s/Education/udemy_courses/udemy_python_bootcamp/.git/objects/8e\n",
      "\n",
      "\n",
      "The subfolders are: \n",
      "\n",
      "\n",
      "The files are: \n",
      "File: fc429e734a7c63c793ca97a4f69d2ffd1a571c\n",
      "\n",
      "\n",
      "Currently looking at /Users/zacharymessinger/s/Education/udemy_courses/udemy_python_bootcamp/.git/info\n",
      "\n",
      "\n",
      "The subfolders are: \n",
      "\n",
      "\n",
      "The files are: \n",
      "File: exclude\n",
      "\n",
      "\n",
      "Currently looking at /Users/zacharymessinger/s/Education/udemy_courses/udemy_python_bootcamp/.git/logs\n",
      "\n",
      "\n",
      "The subfolders are: \n",
      "Subfolder: refs\n",
      "\n",
      "\n",
      "The files are: \n",
      "File: HEAD\n",
      "\n",
      "\n",
      "Currently looking at /Users/zacharymessinger/s/Education/udemy_courses/udemy_python_bootcamp/.git/logs/refs\n",
      "\n",
      "\n",
      "The subfolders are: \n",
      "Subfolder: heads\n",
      "Subfolder: remotes\n",
      "\n",
      "\n",
      "The files are: \n",
      "\n",
      "\n",
      "Currently looking at /Users/zacharymessinger/s/Education/udemy_courses/udemy_python_bootcamp/.git/logs/refs/heads\n",
      "\n",
      "\n",
      "The subfolders are: \n",
      "\n",
      "\n",
      "The files are: \n",
      "File: main\n",
      "\n",
      "\n",
      "Currently looking at /Users/zacharymessinger/s/Education/udemy_courses/udemy_python_bootcamp/.git/logs/refs/remotes\n",
      "\n",
      "\n",
      "The subfolders are: \n",
      "Subfolder: origin\n",
      "\n",
      "\n",
      "The files are: \n",
      "\n",
      "\n",
      "Currently looking at /Users/zacharymessinger/s/Education/udemy_courses/udemy_python_bootcamp/.git/logs/refs/remotes/origin\n",
      "\n",
      "\n",
      "The subfolders are: \n",
      "\n",
      "\n",
      "The files are: \n",
      "File: main\n",
      "\n",
      "\n",
      "Currently looking at /Users/zacharymessinger/s/Education/udemy_courses/udemy_python_bootcamp/.git/hooks\n",
      "\n",
      "\n",
      "The subfolders are: \n",
      "\n",
      "\n",
      "The files are: \n",
      "File: commit-msg.sample\n",
      "File: pre-rebase.sample\n",
      "File: pre-commit.sample\n",
      "File: applypatch-msg.sample\n",
      "File: fsmonitor-watchman.sample\n",
      "File: pre-receive.sample\n",
      "File: prepare-commit-msg.sample\n",
      "File: post-update.sample\n",
      "File: pre-merge-commit.sample\n",
      "File: pre-applypatch.sample\n",
      "File: pre-push.sample\n",
      "File: update.sample\n",
      "File: push-to-checkout.sample\n",
      "\n",
      "\n",
      "Currently looking at /Users/zacharymessinger/s/Education/udemy_courses/udemy_python_bootcamp/.git/refs\n",
      "\n",
      "\n",
      "The subfolders are: \n",
      "Subfolder: heads\n",
      "Subfolder: tags\n",
      "Subfolder: remotes\n",
      "\n",
      "\n",
      "The files are: \n",
      "\n",
      "\n",
      "Currently looking at /Users/zacharymessinger/s/Education/udemy_courses/udemy_python_bootcamp/.git/refs/heads\n",
      "\n",
      "\n",
      "The subfolders are: \n",
      "\n",
      "\n",
      "The files are: \n",
      "File: main\n",
      "\n",
      "\n",
      "Currently looking at /Users/zacharymessinger/s/Education/udemy_courses/udemy_python_bootcamp/.git/refs/tags\n",
      "\n",
      "\n",
      "The subfolders are: \n",
      "\n",
      "\n",
      "The files are: \n",
      "\n",
      "\n",
      "Currently looking at /Users/zacharymessinger/s/Education/udemy_courses/udemy_python_bootcamp/.git/refs/remotes\n",
      "\n",
      "\n",
      "The subfolders are: \n",
      "Subfolder: origin\n",
      "\n",
      "\n",
      "The files are: \n",
      "\n",
      "\n",
      "Currently looking at /Users/zacharymessinger/s/Education/udemy_courses/udemy_python_bootcamp/.git/refs/remotes/origin\n",
      "\n",
      "\n",
      "The subfolders are: \n",
      "\n",
      "\n",
      "The files are: \n",
      "File: main\n",
      "\n",
      "\n",
      "Currently looking at /Users/zacharymessinger/s/Education/udemy_courses/udemy_python_bootcamp/02_methods_and_functions\n",
      "\n",
      "\n",
      "The subfolders are: \n",
      "Subfolder: .ipynb_checkpoints\n",
      "\n",
      "\n",
      "The files are: \n",
      "File: 02_functions_practice.ipynb\n",
      "File: 02_notes.ipynb\n",
      "File: 02_functions_homework.ipynb\n",
      "\n",
      "\n",
      "Currently looking at /Users/zacharymessinger/s/Education/udemy_courses/udemy_python_bootcamp/02_methods_and_functions/.ipynb_checkpoints\n",
      "\n",
      "\n",
      "The subfolders are: \n",
      "\n",
      "\n",
      "The files are: \n",
      "File: 02_functions_homework-checkpoint.ipynb\n",
      "File: 02_functions_practice-checkpoint.ipynb\n",
      "File: 02_notes-checkpoint.ipynb\n",
      "\n",
      "\n"
     ]
    }
   ],
   "source": [
    "file_path = \"/Users/zacharymessinger/s/Education/udemy_courses/udemy_python_bootcamp/\"\n",
    "for folder, sub_folders, files in os.walk(file_path):\n",
    "    print(f\"Currently looking at {folder}\")\n",
    "    print(\"\\n\")\n",
    "    print(\"The subfolders are: \")\n",
    "    for sub_fold in sub_folders:\n",
    "        print(f\"Subfolder: {sub_fold}\")\n",
    "    \n",
    "    print(\"\\n\")\n",
    "    print(\"The files are: \")\n",
    "    for f in files:\n",
    "        print(f\"File: {f}\")\n",
    "    print(\"\\n\")"
   ]
  },
  {
   "cell_type": "markdown",
   "id": "6b5ac9bd",
   "metadata": {},
   "source": [
    "# 3. Datetime Module"
   ]
  },
  {
   "cell_type": "code",
   "execution_count": 64,
   "id": "68a1150e",
   "metadata": {},
   "outputs": [],
   "source": [
    "import datetime"
   ]
  },
  {
   "cell_type": "code",
   "execution_count": 77,
   "id": "abde6130",
   "metadata": {},
   "outputs": [],
   "source": [
    "mytime = datetime.time(2, 20, 35) # Hour, Minutes, Seconds"
   ]
  },
  {
   "cell_type": "code",
   "execution_count": 79,
   "id": "355d5e11",
   "metadata": {},
   "outputs": [
    {
     "data": {
      "text/plain": [
       "35"
      ]
     },
     "execution_count": 79,
     "metadata": {},
     "output_type": "execute_result"
    }
   ],
   "source": [
    "mytime.second"
   ]
  },
  {
   "cell_type": "code",
   "execution_count": 80,
   "id": "06aae19e",
   "metadata": {},
   "outputs": [
    {
     "name": "stdout",
     "output_type": "stream",
     "text": [
      "02:20:35\n"
     ]
    }
   ],
   "source": [
    "print(mytime)"
   ]
  },
  {
   "cell_type": "code",
   "execution_count": 81,
   "id": "7f0f0963",
   "metadata": {},
   "outputs": [],
   "source": [
    "today = datetime.date.today()"
   ]
  },
  {
   "cell_type": "code",
   "execution_count": 82,
   "id": "1f25f5dd",
   "metadata": {},
   "outputs": [
    {
     "name": "stdout",
     "output_type": "stream",
     "text": [
      "2023-05-31\n"
     ]
    }
   ],
   "source": [
    "print(today)"
   ]
  },
  {
   "cell_type": "code",
   "execution_count": 83,
   "id": "9f0dc71e",
   "metadata": {},
   "outputs": [
    {
     "name": "stdout",
     "output_type": "stream",
     "text": [
      "2023\n",
      "5\n",
      "31\n"
     ]
    }
   ],
   "source": [
    "print(today.year)\n",
    "print(today.month)\n",
    "print(today.day)"
   ]
  },
  {
   "cell_type": "code",
   "execution_count": 84,
   "id": "7fd7d90a",
   "metadata": {},
   "outputs": [
    {
     "data": {
      "text/plain": [
       "'Wed May 31 00:00:00 2023'"
      ]
     },
     "execution_count": 84,
     "metadata": {},
     "output_type": "execute_result"
    }
   ],
   "source": [
    "today.ctime()"
   ]
  },
  {
   "cell_type": "code",
   "execution_count": 85,
   "id": "5546ec3a",
   "metadata": {},
   "outputs": [],
   "source": [
    "from datetime import datetime"
   ]
  },
  {
   "cell_type": "code",
   "execution_count": 88,
   "id": "3b8de3c2",
   "metadata": {},
   "outputs": [],
   "source": [
    "mydatetime = datetime(2021,10,3,14,20,1) # Year, Month, Day, Year, Hour, Second"
   ]
  },
  {
   "cell_type": "code",
   "execution_count": 89,
   "id": "4ad30366",
   "metadata": {},
   "outputs": [
    {
     "name": "stdout",
     "output_type": "stream",
     "text": [
      "2021-10-03 14:20:01\n"
     ]
    }
   ],
   "source": [
    "print(mydatetime)"
   ]
  },
  {
   "cell_type": "code",
   "execution_count": 90,
   "id": "14ca5181",
   "metadata": {},
   "outputs": [
    {
     "data": {
      "text/plain": [
       "datetime.datetime(2020, 10, 3, 14, 20, 1)"
      ]
     },
     "execution_count": 90,
     "metadata": {},
     "output_type": "execute_result"
    }
   ],
   "source": [
    "mydatetime.replace(year=2020)"
   ]
  },
  {
   "cell_type": "code",
   "execution_count": 91,
   "id": "c3b592fb",
   "metadata": {},
   "outputs": [],
   "source": [
    "from datetime import date"
   ]
  },
  {
   "cell_type": "code",
   "execution_count": 92,
   "id": "037982a3",
   "metadata": {},
   "outputs": [],
   "source": [
    "date1 = date(2021, 11, 3)\n",
    "date2 = date(2022, 11, 3)"
   ]
  },
  {
   "cell_type": "code",
   "execution_count": 97,
   "id": "a5d2d65e",
   "metadata": {},
   "outputs": [
    {
     "data": {
      "text/plain": [
       "-365"
      ]
     },
     "execution_count": 97,
     "metadata": {},
     "output_type": "execute_result"
    }
   ],
   "source": [
    "result = date1 - date2\n",
    "result.days"
   ]
  },
  {
   "cell_type": "code",
   "execution_count": 98,
   "id": "5b18fdb4",
   "metadata": {},
   "outputs": [],
   "source": [
    "datetime1 = datetime(2021,11,3,22,0)"
   ]
  },
  {
   "cell_type": "code",
   "execution_count": 99,
   "id": "2112dd6c",
   "metadata": {},
   "outputs": [],
   "source": [
    "datetime2 = datetime(2020,11,3,12,0)"
   ]
  },
  {
   "cell_type": "code",
   "execution_count": 100,
   "id": "6320892d",
   "metadata": {},
   "outputs": [
    {
     "data": {
      "text/plain": [
       "datetime.timedelta(days=365, seconds=36000)"
      ]
     },
     "execution_count": 100,
     "metadata": {},
     "output_type": "execute_result"
    }
   ],
   "source": [
    "datetime1 - datetime2"
   ]
  },
  {
   "cell_type": "markdown",
   "id": "bafe7617",
   "metadata": {},
   "source": [
    "# 4. Math & Random Modules"
   ]
  },
  {
   "cell_type": "code",
   "execution_count": 101,
   "id": "455fff08",
   "metadata": {},
   "outputs": [],
   "source": [
    "import math"
   ]
  },
  {
   "cell_type": "code",
   "execution_count": 102,
   "id": "4d7d0766",
   "metadata": {},
   "outputs": [
    {
     "name": "stdout",
     "output_type": "stream",
     "text": [
      "Help on module math:\n",
      "\n",
      "NAME\n",
      "    math\n",
      "\n",
      "MODULE REFERENCE\n",
      "    https://docs.python.org/3.10/library/math.html\n",
      "    \n",
      "    The following documentation is automatically generated from the Python\n",
      "    source files.  It may be incomplete, incorrect or include features that\n",
      "    are considered implementation detail and may vary between Python\n",
      "    implementations.  When in doubt, consult the module reference at the\n",
      "    location listed above.\n",
      "\n",
      "DESCRIPTION\n",
      "    This module provides access to the mathematical functions\n",
      "    defined by the C standard.\n",
      "\n",
      "FUNCTIONS\n",
      "    acos(x, /)\n",
      "        Return the arc cosine (measured in radians) of x.\n",
      "        \n",
      "        The result is between 0 and pi.\n",
      "    \n",
      "    acosh(x, /)\n",
      "        Return the inverse hyperbolic cosine of x.\n",
      "    \n",
      "    asin(x, /)\n",
      "        Return the arc sine (measured in radians) of x.\n",
      "        \n",
      "        The result is between -pi/2 and pi/2.\n",
      "    \n",
      "    asinh(x, /)\n",
      "        Return the inverse hyperbolic sine of x.\n",
      "    \n",
      "    atan(x, /)\n",
      "        Return the arc tangent (measured in radians) of x.\n",
      "        \n",
      "        The result is between -pi/2 and pi/2.\n",
      "    \n",
      "    atan2(y, x, /)\n",
      "        Return the arc tangent (measured in radians) of y/x.\n",
      "        \n",
      "        Unlike atan(y/x), the signs of both x and y are considered.\n",
      "    \n",
      "    atanh(x, /)\n",
      "        Return the inverse hyperbolic tangent of x.\n",
      "    \n",
      "    ceil(x, /)\n",
      "        Return the ceiling of x as an Integral.\n",
      "        \n",
      "        This is the smallest integer >= x.\n",
      "    \n",
      "    comb(n, k, /)\n",
      "        Number of ways to choose k items from n items without repetition and without order.\n",
      "        \n",
      "        Evaluates to n! / (k! * (n - k)!) when k <= n and evaluates\n",
      "        to zero when k > n.\n",
      "        \n",
      "        Also called the binomial coefficient because it is equivalent\n",
      "        to the coefficient of k-th term in polynomial expansion of the\n",
      "        expression (1 + x)**n.\n",
      "        \n",
      "        Raises TypeError if either of the arguments are not integers.\n",
      "        Raises ValueError if either of the arguments are negative.\n",
      "    \n",
      "    copysign(x, y, /)\n",
      "        Return a float with the magnitude (absolute value) of x but the sign of y.\n",
      "        \n",
      "        On platforms that support signed zeros, copysign(1.0, -0.0)\n",
      "        returns -1.0.\n",
      "    \n",
      "    cos(x, /)\n",
      "        Return the cosine of x (measured in radians).\n",
      "    \n",
      "    cosh(x, /)\n",
      "        Return the hyperbolic cosine of x.\n",
      "    \n",
      "    degrees(x, /)\n",
      "        Convert angle x from radians to degrees.\n",
      "    \n",
      "    dist(p, q, /)\n",
      "        Return the Euclidean distance between two points p and q.\n",
      "        \n",
      "        The points should be specified as sequences (or iterables) of\n",
      "        coordinates.  Both inputs must have the same dimension.\n",
      "        \n",
      "        Roughly equivalent to:\n",
      "            sqrt(sum((px - qx) ** 2.0 for px, qx in zip(p, q)))\n",
      "    \n",
      "    erf(x, /)\n",
      "        Error function at x.\n",
      "    \n",
      "    erfc(x, /)\n",
      "        Complementary error function at x.\n",
      "    \n",
      "    exp(x, /)\n",
      "        Return e raised to the power of x.\n",
      "    \n",
      "    expm1(x, /)\n",
      "        Return exp(x)-1.\n",
      "        \n",
      "        This function avoids the loss of precision involved in the direct evaluation of exp(x)-1 for small x.\n",
      "    \n",
      "    fabs(x, /)\n",
      "        Return the absolute value of the float x.\n",
      "    \n",
      "    factorial(x, /)\n",
      "        Find x!.\n",
      "        \n",
      "        Raise a ValueError if x is negative or non-integral.\n",
      "    \n",
      "    floor(x, /)\n",
      "        Return the floor of x as an Integral.\n",
      "        \n",
      "        This is the largest integer <= x.\n",
      "    \n",
      "    fmod(x, y, /)\n",
      "        Return fmod(x, y), according to platform C.\n",
      "        \n",
      "        x % y may differ.\n",
      "    \n",
      "    frexp(x, /)\n",
      "        Return the mantissa and exponent of x, as pair (m, e).\n",
      "        \n",
      "        m is a float and e is an int, such that x = m * 2.**e.\n",
      "        If x is 0, m and e are both 0.  Else 0.5 <= abs(m) < 1.0.\n",
      "    \n",
      "    fsum(seq, /)\n",
      "        Return an accurate floating point sum of values in the iterable seq.\n",
      "        \n",
      "        Assumes IEEE-754 floating point arithmetic.\n",
      "    \n",
      "    gamma(x, /)\n",
      "        Gamma function at x.\n",
      "    \n",
      "    gcd(*integers)\n",
      "        Greatest Common Divisor.\n",
      "    \n",
      "    hypot(...)\n",
      "        hypot(*coordinates) -> value\n",
      "        \n",
      "        Multidimensional Euclidean distance from the origin to a point.\n",
      "        \n",
      "        Roughly equivalent to:\n",
      "            sqrt(sum(x**2 for x in coordinates))\n",
      "        \n",
      "        For a two dimensional point (x, y), gives the hypotenuse\n",
      "        using the Pythagorean theorem:  sqrt(x*x + y*y).\n",
      "        \n",
      "        For example, the hypotenuse of a 3/4/5 right triangle is:\n",
      "        \n",
      "            >>> hypot(3.0, 4.0)\n",
      "            5.0\n",
      "    \n",
      "    isclose(a, b, *, rel_tol=1e-09, abs_tol=0.0)\n",
      "        Determine whether two floating point numbers are close in value.\n",
      "        \n",
      "          rel_tol\n",
      "            maximum difference for being considered \"close\", relative to the\n",
      "            magnitude of the input values\n",
      "          abs_tol\n",
      "            maximum difference for being considered \"close\", regardless of the\n",
      "            magnitude of the input values\n",
      "        \n",
      "        Return True if a is close in value to b, and False otherwise.\n",
      "        \n",
      "        For the values to be considered close, the difference between them\n",
      "        must be smaller than at least one of the tolerances.\n",
      "        \n",
      "        -inf, inf and NaN behave similarly to the IEEE 754 Standard.  That\n",
      "        is, NaN is not close to anything, even itself.  inf and -inf are\n",
      "        only close to themselves.\n",
      "    \n",
      "    isfinite(x, /)\n",
      "        Return True if x is neither an infinity nor a NaN, and False otherwise.\n",
      "    \n",
      "    isinf(x, /)\n",
      "        Return True if x is a positive or negative infinity, and False otherwise.\n",
      "    \n",
      "    isnan(x, /)\n",
      "        Return True if x is a NaN (not a number), and False otherwise.\n",
      "    \n",
      "    isqrt(n, /)\n",
      "        Return the integer part of the square root of the input.\n",
      "    \n",
      "    lcm(*integers)\n",
      "        Least Common Multiple.\n",
      "    \n",
      "    ldexp(x, i, /)\n",
      "        Return x * (2**i).\n",
      "        \n",
      "        This is essentially the inverse of frexp().\n",
      "    \n",
      "    lgamma(x, /)\n",
      "        Natural logarithm of absolute value of Gamma function at x.\n",
      "    \n",
      "    log(...)\n",
      "        log(x, [base=math.e])\n",
      "        Return the logarithm of x to the given base.\n",
      "        \n",
      "        If the base not specified, returns the natural logarithm (base e) of x.\n",
      "    \n",
      "    log10(x, /)\n",
      "        Return the base 10 logarithm of x.\n",
      "    \n",
      "    log1p(x, /)\n",
      "        Return the natural logarithm of 1+x (base e).\n",
      "        \n",
      "        The result is computed in a way which is accurate for x near zero.\n",
      "    \n",
      "    log2(x, /)\n",
      "        Return the base 2 logarithm of x.\n",
      "    \n",
      "    modf(x, /)\n",
      "        Return the fractional and integer parts of x.\n",
      "        \n",
      "        Both results carry the sign of x and are floats.\n",
      "    \n",
      "    nextafter(x, y, /)\n",
      "        Return the next floating-point value after x towards y.\n",
      "    \n",
      "    perm(n, k=None, /)\n",
      "        Number of ways to choose k items from n items without repetition and with order.\n",
      "        \n",
      "        Evaluates to n! / (n - k)! when k <= n and evaluates\n",
      "        to zero when k > n.\n",
      "        \n",
      "        If k is not specified or is None, then k defaults to n\n",
      "        and the function returns n!.\n",
      "        \n",
      "        Raises TypeError if either of the arguments are not integers.\n",
      "        Raises ValueError if either of the arguments are negative.\n",
      "    \n",
      "    pow(x, y, /)\n",
      "        Return x**y (x to the power of y).\n",
      "    \n",
      "    prod(iterable, /, *, start=1)\n",
      "        Calculate the product of all the elements in the input iterable.\n",
      "        \n",
      "        The default start value for the product is 1.\n",
      "        \n",
      "        When the iterable is empty, return the start value.  This function is\n",
      "        intended specifically for use with numeric values and may reject\n",
      "        non-numeric types.\n",
      "    \n",
      "    radians(x, /)\n",
      "        Convert angle x from degrees to radians.\n",
      "    \n",
      "    remainder(x, y, /)\n",
      "        Difference between x and the closest integer multiple of y.\n",
      "        \n",
      "        Return x - n*y where n*y is the closest integer multiple of y.\n",
      "        In the case where x is exactly halfway between two multiples of\n",
      "        y, the nearest even value of n is used. The result is always exact.\n",
      "    \n",
      "    sin(x, /)\n",
      "        Return the sine of x (measured in radians).\n",
      "    \n",
      "    sinh(x, /)\n",
      "        Return the hyperbolic sine of x.\n",
      "    \n",
      "    sqrt(x, /)\n",
      "        Return the square root of x.\n",
      "    \n",
      "    tan(x, /)\n",
      "        Return the tangent of x (measured in radians).\n",
      "    \n",
      "    tanh(x, /)\n",
      "        Return the hyperbolic tangent of x.\n",
      "    \n",
      "    trunc(x, /)\n",
      "        Truncates the Real x to the nearest Integral toward 0.\n",
      "        \n",
      "        Uses the __trunc__ magic method.\n",
      "    \n",
      "    ulp(x, /)\n",
      "        Return the value of the least significant bit of the float x.\n",
      "\n",
      "DATA\n",
      "    e = 2.718281828459045\n",
      "    inf = inf\n",
      "    nan = nan\n",
      "    pi = 3.141592653589793\n",
      "    tau = 6.283185307179586\n",
      "\n",
      "FILE\n",
      "    /Users/zacharymessinger/anaconda3/lib/python3.10/lib-dynload/math.cpython-310-darwin.so\n",
      "\n",
      "\n"
     ]
    }
   ],
   "source": [
    "help(math)"
   ]
  },
  {
   "cell_type": "code",
   "execution_count": 104,
   "id": "c15a9ca7",
   "metadata": {},
   "outputs": [],
   "source": [
    "value = 4.35"
   ]
  },
  {
   "cell_type": "code",
   "execution_count": 105,
   "id": "1d1a6528",
   "metadata": {},
   "outputs": [
    {
     "data": {
      "text/plain": [
       "4"
      ]
     },
     "execution_count": 105,
     "metadata": {},
     "output_type": "execute_result"
    }
   ],
   "source": [
    "math.floor(value)"
   ]
  },
  {
   "cell_type": "code",
   "execution_count": 107,
   "id": "eede1bb5",
   "metadata": {},
   "outputs": [
    {
     "data": {
      "text/plain": [
       "5"
      ]
     },
     "execution_count": 107,
     "metadata": {},
     "output_type": "execute_result"
    }
   ],
   "source": [
    "math.ceil(value)"
   ]
  },
  {
   "cell_type": "code",
   "execution_count": 108,
   "id": "abe0e4ff",
   "metadata": {},
   "outputs": [
    {
     "data": {
      "text/plain": [
       "4"
      ]
     },
     "execution_count": 108,
     "metadata": {},
     "output_type": "execute_result"
    }
   ],
   "source": [
    "round(4.35)"
   ]
  },
  {
   "cell_type": "code",
   "execution_count": 111,
   "id": "0616a97c",
   "metadata": {},
   "outputs": [
    {
     "data": {
      "text/plain": [
       "4"
      ]
     },
     "execution_count": 111,
     "metadata": {},
     "output_type": "execute_result"
    }
   ],
   "source": [
    "round(4.5) # Will round to all evens or all odds"
   ]
  },
  {
   "cell_type": "code",
   "execution_count": 115,
   "id": "cd5b4fa4",
   "metadata": {},
   "outputs": [
    {
     "data": {
      "text/plain": [
       "3.141592653589793"
      ]
     },
     "execution_count": 115,
     "metadata": {},
     "output_type": "execute_result"
    }
   ],
   "source": [
    "math.pi\n",
    "\n",
    "# OR\n",
    "\n",
    "from math import pi"
   ]
  },
  {
   "cell_type": "code",
   "execution_count": 116,
   "id": "09494512",
   "metadata": {},
   "outputs": [
    {
     "data": {
      "text/plain": [
       "2.718281828459045"
      ]
     },
     "execution_count": 116,
     "metadata": {},
     "output_type": "execute_result"
    }
   ],
   "source": [
    "math.e"
   ]
  },
  {
   "cell_type": "code",
   "execution_count": 117,
   "id": "10be44ae",
   "metadata": {},
   "outputs": [
    {
     "data": {
      "text/plain": [
       "inf"
      ]
     },
     "execution_count": 117,
     "metadata": {},
     "output_type": "execute_result"
    }
   ],
   "source": [
    "math.inf"
   ]
  },
  {
   "cell_type": "code",
   "execution_count": 118,
   "id": "1b814465",
   "metadata": {},
   "outputs": [
    {
     "data": {
      "text/plain": [
       "nan"
      ]
     },
     "execution_count": 118,
     "metadata": {},
     "output_type": "execute_result"
    }
   ],
   "source": [
    "math.nan"
   ]
  },
  {
   "cell_type": "code",
   "execution_count": 119,
   "id": "e8f69b0a",
   "metadata": {},
   "outputs": [
    {
     "data": {
      "text/plain": [
       "1.0"
      ]
     },
     "execution_count": 119,
     "metadata": {},
     "output_type": "execute_result"
    }
   ],
   "source": [
    "math.log(math.e)"
   ]
  },
  {
   "cell_type": "code",
   "execution_count": 120,
   "id": "d93f1b50",
   "metadata": {},
   "outputs": [
    {
     "data": {
      "text/plain": [
       "2.0"
      ]
     },
     "execution_count": 120,
     "metadata": {},
     "output_type": "execute_result"
    }
   ],
   "source": [
    "math.log(100, 10)"
   ]
  },
  {
   "cell_type": "code",
   "execution_count": 121,
   "id": "27e3b695",
   "metadata": {},
   "outputs": [
    {
     "data": {
      "text/plain": [
       "90.0"
      ]
     },
     "execution_count": 121,
     "metadata": {},
     "output_type": "execute_result"
    }
   ],
   "source": [
    "math.degrees(pi/2)"
   ]
  },
  {
   "cell_type": "code",
   "execution_count": 125,
   "id": "dc374ab7",
   "metadata": {},
   "outputs": [],
   "source": [
    "import random"
   ]
  },
  {
   "cell_type": "code",
   "execution_count": 128,
   "id": "f3153d0b",
   "metadata": {},
   "outputs": [
    {
     "data": {
      "text/plain": [
       "84"
      ]
     },
     "execution_count": 128,
     "metadata": {},
     "output_type": "execute_result"
    }
   ],
   "source": [
    "random.randint(0,100)"
   ]
  },
  {
   "cell_type": "code",
   "execution_count": 133,
   "id": "1a38a05b",
   "metadata": {},
   "outputs": [
    {
     "name": "stdout",
     "output_type": "stream",
     "text": [
      "74\n",
      "24\n"
     ]
    }
   ],
   "source": [
    "# Forces a certain sequence of random numbers\n",
    "random.seed(101)\n",
    "\n",
    "print(random.randint(0,100))\n",
    "print(random.randint(0,100))"
   ]
  },
  {
   "cell_type": "code",
   "execution_count": 136,
   "id": "f5776013",
   "metadata": {},
   "outputs": [
    {
     "data": {
      "text/plain": [
       "11"
      ]
     },
     "execution_count": 136,
     "metadata": {},
     "output_type": "execute_result"
    }
   ],
   "source": [
    "mylist = list(range(0,20))\n",
    "random.choice(mylist)"
   ]
  },
  {
   "cell_type": "code",
   "execution_count": 141,
   "id": "40530b85",
   "metadata": {},
   "outputs": [
    {
     "data": {
      "text/plain": [
       "[6, 2, 16, 13, 13, 17, 7, 7, 8, 8]"
      ]
     },
     "execution_count": 141,
     "metadata": {},
     "output_type": "execute_result"
    }
   ],
   "source": [
    "# SAMPLE WITH REPLACEMENT (allows same numbers to be picked)\n",
    "random.choices(population=mylist, k=10)"
   ]
  },
  {
   "cell_type": "code",
   "execution_count": 142,
   "id": "99673c67",
   "metadata": {},
   "outputs": [
    {
     "data": {
      "text/plain": [
       "[13, 0, 14, 6, 3, 5, 12, 18, 17, 11]"
      ]
     },
     "execution_count": 142,
     "metadata": {},
     "output_type": "execute_result"
    }
   ],
   "source": [
    "# SAMPLE WITHOUT REPLACEMENT\n",
    "random.sample(population=mylist, k=10)"
   ]
  },
  {
   "cell_type": "code",
   "execution_count": 145,
   "id": "197c7878",
   "metadata": {},
   "outputs": [
    {
     "data": {
      "text/plain": [
       "[9, 0, 7, 14, 15, 19, 2, 12, 17, 8, 16, 6, 13, 11, 18, 10, 4, 5, 1, 3]"
      ]
     },
     "execution_count": 145,
     "metadata": {},
     "output_type": "execute_result"
    }
   ],
   "source": [
    "random.shuffle(mylist)\n",
    "mylist"
   ]
  },
  {
   "cell_type": "code",
   "execution_count": 148,
   "id": "cb9a8c37",
   "metadata": {},
   "outputs": [
    {
     "data": {
      "text/plain": [
       "11.21926421254128"
      ]
     },
     "execution_count": 148,
     "metadata": {},
     "output_type": "execute_result"
    }
   ],
   "source": [
    "random.uniform(a=0, b=100)"
   ]
  },
  {
   "cell_type": "code",
   "execution_count": 151,
   "id": "d4e69bdc",
   "metadata": {},
   "outputs": [
    {
     "data": {
      "text/plain": [
       "-0.18874426636508249"
      ]
     },
     "execution_count": 151,
     "metadata": {},
     "output_type": "execute_result"
    }
   ],
   "source": [
    "random.gauss(mu=0, sigma=1)"
   ]
  },
  {
   "cell_type": "code",
   "execution_count": null,
   "id": "5e549a96",
   "metadata": {},
   "outputs": [],
   "source": [
    "# NUMPY IS BETTER FOR DATA SCIENCE"
   ]
  },
  {
   "cell_type": "markdown",
   "id": "ea94e1f0",
   "metadata": {},
   "source": [
    "# 5. Python Debugger"
   ]
  },
  {
   "cell_type": "code",
   "execution_count": 153,
   "id": "a3c1611f",
   "metadata": {},
   "outputs": [],
   "source": [
    "x = [1,2,3]\n",
    "y = 2\n",
    "z = 3"
   ]
  },
  {
   "cell_type": "code",
   "execution_count": 154,
   "id": "7762f41c",
   "metadata": {},
   "outputs": [],
   "source": [
    "# Similar to JS 'debugger'\n",
    "import pdb"
   ]
  },
  {
   "cell_type": "code",
   "execution_count": 157,
   "id": "c7e0b5de",
   "metadata": {},
   "outputs": [
    {
     "name": "stdout",
     "output_type": "stream",
     "text": [
      "--Return--\n",
      "None\n",
      "> \u001b[0;32m/var/folders/vn/x8v3rrm528n3gfr1x5x25lg80000gn/T/ipykernel_11446/2230004082.py\u001b[0m(6)\u001b[0;36m<module>\u001b[0;34m()\u001b[0m\n",
      "\u001b[0;32m      3 \u001b[0;31m\u001b[0mz\u001b[0m \u001b[0;34m=\u001b[0m \u001b[0;36m3\u001b[0m\u001b[0;34m\u001b[0m\u001b[0;34m\u001b[0m\u001b[0m\n",
      "\u001b[0m\u001b[0;32m      4 \u001b[0;31m\u001b[0;34m\u001b[0m\u001b[0m\n",
      "\u001b[0m\u001b[0;32m      5 \u001b[0;31m\u001b[0mresult_one\u001b[0m \u001b[0;34m=\u001b[0m \u001b[0my\u001b[0m \u001b[0;34m+\u001b[0m \u001b[0mz\u001b[0m\u001b[0;34m\u001b[0m\u001b[0;34m\u001b[0m\u001b[0m\n",
      "\u001b[0m\u001b[0;32m----> 6 \u001b[0;31m\u001b[0mpdb\u001b[0m\u001b[0;34m.\u001b[0m\u001b[0mset_trace\u001b[0m\u001b[0;34m(\u001b[0m\u001b[0;34m)\u001b[0m\u001b[0;34m\u001b[0m\u001b[0;34m\u001b[0m\u001b[0m\n",
      "\u001b[0m\u001b[0;32m      7 \u001b[0;31m\u001b[0mresult_two\u001b[0m \u001b[0;34m=\u001b[0m \u001b[0my\u001b[0m \u001b[0;34m+\u001b[0m \u001b[0mx\u001b[0m\u001b[0;34m\u001b[0m\u001b[0;34m\u001b[0m\u001b[0m\n",
      "\u001b[0m\n",
      "ipdb> y + x\n",
      "*** TypeError: unsupported operand type(s) for +: 'int' and 'list'\n",
      "ipdb>  exit\n"
     ]
    }
   ],
   "source": [
    "x = [1,2,3]\n",
    "y = 2\n",
    "z = 3\n",
    "\n",
    "result_one = y + z\n",
    "pdb.set_trace()\n",
    "result_two = y + x"
   ]
  },
  {
   "cell_type": "markdown",
   "id": "c177d017",
   "metadata": {},
   "source": [
    "# 6. Regular Expressions"
   ]
  },
  {
   "cell_type": "code",
   "execution_count": 164,
   "id": "3d675654",
   "metadata": {},
   "outputs": [],
   "source": [
    "import re"
   ]
  },
  {
   "cell_type": "code",
   "execution_count": 165,
   "id": "faed022e",
   "metadata": {},
   "outputs": [
    {
     "data": {
      "text/plain": [
       "True"
      ]
     },
     "execution_count": 165,
     "metadata": {},
     "output_type": "execute_result"
    }
   ],
   "source": [
    "text = \"The agents phone number is 408-555-1234\"\n",
    "'phone' in text"
   ]
  },
  {
   "cell_type": "code",
   "execution_count": 166,
   "id": "7488198f",
   "metadata": {},
   "outputs": [],
   "source": [
    "pattern = 'phone'"
   ]
  },
  {
   "cell_type": "code",
   "execution_count": 169,
   "id": "9823679d",
   "metadata": {},
   "outputs": [
    {
     "data": {
      "text/plain": [
       "<re.Match object; span=(11, 16), match='phone'>"
      ]
     },
     "execution_count": 169,
     "metadata": {},
     "output_type": "execute_result"
    }
   ],
   "source": [
    "match = re.search(pattern,text)\n",
    "match"
   ]
  },
  {
   "cell_type": "code",
   "execution_count": 170,
   "id": "76d48e4c",
   "metadata": {},
   "outputs": [
    {
     "data": {
      "text/plain": [
       "(11, 16)"
      ]
     },
     "execution_count": 170,
     "metadata": {},
     "output_type": "execute_result"
    }
   ],
   "source": [
    "match.span()"
   ]
  },
  {
   "cell_type": "code",
   "execution_count": 171,
   "id": "282c130a",
   "metadata": {},
   "outputs": [
    {
     "data": {
      "text/plain": [
       "11"
      ]
     },
     "execution_count": 171,
     "metadata": {},
     "output_type": "execute_result"
    }
   ],
   "source": [
    "match.start() # Returns start index position"
   ]
  },
  {
   "cell_type": "code",
   "execution_count": 173,
   "id": "5547e20c",
   "metadata": {},
   "outputs": [
    {
     "data": {
      "text/plain": [
       "16"
      ]
     },
     "execution_count": 173,
     "metadata": {},
     "output_type": "execute_result"
    }
   ],
   "source": [
    "match.end() # Returns end index position"
   ]
  },
  {
   "cell_type": "code",
   "execution_count": 178,
   "id": "e1463172",
   "metadata": {},
   "outputs": [
    {
     "name": "stdout",
     "output_type": "stream",
     "text": [
      "['phone', 'phone']\n",
      "<re.Match object; span=(3, 8), match='phone'>\n",
      "<re.Match object; span=(18, 23), match='phone'>\n"
     ]
    }
   ],
   "source": [
    "text = \"My phone once, my phone twice\"\n",
    "matches = re.findall('phone', text)\n",
    "print(matches)\n",
    "\n",
    "for match in re.finditer('phone', text):\n",
    "    print(match)"
   ]
  },
  {
   "cell_type": "code",
   "execution_count": 193,
   "id": "1d7df0be",
   "metadata": {},
   "outputs": [
    {
     "data": {
      "text/plain": [
       "<re.Match object; span=(19, 31), match='408-555-1234'>"
      ]
     },
     "execution_count": 193,
     "metadata": {},
     "output_type": "execute_result"
    }
   ],
   "source": [
    "text = \"My phone number is 408-555-1234\"\n",
    "# pattern = r'\\d+-\\d+-\\d+'\n",
    "pattern = r'\\d{3}-\\d{3}-\\d{4}$'\n",
    "phone = re.search(pattern, text)\n",
    "phone"
   ]
  },
  {
   "cell_type": "code",
   "execution_count": 201,
   "id": "d556bd69",
   "metadata": {},
   "outputs": [
    {
     "name": "stdout",
     "output_type": "stream",
     "text": [
      "408-555-1234\n"
     ]
    }
   ],
   "source": [
    "phone_pattern = re.compile(r'(\\d{3})-(\\d{3})-(\\d{4})')\n",
    "results = re.search(phone_pattern,text)\n",
    "print(results.group())"
   ]
  },
  {
   "cell_type": "code",
   "execution_count": 204,
   "id": "4b82e487",
   "metadata": {},
   "outputs": [],
   "source": [
    "string = \"The cat in the hat went splat\""
   ]
  },
  {
   "cell_type": "code",
   "execution_count": 205,
   "id": "306dbcbb",
   "metadata": {},
   "outputs": [
    {
     "data": {
      "text/plain": [
       "['cat', 'hat', 'lat']"
      ]
     },
     "execution_count": 205,
     "metadata": {},
     "output_type": "execute_result"
    }
   ],
   "source": [
    "re.findall(r'.at', string)"
   ]
  },
  {
   "cell_type": "code",
   "execution_count": 214,
   "id": "a7001029",
   "metadata": {},
   "outputs": [
    {
     "data": {
      "text/plain": [
       "['The']"
      ]
     },
     "execution_count": 214,
     "metadata": {},
     "output_type": "execute_result"
    }
   ],
   "source": [
    "re.findall(r'^\\w+', string)"
   ]
  },
  {
   "cell_type": "code",
   "execution_count": 215,
   "id": "8b3762d1",
   "metadata": {},
   "outputs": [],
   "source": [
    "phrase = 'There are 3 numbers 34 inside this sentence'"
   ]
  },
  {
   "cell_type": "code",
   "execution_count": 216,
   "id": "452e5dbf",
   "metadata": {},
   "outputs": [],
   "source": [
    "pattern = r'[^\\d]'"
   ]
  },
  {
   "cell_type": "code",
   "execution_count": 218,
   "id": "721de197",
   "metadata": {},
   "outputs": [
    {
     "data": {
      "text/plain": [
       "['T',\n",
       " 'h',\n",
       " 'e',\n",
       " 'r',\n",
       " 'e',\n",
       " ' ',\n",
       " 'a',\n",
       " 'r',\n",
       " 'e',\n",
       " ' ',\n",
       " ' ',\n",
       " 'n',\n",
       " 'u',\n",
       " 'm',\n",
       " 'b',\n",
       " 'e',\n",
       " 'r',\n",
       " 's',\n",
       " ' ',\n",
       " ' ',\n",
       " 'i',\n",
       " 'n',\n",
       " 's',\n",
       " 'i',\n",
       " 'd',\n",
       " 'e',\n",
       " ' ',\n",
       " 't',\n",
       " 'h',\n",
       " 'i',\n",
       " 's',\n",
       " ' ',\n",
       " 's',\n",
       " 'e',\n",
       " 'n',\n",
       " 't',\n",
       " 'e',\n",
       " 'n',\n",
       " 'c',\n",
       " 'e']"
      ]
     },
     "execution_count": 218,
     "metadata": {},
     "output_type": "execute_result"
    }
   ],
   "source": [
    "re.findall(pattern,phrase)"
   ]
  },
  {
   "cell_type": "code",
   "execution_count": 222,
   "id": "d94aa033",
   "metadata": {},
   "outputs": [
    {
     "data": {
      "text/plain": [
       "'This is a string  But it has punctation  How can we remove it'"
      ]
     },
     "execution_count": 222,
     "metadata": {},
     "output_type": "execute_result"
    }
   ],
   "source": [
    "# Remove puncuation \n",
    "test_phrase = \"This is a string! But it has punctation. How can we remove it?\"\n",
    "results = re.findall(r'[^!.?]+', test_phrase)\n",
    "' '.join(results)"
   ]
  },
  {
   "cell_type": "code",
   "execution_count": 225,
   "id": "b0f5efbd",
   "metadata": {},
   "outputs": [
    {
     "data": {
      "text/plain": [
       "['hypen-words', 'long-ish']"
      ]
     },
     "execution_count": 225,
     "metadata": {},
     "output_type": "execute_result"
    }
   ],
   "source": [
    "text = \"Only find the hypen-words in this sentence. But you do not know how long-ish they are\"\n",
    "pattern = r'[\\w]+' # Find all words\n",
    "hyphens = r'[\\w]+-[\\w]+'\n",
    "results = re.findall(hyphens, text)\n",
    "results"
   ]
  },
  {
   "cell_type": "markdown",
   "id": "e92925dd",
   "metadata": {},
   "source": [
    "# 7. Timing Your Code"
   ]
  },
  {
   "cell_type": "code",
   "execution_count": 227,
   "id": "aadf4f25",
   "metadata": {},
   "outputs": [],
   "source": [
    "def func_one(n):\n",
    "    return [str(num) for num in range(n)]"
   ]
  },
  {
   "cell_type": "code",
   "execution_count": 228,
   "id": "f5666dc3",
   "metadata": {},
   "outputs": [
    {
     "data": {
      "text/plain": [
       "['0', '1', '2', '3', '4', '5', '6', '7', '8', '9']"
      ]
     },
     "execution_count": 228,
     "metadata": {},
     "output_type": "execute_result"
    }
   ],
   "source": [
    "func_one(10)"
   ]
  },
  {
   "cell_type": "code",
   "execution_count": 229,
   "id": "81e289c4",
   "metadata": {},
   "outputs": [],
   "source": [
    "def func_two(n):\n",
    "    return list(map(str,range(n)))"
   ]
  },
  {
   "cell_type": "code",
   "execution_count": 230,
   "id": "6068bd7d",
   "metadata": {},
   "outputs": [
    {
     "data": {
      "text/plain": [
       "['0', '1', '2', '3', '4', '5', '6', '7', '8', '9']"
      ]
     },
     "execution_count": 230,
     "metadata": {},
     "output_type": "execute_result"
    }
   ],
   "source": [
    "func_two(10)"
   ]
  },
  {
   "cell_type": "code",
   "execution_count": 231,
   "id": "a96a0cb4",
   "metadata": {},
   "outputs": [],
   "source": [
    "import time"
   ]
  },
  {
   "cell_type": "code",
   "execution_count": 235,
   "id": "110237a4",
   "metadata": {},
   "outputs": [
    {
     "name": "stdout",
     "output_type": "stream",
     "text": [
      "0.678703784942627\n"
     ]
    }
   ],
   "source": [
    "# CURRENT TIME BEFORE\n",
    "start_time = time.time()\n",
    "# RUN CODE\n",
    "result = func_two(10000000)\n",
    "# CURRENT TIME AFTER RUNNING CODE\n",
    "end_time = time.time()\n",
    "# ELASPED TIME\n",
    "elasped_time = end_time - start_time\n",
    "print(elasped_time)"
   ]
  },
  {
   "cell_type": "code",
   "execution_count": 236,
   "id": "c32dac77",
   "metadata": {},
   "outputs": [],
   "source": [
    "import timeit"
   ]
  },
  {
   "cell_type": "code",
   "execution_count": 247,
   "id": "962df4db",
   "metadata": {},
   "outputs": [],
   "source": [
    "stmt = '''\n",
    "func_one(100)\n",
    "'''"
   ]
  },
  {
   "cell_type": "code",
   "execution_count": 248,
   "id": "fe8713f4",
   "metadata": {},
   "outputs": [],
   "source": [
    "setup = '''\n",
    "def func_one(n):\n",
    "    return [str(num) for num in range(n)]\n",
    "'''"
   ]
  },
  {
   "cell_type": "code",
   "execution_count": 249,
   "id": "d19dcded",
   "metadata": {},
   "outputs": [
    {
     "data": {
      "text/plain": [
       "5.710165833006613"
      ]
     },
     "execution_count": 249,
     "metadata": {},
     "output_type": "execute_result"
    }
   ],
   "source": [
    "timeit.timeit(stmt, setup, number=1000000)"
   ]
  },
  {
   "cell_type": "code",
   "execution_count": 250,
   "id": "22991f62",
   "metadata": {},
   "outputs": [],
   "source": [
    "stmt2 = '''\n",
    "func_two(100)\n",
    "'''"
   ]
  },
  {
   "cell_type": "code",
   "execution_count": 251,
   "id": "18d33724",
   "metadata": {},
   "outputs": [],
   "source": [
    "setup2 = '''\n",
    "def func_two(n):\n",
    "    return list(map(str,range(n)))\n",
    "'''"
   ]
  },
  {
   "cell_type": "code",
   "execution_count": 252,
   "id": "2806d1b6",
   "metadata": {},
   "outputs": [
    {
     "data": {
      "text/plain": [
       "4.763617332995636"
      ]
     },
     "execution_count": 252,
     "metadata": {},
     "output_type": "execute_result"
    }
   ],
   "source": [
    "timeit.timeit(stmt2, setup2, number=1000000)"
   ]
  },
  {
   "cell_type": "code",
   "execution_count": 253,
   "id": "903824c8",
   "metadata": {},
   "outputs": [
    {
     "name": "stdout",
     "output_type": "stream",
     "text": [
      "5.73 µs ± 41.4 ns per loop (mean ± std. dev. of 7 runs, 100,000 loops each)\n"
     ]
    }
   ],
   "source": [
    "%%timeit\n",
    "func_one(100)"
   ]
  },
  {
   "cell_type": "code",
   "execution_count": 254,
   "id": "c3ca7df8",
   "metadata": {},
   "outputs": [
    {
     "name": "stdout",
     "output_type": "stream",
     "text": [
      "4.72 µs ± 47.3 ns per loop (mean ± std. dev. of 7 runs, 100,000 loops each)\n"
     ]
    }
   ],
   "source": [
    "%%timeit\n",
    "func_two(100)"
   ]
  },
  {
   "cell_type": "markdown",
   "id": "e8399326",
   "metadata": {},
   "source": [
    "# Upzipping & Zipping Files"
   ]
  },
  {
   "cell_type": "code",
   "execution_count": 255,
   "id": "57e80c4a",
   "metadata": {},
   "outputs": [],
   "source": [
    "f = open('fileone.txt', 'w+')\n",
    "f.write('ONE FILE')\n",
    "f.close()"
   ]
  },
  {
   "cell_type": "code",
   "execution_count": 256,
   "id": "fb40bbdf",
   "metadata": {},
   "outputs": [],
   "source": [
    "f = open('filetwo.txt', 'w+')\n",
    "f.write('TWO FILE')\n",
    "f.close()"
   ]
  },
  {
   "cell_type": "code",
   "execution_count": 259,
   "id": "58c2c925",
   "metadata": {},
   "outputs": [],
   "source": [
    "import zipfile"
   ]
  },
  {
   "cell_type": "code",
   "execution_count": 260,
   "id": "ee0d414c",
   "metadata": {},
   "outputs": [],
   "source": [
    "comp_file = zipfile.ZipFile('comp_file.zip', 'w')"
   ]
  },
  {
   "cell_type": "code",
   "execution_count": 261,
   "id": "1b4475a6",
   "metadata": {},
   "outputs": [],
   "source": [
    "comp_file.write('fileone.txt', compress_type=zipfile.ZIP_DEFLATED)"
   ]
  },
  {
   "cell_type": "code",
   "execution_count": 262,
   "id": "f66407e2",
   "metadata": {},
   "outputs": [],
   "source": [
    "comp_file.write('filetwo.txt', compress_type=zipfile.ZIP_DEFLATED)"
   ]
  },
  {
   "cell_type": "code",
   "execution_count": 263,
   "id": "cc375170",
   "metadata": {},
   "outputs": [],
   "source": [
    "comp_file.close()"
   ]
  },
  {
   "cell_type": "code",
   "execution_count": 264,
   "id": "7e32bfdd",
   "metadata": {},
   "outputs": [],
   "source": [
    "zip_obj = zipfile.ZipFile('comp_file.zip', 'r')"
   ]
  },
  {
   "cell_type": "code",
   "execution_count": 266,
   "id": "ba1ba059",
   "metadata": {},
   "outputs": [],
   "source": [
    "zip_obj.extractall('extracted_content')"
   ]
  },
  {
   "cell_type": "code",
   "execution_count": 267,
   "id": "08b11dff",
   "metadata": {},
   "outputs": [],
   "source": [
    "import shutil "
   ]
  },
  {
   "cell_type": "code",
   "execution_count": 268,
   "id": "5ef75b69",
   "metadata": {},
   "outputs": [
    {
     "data": {
      "text/plain": [
       "'/Users/zacharymessinger/s/Education/udemy_courses/udemy_python_bootcamp/11_advanced_modules'"
      ]
     },
     "execution_count": 268,
     "metadata": {},
     "output_type": "execute_result"
    }
   ],
   "source": [
    "pwd"
   ]
  },
  {
   "cell_type": "code",
   "execution_count": 269,
   "id": "e2546865",
   "metadata": {},
   "outputs": [],
   "source": [
    "dir_to_zip = '/Users/zacharymessinger/s/Education/udemy_courses/udemy_python_bootcamp/11_advanced_modules/extracted_content'"
   ]
  },
  {
   "cell_type": "code",
   "execution_count": 270,
   "id": "4d3192cc",
   "metadata": {},
   "outputs": [],
   "source": [
    "output_filename = 'example'"
   ]
  },
  {
   "cell_type": "code",
   "execution_count": 271,
   "id": "87f5fc25",
   "metadata": {},
   "outputs": [
    {
     "data": {
      "text/plain": [
       "'/Users/zacharymessinger/s/Education/udemy_courses/udemy_python_bootcamp/11_advanced_modules/example.zip'"
      ]
     },
     "execution_count": 271,
     "metadata": {},
     "output_type": "execute_result"
    }
   ],
   "source": [
    "shutil.make_archive(output_filename, 'zip', dir_to_zip)"
   ]
  },
  {
   "cell_type": "code",
   "execution_count": 272,
   "id": "2dbe7bdd",
   "metadata": {},
   "outputs": [],
   "source": [
    "shutil.unpack_archive('example.zip', 'final_unzip', 'zip')"
   ]
  },
  {
   "cell_type": "code",
   "execution_count": null,
   "id": "d99edeeb",
   "metadata": {},
   "outputs": [],
   "source": []
  }
 ],
 "metadata": {
  "kernelspec": {
   "display_name": "Python 3 (ipykernel)",
   "language": "python",
   "name": "python3"
  },
  "language_info": {
   "codemirror_mode": {
    "name": "ipython",
    "version": 3
   },
   "file_extension": ".py",
   "mimetype": "text/x-python",
   "name": "python",
   "nbconvert_exporter": "python",
   "pygments_lexer": "ipython3",
   "version": "3.10.9"
  }
 },
 "nbformat": 4,
 "nbformat_minor": 5
}
