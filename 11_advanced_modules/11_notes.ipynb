{
 "cells": [
  {
   "cell_type": "markdown",
   "id": "5c3e58fe",
   "metadata": {},
   "source": [
    "# 1. Collections Module"
   ]
  },
  {
   "cell_type": "code",
   "execution_count": 1,
   "id": "20dcdf0e",
   "metadata": {},
   "outputs": [],
   "source": [
    "from collections import Counter"
   ]
  },
  {
   "cell_type": "code",
   "execution_count": 2,
   "id": "29ab398b",
   "metadata": {},
   "outputs": [],
   "source": [
    "mylist = [1,1,2,2,1,1,1,4,5,6,7,3,2]"
   ]
  },
  {
   "cell_type": "code",
   "execution_count": 3,
   "id": "e47c9b24",
   "metadata": {},
   "outputs": [
    {
     "data": {
      "text/plain": [
       "Counter({1: 5, 2: 3, 4: 1, 5: 1, 6: 1, 7: 1, 3: 1})"
      ]
     },
     "execution_count": 3,
     "metadata": {},
     "output_type": "execute_result"
    }
   ],
   "source": [
    "Counter(mylist)"
   ]
  },
  {
   "cell_type": "code",
   "execution_count": 5,
   "id": "8c1729f2",
   "metadata": {},
   "outputs": [
    {
     "data": {
      "text/plain": [
       "Counter({'how': 1,\n",
       "         'many': 1,\n",
       "         'times': 1,\n",
       "         'does': 1,\n",
       "         'each': 1,\n",
       "         'word': 2,\n",
       "         'show': 1,\n",
       "         'up': 1,\n",
       "         'in': 1,\n",
       "         'this': 1,\n",
       "         'sentence': 1,\n",
       "         'with': 1,\n",
       "         'a': 1})"
      ]
     },
     "execution_count": 5,
     "metadata": {},
     "output_type": "execute_result"
    }
   ],
   "source": [
    "sentence = \"How many times does each word show up in this sentence with a word\"\n",
    "Counter(sentence.lower().split())"
   ]
  },
  {
   "cell_type": "code",
   "execution_count": 9,
   "id": "1db6a8f3",
   "metadata": {},
   "outputs": [
    {
     "data": {
      "text/plain": [
       "[('b', 8), ('c', 6), ('a', 5), ('d', 5)]"
      ]
     },
     "execution_count": 9,
     "metadata": {},
     "output_type": "execute_result"
    }
   ],
   "source": [
    "letters = 'aaaaabbbbbbbbccccccddddd'\n",
    "c = Counter(letters)\n",
    "c.most_common()"
   ]
  },
  {
   "cell_type": "code",
   "execution_count": 11,
   "id": "930afd5f",
   "metadata": {},
   "outputs": [],
   "source": [
    "from collections import defaultdict"
   ]
  },
  {
   "cell_type": "code",
   "execution_count": 13,
   "id": "40243c43",
   "metadata": {},
   "outputs": [
    {
     "ename": "KeyError",
     "evalue": "'WRONG'",
     "output_type": "error",
     "traceback": [
      "\u001b[0;31m---------------------------------------------------------------------------\u001b[0m",
      "\u001b[0;31mKeyError\u001b[0m                                  Traceback (most recent call last)",
      "Cell \u001b[0;32mIn[13], line 2\u001b[0m\n\u001b[1;32m      1\u001b[0m d \u001b[38;5;241m=\u001b[39m {\u001b[38;5;124m'\u001b[39m\u001b[38;5;124ma\u001b[39m\u001b[38;5;124m'\u001b[39m: \u001b[38;5;241m10\u001b[39m}\n\u001b[0;32m----> 2\u001b[0m \u001b[43md\u001b[49m\u001b[43m[\u001b[49m\u001b[38;5;124;43m'\u001b[39;49m\u001b[38;5;124;43mWRONG\u001b[39;49m\u001b[38;5;124;43m'\u001b[39;49m\u001b[43m]\u001b[49m\n",
      "\u001b[0;31mKeyError\u001b[0m: 'WRONG'"
     ]
    }
   ],
   "source": [
    "d = {'a': 10}\n",
    "d['WRONG']"
   ]
  },
  {
   "cell_type": "code",
   "execution_count": 20,
   "id": "08fc717a",
   "metadata": {},
   "outputs": [
    {
     "data": {
      "text/plain": [
       "100"
      ]
     },
     "execution_count": 20,
     "metadata": {},
     "output_type": "execute_result"
    }
   ],
   "source": [
    "# Assigns default value for keys that don't exist\n",
    "d = defaultdict(lambda: 0)\n",
    "d['correct'] = 100\n",
    "d['correct']"
   ]
  },
  {
   "cell_type": "code",
   "execution_count": 21,
   "id": "d4ea5684",
   "metadata": {},
   "outputs": [
    {
     "data": {
      "text/plain": [
       "0"
      ]
     },
     "execution_count": 21,
     "metadata": {},
     "output_type": "execute_result"
    }
   ],
   "source": [
    "d['WRONG!']"
   ]
  },
  {
   "cell_type": "code",
   "execution_count": 22,
   "id": "1ef23503",
   "metadata": {},
   "outputs": [
    {
     "data": {
      "text/plain": [
       "defaultdict(<function __main__.<lambda>()>, {'correct': 100, 'WRONG!': 0})"
      ]
     },
     "execution_count": 22,
     "metadata": {},
     "output_type": "execute_result"
    }
   ],
   "source": [
    "d"
   ]
  },
  {
   "cell_type": "code",
   "execution_count": 23,
   "id": "3f1a6b99",
   "metadata": {},
   "outputs": [
    {
     "data": {
      "text/plain": [
       "10"
      ]
     },
     "execution_count": 23,
     "metadata": {},
     "output_type": "execute_result"
    }
   ],
   "source": [
    "mytuple = (10, 20, 30)\n",
    "mytuple[0]"
   ]
  },
  {
   "cell_type": "code",
   "execution_count": 27,
   "id": "e90b1d79",
   "metadata": {},
   "outputs": [],
   "source": [
    "from collections import namedtuple\n",
    "\n",
    "Dog = namedtuple('Dog', ['age', 'breed', 'name'])"
   ]
  },
  {
   "cell_type": "code",
   "execution_count": 29,
   "id": "e0d50d70",
   "metadata": {},
   "outputs": [
    {
     "data": {
      "text/plain": [
       "__main__.Dog"
      ]
     },
     "execution_count": 29,
     "metadata": {},
     "output_type": "execute_result"
    }
   ],
   "source": [
    "sammy = Dog(age=5, breed=\"Husky\", name=\"Sam\")\n",
    "type(sammy)"
   ]
  },
  {
   "cell_type": "code",
   "execution_count": 34,
   "id": "f70edb5f",
   "metadata": {},
   "outputs": [
    {
     "data": {
      "text/plain": [
       "Dog(age=5, breed='Husky', name='Sam')"
      ]
     },
     "execution_count": 34,
     "metadata": {},
     "output_type": "execute_result"
    }
   ],
   "source": [
    "sammy"
   ]
  },
  {
   "cell_type": "code",
   "execution_count": 35,
   "id": "33a42616",
   "metadata": {},
   "outputs": [
    {
     "data": {
      "text/plain": [
       "5"
      ]
     },
     "execution_count": 35,
     "metadata": {},
     "output_type": "execute_result"
    }
   ],
   "source": [
    "sammy.age"
   ]
  },
  {
   "cell_type": "markdown",
   "id": "8237355d",
   "metadata": {},
   "source": [
    "# 2. Shutil Module & OS Module"
   ]
  },
  {
   "cell_type": "code",
   "execution_count": 36,
   "id": "44e207a2",
   "metadata": {},
   "outputs": [
    {
     "data": {
      "text/plain": [
       "'/Users/zacharymessinger/s/Education/udemy_courses/udemy_python_bootcamp/11_advanced_modules'"
      ]
     },
     "execution_count": 36,
     "metadata": {},
     "output_type": "execute_result"
    }
   ],
   "source": [
    "pwd"
   ]
  },
  {
   "cell_type": "code",
   "execution_count": 37,
   "id": "748de7a6",
   "metadata": {},
   "outputs": [],
   "source": [
    "f = open(\"practice.txt\",'w+')\n",
    "f.write('This is a test string')\n",
    "f.close()"
   ]
  },
  {
   "cell_type": "code",
   "execution_count": 39,
   "id": "a5f5f931",
   "metadata": {},
   "outputs": [],
   "source": [
    "import os"
   ]
  },
  {
   "cell_type": "code",
   "execution_count": 46,
   "id": "5be7dd41",
   "metadata": {},
   "outputs": [
    {
     "data": {
      "text/plain": [
       "'/Users/zacharymessinger/s/Education/udemy_courses/udemy_python_bootcamp/11_advanced_modules'"
      ]
     },
     "execution_count": 46,
     "metadata": {},
     "output_type": "execute_result"
    }
   ],
   "source": [
    "# Get's current working directory\n",
    "os.getcwd()"
   ]
  },
  {
   "cell_type": "code",
   "execution_count": 47,
   "id": "604622b1",
   "metadata": {},
   "outputs": [
    {
     "data": {
      "text/plain": [
       "['.localized', 'Shared', 'zacharymessinger']"
      ]
     },
     "execution_count": 47,
     "metadata": {},
     "output_type": "execute_result"
    }
   ],
   "source": [
    "# List direction for given path\n",
    "os.listdir('/Users')"
   ]
  },
  {
   "cell_type": "code",
   "execution_count": 55,
   "id": "c9fd699e",
   "metadata": {},
   "outputs": [],
   "source": [
    "import shutil\n",
    "import send2trash"
   ]
  },
  {
   "cell_type": "code",
   "execution_count": 56,
   "id": "605b6df2",
   "metadata": {},
   "outputs": [
    {
     "data": {
      "text/plain": [
       "'/Users/zacharymessinger/practice.txt'"
      ]
     },
     "execution_count": 56,
     "metadata": {},
     "output_type": "execute_result"
    }
   ],
   "source": [
    "# Move folder (e.g mv command on terminal)\n",
    "shutil.move('practice.txt', '/Users/zacharymessinger')"
   ]
  },
  {
   "cell_type": "code",
   "execution_count": 58,
   "id": "538efbd4",
   "metadata": {},
   "outputs": [
    {
     "data": {
      "text/plain": [
       "'/Users/zacharymessinger/s/Education/udemy_courses/udemy_python_bootcamp/11_advanced_modules/practice.txt'"
      ]
     },
     "execution_count": 58,
     "metadata": {},
     "output_type": "execute_result"
    }
   ],
   "source": [
    "shutil.move('/Users/zacharymessinger/practice.txt', os.getcwd())"
   ]
  },
  {
   "cell_type": "code",
   "execution_count": 62,
   "id": "ebaf84ef",
   "metadata": {},
   "outputs": [
    {
     "data": {
      "text/plain": [
       "['11_notes.ipynb', '.ipynb_checkpoints']"
      ]
     },
     "execution_count": 62,
     "metadata": {},
     "output_type": "execute_result"
    }
   ],
   "source": [
    "# send2trash.send2trash('practice.txt')\n",
    "os.listdir(os.getcwd())"
   ]
  },
  {
   "cell_type": "code",
   "execution_count": null,
   "id": "30583cd7",
   "metadata": {},
   "outputs": [],
   "source": [
    "file_path = \"/Users/zacharymessinger/s/Education/udemy_courses/udemy_python_bootcamp/\"\n",
    "for folder, sub_folders, files in os.walk(file_path):\n",
    "    print(f\"Currently looking at {folder}\")\n",
    "    print(\"\\n\")\n",
    "    print(\"The subfolders are: \")\n",
    "    for sub_fold in sub_folders:\n",
    "        print(f\"Subfolder: {sub_fold}\")\n",
    "    \n",
    "    print(\"\\n\")\n",
    "    print(\"The files are:\")"
   ]
  }
 ],
 "metadata": {
  "kernelspec": {
   "display_name": "Python 3 (ipykernel)",
   "language": "python",
   "name": "python3"
  },
  "language_info": {
   "codemirror_mode": {
    "name": "ipython",
    "version": 3
   },
   "file_extension": ".py",
   "mimetype": "text/x-python",
   "name": "python",
   "nbconvert_exporter": "python",
   "pygments_lexer": "ipython3",
   "version": "3.10.9"
  }
 },
 "nbformat": 4,
 "nbformat_minor": 5
}
