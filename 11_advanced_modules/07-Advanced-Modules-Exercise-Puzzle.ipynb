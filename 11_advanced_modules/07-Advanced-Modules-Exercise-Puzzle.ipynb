{
 "cells": [
  {
   "cell_type": "markdown",
   "metadata": {},
   "source": [
    "___\n",
    "\n",
    "<a href='https://www.udemy.com/user/joseportilla/'><img src='../../Pierian_Data_Logo.png'/></a>\n",
    "___\n",
    "<center><em>Content Copyright by Pierian Data</em></center>"
   ]
  },
  {
   "cell_type": "markdown",
   "metadata": {},
   "source": [
    "# Advanced Modules Exercise Puzzle\n",
    "\n",
    "It's time to test your new skills, this puzzle project will combine multiple skills sets, including unzipping files with Python, using os module to automatically search through lots of files.\n",
    "\n",
    "## Your Goal\n",
    "\n",
    "This is a puzzle, so we don't want to give you too much guidance and instead have you figure out things on your own.\n",
    "\n",
    "There is a .zip file called 'unzip_me_for_instructions.zip', unzip it, open the .txt file with Python, read the instructions and see if you can figure out what you need to do!\n",
    "\n",
    "**If you get stuck or don't know where to start, here is a [guide/hints](https://docs.google.com/document/d/1JxydUr4n4fSR0EwwuwT-aHia-yPK6r-oTBuVT2sqheo/edit?usp=sharing)**"
   ]
  },
  {
   "cell_type": "code",
   "execution_count": 7,
   "metadata": {},
   "outputs": [],
   "source": [
    "import shutil\n",
    "import os\n",
    "\n",
    "shutil.unpack_archive('unzip_me_for_instructions.zip', 'unzip_me_for_instructions', 'zip')"
   ]
  },
  {
   "cell_type": "code",
   "execution_count": 8,
   "metadata": {},
   "outputs": [],
   "source": [
    "path = '/Users/zacharymessinger/s/Education/udemy_courses/udemy_python_bootcamp/11_advanced_modules/unzip_me_for_instructions'"
   ]
  },
  {
   "cell_type": "code",
   "execution_count": 16,
   "metadata": {
    "scrolled": true
   },
   "outputs": [
    {
     "name": "stdout",
     "output_type": "stream",
     "text": [
      "Good work on unzipping the file!\n",
      "You should now see 5 folders, each with a lot of random .txt files.\n",
      "Within one of these text files is a telephone number formated ###-###-#### \n",
      "Use the Python os module and regular expressions to iterate through each file, open it, and search for a telephone number.\n",
      "Good luck!\n"
     ]
    }
   ],
   "source": [
    "os.listdir('unzip_me_for_instructions')\n",
    "os.listdir('unzip_me_for_instructions/extracted_content')\n",
    "file_path = 'unzip_me_for_instructions/extracted_content/Instructions.txt'\n",
    "\n",
    "f = open(file_path)\n",
    "print(f.read())"
   ]
  },
  {
   "cell_type": "code",
   "execution_count": 64,
   "metadata": {},
   "outputs": [
    {
     "name": "stdout",
     "output_type": "stream",
     "text": [
      "unzip_me_for_instructions/extracted_content/Four/EMTGPSXQEJX.txt\n",
      "\n",
      "\n",
      "Justocras est placerat dui nascetur, varius senectus aptent suscipit esse aliquip erat labore sociosqu consequat.Facilisinam iusto fames, praesent dictumstvivamus consecteturpraesent felis ipsumcurabitur imperdietaliquam egestasmauris pharetra.Tristique luctus urnamorbi quisque nec massaphasellus.Fringilla dictumstvivamus laoreetphasellus delenit.Ipsuminteger ultrices nonumy per gubergren natoque pharetra, labore semvestibulum vivamus donec massapellentesque.Veniam et ligula commodo aliquam fusce laoreetphasellus sem, labore parturient magnainteger eleifend odio elitduis.Leopraesent quod phasellus fermentumfusce, magna conubia mollis eirmod.Magnapraesent ipsuminteger soluta accusam.Etiam placerat venenatis nunc sodales, massapellentesque feugait dolores.Erosin neque eos, netus molestie takimata cras nisised nullam.Lacus nostra morbi.Lectusnullam lobortisetiam nihil iaculis fermentumfusce imperdietaliquam, semvestibulum sempermorbi nisi duimauris duis.Ullamcorper urna viverra mipellentesque massapellentesque arcumorbi, feugiat zzril aliquammauris 719-266-2837 cursus tation quam id.Magna nullasuspendisse, sodalessed inceptos facilisis taciti lectus.Scelerisque euismod, egestasmauris exerci sed dolor praesent pharetra facilisis.Aenean facilisinam malesuada torquent aptent, tempor temporsuspendisse assum pellentesque dictum quammaecenas quod dolor euismod.Te amet ante risus quammaecenas magna viverra, laoreetphasellus cras elit elitnunc sanctus sempermorbi luptatum.Class sem bibendum enim, conguenulla facilisisproin amet erosin bibendumin odio.Et assum sedfusce, porta elementum eratproin aaenean urnapraesent eos taciti.Duo tation id risus illum molestie, justocras massaphasellus zzril muspellentesque autem wisi pharetra curae nobis.Convallis ea dictumstvivamus, tation metus mollis taciti egestas.Tristique quod blandit mi, parturient interdumdonec sedfusce malesuada cursus elitvivamus auctor.Semper facilisisat vehicula nobis tortorcurabitur convallis.Volutpat wisi vestibulum sodalessed imperdiet nonumy.Euismod erat orci, sedfusce conguenulla pulvinarvestibulum interdumdonec.Euismod scelerisque varius orci, luctus wisi antesuspendisse accumsannulla dolor faucibus pharetra.Fusce et ad tincidunt qui aptent mollis, metusdonec pellentesque maecenas ametduis mauris soluta.Rebum mattis porta tristique placerat nisised eleifend viverra, imperdiet nequeetiam tortor lacus lectus amet conguenulla.Quod elitduis consecteturpraesent auctormauris dolores.Temporsuspendisse eget urnamorbi enimaliquam enimsed felis soluta, potenti proin accumsannulla porta exerci bibendum mazim.Eratproin tempor nondonec erat auctormauris, vivamus potenti feliscras nullamauris consetetur.Fermentumfusce erosin aliquet lectusnullam habitant odio illum dictumst, urnapraesent consetetur amet varius facilisicurabitur sapien ligula.Tempus turpis class telluspraesent enimnulla nullasuspendisse, conubia bibendumin variuscras enimaliquam urnapraesent euismod te vestibulumnulla quis.Leopraesent metus turpis, ut minulla id consectetuer.Tortorvestibulum facilisisproin lectusnullam fermentumfusce.Consectetuer eu, vestibulumnulla pulvinar semper volutpatut conguenulla.Bibendumin nullam.Erat purusvestibulum elitnunc facilisisat, enimsed telluspraesent penatibus.Assum stet cum, metus dignissim magnainteger arcu antesuspendisse.Nostrud enimaliquam bibendumin neque, fermentum posuere kasd nulla laoreet facilisisproin fusce vero sapien.Liber feugiat nam magnainteger.Conguenulla accumsan cras semvestibulum cum, eleifend mattis interdum pretium volutpatut dapibusnam congue erosin dis facilisinam.Torquent velit metusdonec est tincidunt, imperdietaliquam dapibusnam orci possim condimentum eos libero.Nostra mipellentesque a, nisi no luctus nulla auctormauris.Vulputate integer dolores enimnulla, massa vestibulumnulla consectetuer exerci ipsumcurabitur nulla duimauris facilisicurabitur etiam.Penatibus nunc vulputate mi facilisicurabitur massa, sed mipellentesque ipsumcurabitur duis hac.Te massa rhoncus feugiat dictumst semper lorem, posuere pharetra proin rebum ultrices bibendum vero.Interdum sed soluta maecenas clita pretium inceptos, mazim quis laoreetphasellus luctus urnamorbi.Eros nonummy nunc zzril veniam mazim, sea cum amet facilisis luctus gravida a dolore.Ex invidunt arcumorbi velit mi.\n"
     ]
    }
   ],
   "source": [
    "import re\n",
    "phone_pattern = r'\\d{3}-\\d{3}-\\d{4}'\n",
    "file_path = 'unzip_me_for_instructions/extracted_content'\n",
    "\n",
    "for folder, sub_folder, file in os.walk(file_path):\n",
    "    for f in file:\n",
    "        text_file = open(f\"{folder}/{f}\")\n",
    "        text = text_file.read()\n",
    "        result = re.search(phone_pattern, text)\n",
    "        if result:\n",
    "            print(f\"{folder}/{f}\")\n",
    "            print(\"\\n\")\n",
    "            print(text)"
   ]
  },
  {
   "cell_type": "markdown",
   "metadata": {},
   "source": [
    "# Solution"
   ]
  },
  {
   "cell_type": "code",
   "execution_count": 75,
   "metadata": {},
   "outputs": [],
   "source": [
    "shutil.unpack_archive('unzip_me_for_instructions.zip', 'unzip_me_for_instructions', 'zip')"
   ]
  },
  {
   "cell_type": "code",
   "execution_count": 110,
   "metadata": {},
   "outputs": [
    {
     "name": "stdout",
     "output_type": "stream",
     "text": [
      "Good work on unzipping the file!\n",
      "You should now see 5 folders, each with a lot of random .txt files.\n",
      "Within one of these text files is a telephone number formated ###-###-#### \n",
      "Use the Python os module and regular expressions to iterate through each file, open it, and search for a telephone number.\n",
      "Good luck!\n"
     ]
    }
   ],
   "source": [
    "with open('unzip_me_for_instructions/extracted_content/Instructions.txt') as f:\n",
    "    content = f.read()\n",
    "    print(content)"
   ]
  },
  {
   "cell_type": "code",
   "execution_count": 111,
   "metadata": {},
   "outputs": [],
   "source": [
    "import re\n",
    "phone_pattern = r'\\d{3}-\\d{3}-\\d{4}'"
   ]
  },
  {
   "cell_type": "code",
   "execution_count": 112,
   "metadata": {},
   "outputs": [],
   "source": [
    "def search(file, pattern=r'\\d{3}-\\d{3}-\\d{4}'):\n",
    "    f.open(file, 'r')\n",
    "    text = f.read()\n",
    "    \n",
    "    if re.search(pattern, text):\n",
    "        return re.search(pattern, text)\n",
    "    else:\n",
    "        return ''"
   ]
  },
  {
   "cell_type": "code",
   "execution_count": 98,
   "metadata": {},
   "outputs": [],
   "source": [
    "results = []"
   ]
  },
  {
   "cell_type": "code",
   "execution_count": 103,
   "metadata": {},
   "outputs": [
    {
     "data": {
      "text/plain": [
       "'/Users/zacharymessinger/s/Education/udemy_courses/udemy_python_bootcamp/11_advanced_modules/extracted_content'"
      ]
     },
     "execution_count": 103,
     "metadata": {},
     "output_type": "execute_result"
    }
   ],
   "source": [
    "os.getcwd()+'/extracted_content'"
   ]
  },
  {
   "cell_type": "code",
   "execution_count": 113,
   "metadata": {},
   "outputs": [],
   "source": [
    "for folder, sub_folders, files in os.walk(os.getcwd()+'unzip_me_for_instructions/extracted_content'):\n",
    "    \n",
    "    for f in files:\n",
    "        full_path = f\"{folder}/{f}\"\n",
    "        print(full_path)\n",
    "        results.append(search(full_path))"
   ]
  },
  {
   "cell_type": "code",
   "execution_count": 105,
   "metadata": {},
   "outputs": [
    {
     "data": {
      "text/plain": [
       "[]"
      ]
     },
     "execution_count": 105,
     "metadata": {},
     "output_type": "execute_result"
    }
   ],
   "source": [
    "results"
   ]
  },
  {
   "cell_type": "code",
   "execution_count": null,
   "metadata": {},
   "outputs": [],
   "source": []
  }
 ],
 "metadata": {
  "anaconda-cloud": {},
  "kernelspec": {
   "display_name": "Python 3 (ipykernel)",
   "language": "python",
   "name": "python3"
  },
  "language_info": {
   "codemirror_mode": {
    "name": "ipython",
    "version": 3
   },
   "file_extension": ".py",
   "mimetype": "text/x-python",
   "name": "python",
   "nbconvert_exporter": "python",
   "pygments_lexer": "ipython3",
   "version": "3.10.9"
  }
 },
 "nbformat": 4,
 "nbformat_minor": 2
}
