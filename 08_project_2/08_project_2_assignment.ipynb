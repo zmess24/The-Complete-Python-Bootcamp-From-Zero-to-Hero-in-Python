{
 "cells": [
  {
   "cell_type": "markdown",
   "metadata": {},
   "source": [
    "___\n",
    "\n",
    "<a href='https://www.udemy.com/user/joseportilla/'><img src='../Pierian_Data_Logo.png'/></a>\n",
    "___\n",
    "<center><em>Content Copyright by Pierian Data</em></center>"
   ]
  },
  {
   "cell_type": "markdown",
   "metadata": {},
   "source": [
    "# Milestone Project 2 - Blackjack Game\n",
    "In this milestone project you will be creating a Complete BlackJack Card Game in Python.\n",
    "\n",
    "Here are the requirements:\n",
    "\n",
    "* You need to create a simple text-based [BlackJack](https://en.wikipedia.org/wiki/Blackjack) game\n",
    "* The game needs to have one player versus an automated dealer.\n",
    "* The player can stand or hit.\n",
    "* The player must be able to pick their betting amount.\n",
    "* You need to keep track of the player's total money.\n",
    "* You need to alert the player of wins, losses, or busts, etc...\n",
    "\n",
    "And most importantly:\n",
    "\n",
    "* **You must use OOP and classes in some portion of your game. You can not just use functions in your game. Use classes to help you define the Deck and the Player's hand. There are many right ways to do this, so explore it well!**\n",
    "\n",
    "\n",
    "Feel free to expand this game. Try including multiple players. Try adding in Double-Down and card splits! Remember to you are free to use any resources you want and as always:\n",
    "\n",
    "# HAVE FUN!"
   ]
  },
  {
   "cell_type": "code",
   "execution_count": 139,
   "metadata": {},
   "outputs": [],
   "source": [
    "# IMPORTS\n",
    "import random\n",
    "\n",
    "# GLOBAL VARIABLES\n",
    "suits = ('Hearts', 'Diamonds', 'Spades', 'Clubs')\n",
    "ranks = ('Two', 'Three', 'Four', 'Five', 'Six', 'Seven', 'Eight', 'Nine', 'Ten', 'Jack', 'Queen', 'King', 'Ace')\n",
    "values = {'Two':2, 'Three':3, 'Four':4, 'Five':5, 'Six':6, 'Seven':7, 'Eight':8, \n",
    "            'Nine':9, 'Ten':10, 'Jack':10, 'Queen':10, 'King':10, 'Ace': 10}"
   ]
  },
  {
   "cell_type": "code",
   "execution_count": 140,
   "metadata": {},
   "outputs": [],
   "source": [
    "class Card:\n",
    "    \n",
    "    def __init__(self, suit, rank):\n",
    "        self.suit = suit\n",
    "        self.rank = rank\n",
    "        self.value = values[rank]\n",
    "    \n",
    "    def __str__(self):\n",
    "        return f\"{self.rank} of {self.suit}\""
   ]
  },
  {
   "cell_type": "code",
   "execution_count": 149,
   "metadata": {},
   "outputs": [],
   "source": [
    "class Deck:\n",
    "    \n",
    "    def __init__(self):\n",
    "        self.cards = []\n",
    "        \n",
    "        for suit in suits:\n",
    "            for rank in ranks:\n",
    "                new_card = Card(suit, rank)\n",
    "                self.cards.append(new_card)\n",
    "    \n",
    "    def shuffle(self):\n",
    "        random.shuffle(self.cards)\n",
    "    \n",
    "    def deal_one(self):\n",
    "        return self.cards.pop()\n",
    "    \n",
    "    def __str__(self):\n",
    "        return f\"There are {len(self.cards)} cards in the deck\""
   ]
  },
  {
   "cell_type": "code",
   "execution_count": 150,
   "metadata": {},
   "outputs": [],
   "source": [
    "class Player:\n",
    "    \n",
    "    def __init__(self):\n",
    "        self.balance = 100\n",
    "        self.total = 0\n",
    "        self.cards = []\n",
    "    \n",
    "    def add_cards(self,card):\n",
    "        self.cards.append(card)\n",
    "        self.total += card.value\n",
    "        \n",
    "    def collect_bet(self, bet):\n",
    "        self.balance = self.balance + bet\n",
    "        \n",
    "    def remove_hand(self):\n",
    "        self.cards = []\n",
    "        \n",
    "    def place_bet(self):\n",
    "        invalid_bet = True\n",
    "        \n",
    "        while invalid_bet:            \n",
    "            try:\n",
    "                val = int(input(\"How much would you like to bet? \"))\n",
    "            except:\n",
    "                print(\"The amount you entered is not valid.\")\n",
    "            else:\n",
    "                if val > self.balance:\n",
    "                    print(\"Sorry, you don't that much to bet.\")\n",
    "                else:\n",
    "                    self.balance = self.balance - val\n",
    "                    print(f\"Your {val} bet has been placed\")\n",
    "                    invalid_bet = False\n",
    "        \n",
    "        return val"
   ]
  },
  {
   "cell_type": "code",
   "execution_count": 151,
   "metadata": {},
   "outputs": [],
   "source": [
    "class Dealer(Player):\n",
    "    \n",
    "    def __init__(self):\n",
    "        Player.__init__(self)\n",
    "        self.face_down_card = []\n",
    "    \n",
    "    def add_face_down_card(self, card):\n",
    "        self.face_down_card.append(card)\n",
    "        \n",
    "    def flip_card(self):\n",
    "        flipped_card = self.face_down_card.pop()\n",
    "        self.add_cards(flipped_card)"
   ]
  },
  {
   "cell_type": "code",
   "execution_count": 185,
   "metadata": {},
   "outputs": [],
   "source": [
    "'''\n",
    "FUNCTIONS\n",
    "'''\n",
    "\n",
    "# Checks if deck still has 52 cards, and if not,\n",
    "def check_new_shoe(deck):\n",
    "    if len(deck.cards) == 0:\n",
    "        print(\"SHUFFLING NEW SHOE!\")\n",
    "        deck = Deck()\n",
    "        deck.shuffle()\n",
    "        return deck\n",
    "    else:\n",
    "        return deck\n",
    "    \n",
    "def play_again():\n",
    "    valid_answers = (\"Y\", \"N\")\n",
    "    invalid_answer = True\n",
    "    \n",
    "    while invalid_answer:\n",
    "        answer = input(f\"Play another hand {valid_answers}? \")\n",
    "        if answer.upper() in valid_answers:\n",
    "            invalid_answer = False\n",
    "            return answer == \"Y\"\n",
    "        else:\n",
    "            print(\"Sorry, please enter a correct input.\")\n",
    "            \n",
    "def display_hand(name, player):\n",
    "    print(\"---\")\n",
    "    print(f\"{name} Total: {player.total}\")\n",
    "    print(\" \")\n",
    "    if name == \"Dealer\" and len(player.face_down_card) > 0:\n",
    "        print(f'*** of ***')\n",
    "            \n",
    "    for card in player.cards:\n",
    "        print(f'{card.rank} of {card.suit}')\n",
    "        \n",
    "def hand_action():\n",
    "    valid_answers = (\"Hit\", \"Stand\")\n",
    "    invalid_answer = True\n",
    "    \n",
    "    while invalid_answer:\n",
    "        answer = input(f\"What would you like to do? {valid_answers}\")\n",
    "        if answer in valid_answers:\n",
    "            invalid_answer = False\n",
    "            return answer\n",
    "        else:\n",
    "            print(\"Please select a valid action\")\n",
    "        "
   ]
  },
  {
   "cell_type": "code",
   "execution_count": 186,
   "metadata": {},
   "outputs": [
    {
     "name": "stdout",
     "output_type": "stream",
     "text": [
      "---\n",
      "Player Total: 13\n",
      " \n",
      "King of Hearts\n",
      "Three of Spades\n",
      "---\n",
      "Dealer Total: 10\n",
      " \n",
      "*** of ***\n",
      "Queen of Hearts\n",
      "What would you like to do? ('Hit', 'Stand')f\n",
      "Please select a valid action\n",
      "What would you like to do? ('Hit', 'Stand')Hit\n"
     ]
    },
    {
     "data": {
      "text/plain": [
       "'Hit'"
      ]
     },
     "execution_count": 186,
     "metadata": {},
     "output_type": "execute_result"
    }
   ],
   "source": [
    "'''\n",
    "GAME LOGIC\n",
    "'''\n",
    "# Craete Players\n",
    "player = Player()\n",
    "dealer = Dealer()\n",
    "game_on = True\n",
    "\n",
    "# Create & Shuffle Deck\n",
    "deck = Deck()\n",
    "deck.shuffle()\n",
    "\n",
    "# Deal Cards\n",
    "for num in range(2):\n",
    "    # Deal to Dealer\n",
    "    deck = check_new_shoe(deck)\n",
    "    dealer_card = deck.deal_one()\n",
    "    \n",
    "    if num == 0:\n",
    "        dealer.add_face_down_card(dealer_card)\n",
    "    else:\n",
    "        dealer.add_cards(dealer_card)\n",
    "    \n",
    "    # Deal to Player\n",
    "    deck = check_new_shoe(deck)\n",
    "    player_card = deck.deal_one()\n",
    "    player.add_cards(player_card)\n",
    "\n",
    "# Display hand & ask for action\n",
    "display_hand(\"Player\", player)\n",
    "display_hand(\"Dealer\", dealer)    \n",
    "answer = hand_action()\n",
    "\n",
    "if answer == \"Hit\":\n",
    "    deck = check_new_shoe(deck)\n",
    "    player_card = deck.deal_one()"
   ]
  },
  {
   "cell_type": "code",
   "execution_count": null,
   "metadata": {},
   "outputs": [],
   "source": []
  },
  {
   "cell_type": "code",
   "execution_count": null,
   "metadata": {},
   "outputs": [],
   "source": []
  }
 ],
 "metadata": {
  "kernelspec": {
   "display_name": "Python 3 (ipykernel)",
   "language": "python",
   "name": "python3"
  },
  "language_info": {
   "codemirror_mode": {
    "name": "ipython",
    "version": 3
   },
   "file_extension": ".py",
   "mimetype": "text/x-python",
   "name": "python",
   "nbconvert_exporter": "python",
   "pygments_lexer": "ipython3",
   "version": "3.10.9"
  }
 },
 "nbformat": 4,
 "nbformat_minor": 1
}
