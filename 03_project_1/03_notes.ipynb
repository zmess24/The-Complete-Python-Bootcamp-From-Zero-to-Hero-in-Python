{
 "cells": [
  {
   "cell_type": "markdown",
   "id": "e4cac364",
   "metadata": {},
   "source": [
    "# 1. Displaying Information"
   ]
  },
  {
   "cell_type": "code",
   "execution_count": 3,
   "id": "92d5fd66",
   "metadata": {},
   "outputs": [
    {
     "name": "stdout",
     "output_type": "stream",
     "text": [
      "[1, 2, 3]\n",
      "[4, 5, 6]\n",
      "[9, 8, 7]\n"
     ]
    }
   ],
   "source": [
    "print([1,2,3])\n",
    "print([4,5,6])\n",
    "print([9,8,7])"
   ]
  },
  {
   "cell_type": "code",
   "execution_count": 4,
   "id": "17b43e3c",
   "metadata": {},
   "outputs": [],
   "source": [
    "row1 = ['', '', '']\n",
    "row2 = ['', '', '']\n",
    "row3 = ['', '', '']"
   ]
  },
  {
   "cell_type": "code",
   "execution_count": 5,
   "id": "4bc27762",
   "metadata": {},
   "outputs": [],
   "source": [
    "# Define in function\n",
    "\n",
    "def display(row1, row2, row3):\n",
    "    print(row1)\n",
    "    print(row2)\n",
    "    print(row3)"
   ]
  },
  {
   "cell_type": "code",
   "execution_count": 6,
   "id": "91827bb5",
   "metadata": {},
   "outputs": [
    {
     "name": "stdout",
     "output_type": "stream",
     "text": [
      "['', '', '']\n",
      "['', '', '']\n",
      "['', '', '']\n"
     ]
    }
   ],
   "source": [
    "display(row1, row2, row3)"
   ]
  },
  {
   "cell_type": "code",
   "execution_count": 7,
   "id": "28e32eb4",
   "metadata": {},
   "outputs": [],
   "source": [
    "row2[2] = \"X\""
   ]
  },
  {
   "cell_type": "code",
   "execution_count": 8,
   "id": "3899decf",
   "metadata": {},
   "outputs": [
    {
     "name": "stdout",
     "output_type": "stream",
     "text": [
      "['', '', '']\n",
      "['', '', 'X']\n",
      "['', '', '']\n"
     ]
    }
   ],
   "source": [
    "display(row1, row2, row3)"
   ]
  },
  {
   "cell_type": "markdown",
   "id": "5c95c1f0",
   "metadata": {},
   "source": [
    "# 2. Accept User Input"
   ]
  },
  {
   "cell_type": "code",
   "execution_count": 9,
   "id": "79e23a08",
   "metadata": {},
   "outputs": [
    {
     "name": "stdout",
     "output_type": "stream",
     "text": [
      "Ask me a question!fkml\n"
     ]
    },
    {
     "data": {
      "text/plain": [
       "'fkml'"
      ]
     },
     "execution_count": 9,
     "metadata": {},
     "output_type": "execute_result"
    }
   ],
   "source": [
    "input(\"Ask me a question!\")"
   ]
  },
  {
   "cell_type": "code",
   "execution_count": 10,
   "id": "5cc00fdb",
   "metadata": {},
   "outputs": [
    {
     "name": "stdout",
     "output_type": "stream",
     "text": [
      "Ask me a question!test\n"
     ]
    }
   ],
   "source": [
    "result = input(\"Ask me a question!\")"
   ]
  },
  {
   "cell_type": "code",
   "execution_count": 14,
   "id": "0a98cf37",
   "metadata": {},
   "outputs": [
    {
     "data": {
      "text/plain": [
       "'test'"
      ]
     },
     "execution_count": 14,
     "metadata": {},
     "output_type": "execute_result"
    }
   ],
   "source": [
    "result"
   ]
  },
  {
   "cell_type": "code",
   "execution_count": 16,
   "id": "b81d639b",
   "metadata": {},
   "outputs": [
    {
     "name": "stdout",
     "output_type": "stream",
     "text": [
      "Enter a number5\n"
     ]
    }
   ],
   "source": [
    "result = input(\"Enter a number\")"
   ]
  },
  {
   "cell_type": "code",
   "execution_count": 17,
   "id": "144ace86",
   "metadata": {},
   "outputs": [
    {
     "data": {
      "text/plain": [
       "5"
      ]
     },
     "execution_count": 17,
     "metadata": {},
     "output_type": "execute_result"
    }
   ],
   "source": [
    "int(result)"
   ]
  },
  {
   "cell_type": "code",
   "execution_count": 20,
   "id": "33c7aca9",
   "metadata": {},
   "outputs": [
    {
     "name": "stdout",
     "output_type": "stream",
     "text": [
      "Enter a number5\n",
      "5\n"
     ]
    }
   ],
   "source": [
    "result = int(input(\"Enter a number\"))\n",
    "print(result)"
   ]
  },
  {
   "cell_type": "markdown",
   "id": "c5e6b460",
   "metadata": {},
   "source": [
    "# 3. Validating User Input"
   ]
  },
  {
   "cell_type": "code",
   "execution_count": 21,
   "id": "472f9057",
   "metadata": {},
   "outputs": [],
   "source": [
    "def user_choice():\n",
    "    choice = input(\"Please enter a number (0-10):\")\n",
    "    \n",
    "    return int(choice)"
   ]
  },
  {
   "cell_type": "code",
   "execution_count": 22,
   "id": "044428eb",
   "metadata": {},
   "outputs": [
    {
     "name": "stdout",
     "output_type": "stream",
     "text": [
      "Please enter a number (0-10):9\n"
     ]
    },
    {
     "data": {
      "text/plain": [
       "9"
      ]
     },
     "execution_count": 22,
     "metadata": {},
     "output_type": "execute_result"
    }
   ],
   "source": [
    "user_choice()"
   ]
  },
  {
   "cell_type": "code",
   "execution_count": 31,
   "id": "4f0d5fe4",
   "metadata": {},
   "outputs": [],
   "source": [
    "# With data validation\n",
    "\n",
    "def user_choice():\n",
    "    \n",
    "    choice = ''\n",
    "    \n",
    "    while choice.isdigit() == False:\n",
    "            \n",
    "        choice = input(\"Please enter a number (0-10):\")\n",
    "        \n",
    "        if choice.isdigit() == False:\n",
    "            print(\"Sorry, that is not a digit!\")\n",
    "\n",
    "    return int(choice)"
   ]
  },
  {
   "cell_type": "code",
   "execution_count": 28,
   "id": "d8b5a97d",
   "metadata": {},
   "outputs": [
    {
     "name": "stdout",
     "output_type": "stream",
     "text": [
      "Please enter a number (0-10):fkamf\n",
      "Sorry, that is not a digit!\n",
      "Please enter a number (0-10):5\n"
     ]
    },
    {
     "data": {
      "text/plain": [
       "5"
      ]
     },
     "execution_count": 28,
     "metadata": {},
     "output_type": "execute_result"
    }
   ],
   "source": [
    "user_choice()"
   ]
  },
  {
   "cell_type": "code",
   "execution_count": 56,
   "id": "c882a30e",
   "metadata": {},
   "outputs": [],
   "source": [
    "# With data validation & acceptable values\n",
    "\n",
    "def user_choice():\n",
    "    # Varibles\n",
    "    choice = ''\n",
    "    acceptable_range = range(0,10)\n",
    "    within_range = False\n",
    "    \n",
    "    while choice.isdigit() == False or within_range == False:\n",
    "            \n",
    "        choice = input(\"Please enter a number (0-10):\")\n",
    "        \n",
    "        # Digit Check\n",
    "        if choice.isdigit() == False:\n",
    "            print(\"Sorry, that is not a digit!\")\n",
    "        \n",
    "        # Range Check\n",
    "        if choice.isdigit() == True:\n",
    "            if int(choice) in acceptable_range:\n",
    "                within_range = True\n",
    "            else: \n",
    "                print(\"Sorry, you entered a digit outside the acceptable range\")\n",
    "                within_range = False\n",
    "\n",
    "    return int(choice)"
   ]
  },
  {
   "cell_type": "code",
   "execution_count": 57,
   "id": "c1eb19e6",
   "metadata": {},
   "outputs": [
    {
     "name": "stdout",
     "output_type": "stream",
     "text": [
      "Please enter a number (0-10):555\n",
      "Sorry, you entered a digit outside the acceptable range\n",
      "Please enter a number (0-10):5\n"
     ]
    },
    {
     "data": {
      "text/plain": [
       "5"
      ]
     },
     "execution_count": 57,
     "metadata": {},
     "output_type": "execute_result"
    }
   ],
   "source": [
    "user_choice()"
   ]
  },
  {
   "cell_type": "markdown",
   "id": "8a4bffa9",
   "metadata": {},
   "source": [
    "# 4. User Interaction"
   ]
  },
  {
   "cell_type": "code",
   "execution_count": 59,
   "id": "32680d8f",
   "metadata": {},
   "outputs": [],
   "source": [
    "game_list = [0,1,2]"
   ]
  },
  {
   "cell_type": "code",
   "execution_count": 60,
   "id": "2919eb1b",
   "metadata": {},
   "outputs": [],
   "source": [
    "def display_game(game_list):\n",
    "    print(\"Here is the current list:\")\n",
    "    print(game_list)"
   ]
  },
  {
   "cell_type": "code",
   "execution_count": 61,
   "id": "808704b8",
   "metadata": {},
   "outputs": [
    {
     "name": "stdout",
     "output_type": "stream",
     "text": [
      "Here is the current list:\n",
      "[0, 1, 2]\n"
     ]
    }
   ],
   "source": [
    "display_game(game_list)"
   ]
  },
  {
   "cell_type": "code",
   "execution_count": 75,
   "id": "c76841cf",
   "metadata": {},
   "outputs": [],
   "source": [
    "def position_choice():\n",
    "    \n",
    "    choice = ''\n",
    "    choices_list = ['0', '1', '2']\n",
    "    \n",
    "    while choice not in choices_list:\n",
    "        \n",
    "        choice = input('Pick a position (0,1,2): ')\n",
    "        \n",
    "        if choice not in choices_list:\n",
    "            print(\"Sorry, invalid choice: \")\n",
    "    \n",
    "    return int(choice)"
   ]
  },
  {
   "cell_type": "code",
   "execution_count": 76,
   "id": "8207e634",
   "metadata": {},
   "outputs": [
    {
     "name": "stdout",
     "output_type": "stream",
     "text": [
      "Pick a position (0,1,2): 1\n"
     ]
    },
    {
     "data": {
      "text/plain": [
       "1"
      ]
     },
     "execution_count": 76,
     "metadata": {},
     "output_type": "execute_result"
    }
   ],
   "source": [
    "position_choice()"
   ]
  },
  {
   "cell_type": "code",
   "execution_count": 72,
   "id": "568ee159",
   "metadata": {},
   "outputs": [],
   "source": [
    "def replacement_choice(game_list, position):\n",
    "    user_placement = input(\"Type a string to replace: \")\n",
    "    \n",
    "    game_list[position] = user_placement\n",
    "    \n",
    "    return game_list"
   ]
  },
  {
   "cell_type": "code",
   "execution_count": 73,
   "id": "b2df1fc0",
   "metadata": {},
   "outputs": [
    {
     "name": "stdout",
     "output_type": "stream",
     "text": [
      "Type a string to replace: \n"
     ]
    },
    {
     "data": {
      "text/plain": [
       "['Zac', '', 2]"
      ]
     },
     "execution_count": 73,
     "metadata": {},
     "output_type": "execute_result"
    }
   ],
   "source": [
    "replacement_choice(game_list, 1)"
   ]
  },
  {
   "cell_type": "code",
   "execution_count": 77,
   "id": "84b007e9",
   "metadata": {},
   "outputs": [],
   "source": [
    "def gameon_choice():\n",
    "    \n",
    "    choice = ''\n",
    "    choice_list = ['Y', 'N']\n",
    "    \n",
    "    while choice not in choice_list:\n",
    "        \n",
    "        choice = input('Keep playing? (Y or N)')\n",
    "        \n",
    "        if choice not in choice_list:\n",
    "            print(\"Sorry, I don't understand, please choose Y or N: \")\n",
    "    \n",
    "    if choice == \"Y\":\n",
    "        return True\n",
    "    else:\n",
    "        return False"
   ]
  },
  {
   "cell_type": "code",
   "execution_count": 78,
   "id": "2a77a5d0",
   "metadata": {},
   "outputs": [
    {
     "name": "stdout",
     "output_type": "stream",
     "text": [
      "Keep playing? (Y or N)\n",
      "Sorry, I don't understand, please choose Y or N: \n",
      "Keep playing? (Y or N)N\n"
     ]
    },
    {
     "data": {
      "text/plain": [
       "False"
      ]
     },
     "execution_count": 78,
     "metadata": {},
     "output_type": "execute_result"
    }
   ],
   "source": [
    "gameon_choice()"
   ]
  },
  {
   "cell_type": "code",
   "execution_count": 79,
   "id": "7e16eb5e",
   "metadata": {},
   "outputs": [
    {
     "name": "stdout",
     "output_type": "stream",
     "text": [
      "Here is the current list:\n",
      "[0, 1, 2]\n",
      "Pick a position (0,1,2): 1\n",
      "Type a string to replace: Zac\n",
      "Here is the current list:\n",
      "[0, 'Zac', 2]\n",
      "Keep playing? (Y or N)Y\n",
      "Here is the current list:\n",
      "[0, 'Zac', 2]\n",
      "Pick a position (0,1,2): 0\n",
      "Type a string to replace: pokemon\n",
      "Here is the current list:\n",
      "['pokemon', 'Zac', 2]\n",
      "Keep playing? (Y or N)n\n",
      "Sorry, I don't understand, please choose Y or N: \n",
      "Keep playing? (Y or N)N\n"
     ]
    }
   ],
   "source": [
    "game_on = True\n",
    "game_list = [0,1,2]\n",
    "\n",
    "while game_on:\n",
    "    \n",
    "    display_game(game_list)\n",
    "    \n",
    "    position = position_choice()\n",
    "    \n",
    "    game_list = replacement_choice(game_list, position)\n",
    "    \n",
    "    display_game(game_list)\n",
    "    \n",
    "    game_on = gameon_choice()"
   ]
  },
  {
   "cell_type": "code",
   "execution_count": null,
   "id": "477369a0",
   "metadata": {},
   "outputs": [],
   "source": []
  }
 ],
 "metadata": {
  "kernelspec": {
   "display_name": "Python 3 (ipykernel)",
   "language": "python",
   "name": "python3"
  },
  "language_info": {
   "codemirror_mode": {
    "name": "ipython",
    "version": 3
   },
   "file_extension": ".py",
   "mimetype": "text/x-python",
   "name": "python",
   "nbconvert_exporter": "python",
   "pygments_lexer": "ipython3",
   "version": "3.10.9"
  }
 },
 "nbformat": 4,
 "nbformat_minor": 5
}
