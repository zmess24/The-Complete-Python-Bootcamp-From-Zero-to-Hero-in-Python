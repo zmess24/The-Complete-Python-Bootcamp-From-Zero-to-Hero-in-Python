{
 "cells": [
  {
   "cell_type": "markdown",
   "id": "da6dfd23",
   "metadata": {},
   "source": [
    "# Project 1: Tic Tac Toe"
   ]
  },
  {
   "cell_type": "code",
   "execution_count": 2,
   "id": "c9819f89",
   "metadata": {},
   "outputs": [],
   "source": [
    "def display_board(game_board):\n",
    "    print(f\"|{game_board[6]} | {game_board[7]} | {game_board[8]}|\")\n",
    "    print(f\"|---------|\")\n",
    "    print(f\"|{game_board[3]} | {game_board[4]} | {game_board[5]}|\")\n",
    "    print(f\"|---------|\")\n",
    "    print(f\"|{game_board[0]} | {game_board[1]} | {game_board[2]}|\")"
   ]
  },
  {
   "cell_type": "code",
   "execution_count": 3,
   "id": "34f4652a",
   "metadata": {},
   "outputs": [],
   "source": [
    "def user_choice(game_board):\n",
    "    choice = ''\n",
    "    acceptable_range = range(1, 10)\n",
    "    within_range = False\n",
    "    error_message = \"Sorry, please enter a valid board position (1-9): \"\n",
    "    \n",
    "    while choice.isdigit() == False or within_range == False:\n",
    "        \n",
    "        choice = input(f\"{player_turn}, please select a board position (1-9): \")\n",
    "        if choice.isdigit() == False:\n",
    "            print(error_message)\n",
    "        elif choice.isdigit() == True:\n",
    "            if int(choice) not in acceptable_range or game_board[int(choice) - 1] != ' ':\n",
    "                print(error_message)\n",
    "                within_range = False\n",
    "            else:\n",
    "                within_range = True\n",
    "\n",
    "    return int(choice)"
   ]
  },
  {
   "cell_type": "code",
   "execution_count": 22,
   "id": "b7a09f7f",
   "metadata": {},
   "outputs": [],
   "source": [
    "def resume_play_choice():\n",
    "    choice = ''\n",
    "    acceptable_range = ['Y', 'N']\n",
    "    \n",
    "    while choice not in acceptable_range:\n",
    "        \n",
    "        choice = input(\"Play Again (Y or N)? \")\n",
    "        \n",
    "        if choice not in acceptable_range:\n",
    "            print(\"Sorry, please enter a valid selection.\")\n",
    "    \n",
    "    if choice == 'Y':\n",
    "        return True\n",
    "    else:\n",
    "        return False"
   ]
  },
  {
   "cell_type": "code",
   "execution_count": 5,
   "id": "2ba7e297",
   "metadata": {},
   "outputs": [],
   "source": [
    "def toggle_player_turn(player_turn):\n",
    "    if player_turn == \"PlayerX\":\n",
    "        return \"PlayerY\"\n",
    "    else:\n",
    "        return \"PlayerX\""
   ]
  },
  {
   "cell_type": "code",
   "execution_count": null,
   "id": "504ac07f",
   "metadata": {},
   "outputs": [],
   "source": [
    "def check_win(game_board):\n",
    "    winning_combos = [[0,1,2], [3,4,5], [6,7,8], [0,3,6], [1,4,7], [2,5,8], [0,4,8], [2,4,6]]\n",
    "    \n",
    "    for combo in winning_combos:\n",
    "        if game_board[combo[0]] == \"X\" and game_board[combo[1]] == \"X\" and game_board[combo[2]] == \"X\":\n",
    "            return True\n",
    "        \n",
    "        if game_board[combo[0]] == \"O\" and game_board[combo[1]] == \"O\" and game_board[combo[2]] == \"O\":\n",
    "            return True\n",
    "    else:\n",
    "        return False"
   ]
  },
  {
   "cell_type": "code",
   "execution_count": null,
   "id": "1f20a0a6",
   "metadata": {},
   "outputs": [
    {
     "name": "stdout",
     "output_type": "stream",
     "text": [
      "|  | X | O|\n",
      "|---------|\n",
      "|X | X | O|\n",
      "|---------|\n",
      "|X | O | O|\n"
     ]
    }
   ],
   "source": [
    "from IPython.display import clear_output\n",
    "\n",
    "# Game Variables\n",
    "game_board = [' ',' ',' ',' ',' ',' ', ' ',' ', ' ' ]\n",
    "game_on = True\n",
    "player_map = { \"PlayerX\": \"X\", \"PlayerY\": \"O\" }\n",
    "player_turn = \"PlayerX\"\n",
    "\n",
    "while game_on:\n",
    "    clear_output(wait=False)\n",
    "    display_board(game_board)\n",
    "    choice = user_choice(game_board)\n",
    "    game_board[choice-1] = player_map[player_turn]\n",
    "    win = check_win(game_board)\n",
    "    if win == True:\n",
    "        clear_output(wait=False)\n",
    "        display_board(game_board)\n",
    "        print(f\"{player_turn} wins!\")\n",
    "        game_on = resume_play_choice()\n",
    "        if game_on:\n",
    "            game_board = [' ',' ',' ',' ',' ',' ', ' ',' ', ' ' ]\n",
    "    elif \" \" not in game_board:\n",
    "        clear_output(wait=False)\n",
    "        display_board(game_board)\n",
    "        print(\"Game Over\")\n",
    "        game_on = resume_play_choice()\n",
    "        if game_on:\n",
    "            game_board = [' ',' ',' ',' ',' ',' ', ' ',' ', ' ' ]\n",
    "    else:\n",
    "        player_turn = toggle_player_turn(player_turn)\n"
   ]
  },
  {
   "cell_type": "markdown",
   "id": "0ae4c791",
   "metadata": {},
   "source": [
    "## "
   ]
  },
  {
   "cell_type": "code",
   "execution_count": null,
   "id": "3dc62e98",
   "metadata": {},
   "outputs": [],
   "source": []
  },
  {
   "cell_type": "code",
   "execution_count": null,
   "id": "4cfe1332",
   "metadata": {},
   "outputs": [],
   "source": []
  },
  {
   "cell_type": "code",
   "execution_count": null,
   "id": "cbd1f800",
   "metadata": {},
   "outputs": [],
   "source": []
  }
 ],
 "metadata": {
  "kernelspec": {
   "display_name": "Python 3 (ipykernel)",
   "language": "python",
   "name": "python3"
  },
  "language_info": {
   "codemirror_mode": {
    "name": "ipython",
    "version": 3
   },
   "file_extension": ".py",
   "mimetype": "text/x-python",
   "name": "python",
   "nbconvert_exporter": "python",
   "pygments_lexer": "ipython3",
   "version": "3.10.9"
  }
 },
 "nbformat": 4,
 "nbformat_minor": 5
}
