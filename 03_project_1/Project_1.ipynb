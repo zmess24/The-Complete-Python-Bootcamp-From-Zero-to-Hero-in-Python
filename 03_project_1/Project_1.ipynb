{
 "cells": [
  {
   "cell_type": "markdown",
   "id": "946172c6",
   "metadata": {},
   "source": [
    "# Project 1: Tic Tac Toe"
   ]
  },
  {
   "cell_type": "code",
   "execution_count": 71,
   "id": "22f10866",
   "metadata": {},
   "outputs": [],
   "source": [
    "def display_board(game_board):\n",
    "    print(f\"|{game_board[6]} | {game_board[7]} | {game_board[8]}|\")\n",
    "    print(f\"|---------|\")\n",
    "    print(f\"|{game_board[3]} | {game_board[4]} | {game_board[5]}|\")\n",
    "    print(f\"|---------|\")\n",
    "    print(f\"|{game_board[0]} | {game_board[1]} | {game_board[2]}|\")"
   ]
  },
  {
   "cell_type": "code",
   "execution_count": 70,
   "id": "58735fc6",
   "metadata": {},
   "outputs": [],
   "source": [
    "def user_choice(player_turn):\n",
    "    choice = ''\n",
    "    acceptable_range = range(1, 10)\n",
    "    within_range = False\n",
    "    error_message = \"Sorry, please enter a valid board position (1-9): \"\n",
    "    \n",
    "    while choice.isdigit() == False or within_range == False:\n",
    "        \n",
    "        choice = input(f\"{player_turn}, please select a board position (1-9): \")\n",
    "        if choice.isdigit() == False:\n",
    "            print(error_message)\n",
    "        elif choice.isdigit() == True:\n",
    "            if int(choice) not in acceptable_range:\n",
    "                print(error_message)\n",
    "                within_range = False\n",
    "            else:\n",
    "                within_range = True\n",
    "\n",
    "    return int(choice)\n",
    "    "
   ]
  },
  {
   "cell_type": "code",
   "execution_count": null,
   "id": "9efb7821",
   "metadata": {},
   "outputs": [],
   "source": [
    "def validate_choice(choice, game_board):\n",
    "    if game_board[choice-1] != \" \"\n",
    "        print(\"Sorry, \")"
   ]
  },
  {
   "cell_type": "code",
   "execution_count": 65,
   "id": "c4c5c881",
   "metadata": {},
   "outputs": [],
   "source": [
    "def resume_play_choice():\n",
    "    choice = ''\n",
    "    acceptable_range = ['Y', 'N']\n",
    "    \n",
    "    while choice not in acceptable_range:\n",
    "        \n",
    "        choice = input(\"Resume Game (Y or N)? \")\n",
    "        \n",
    "        if choice not in acceptable_range:\n",
    "            print(\"Sorry, please enter a valid selection.\")\n",
    "    \n",
    "    if choice == 'Y':\n",
    "        return True\n",
    "    else:\n",
    "        return False"
   ]
  },
  {
   "cell_type": "code",
   "execution_count": 66,
   "id": "914452b7",
   "metadata": {},
   "outputs": [],
   "source": [
    "def toggle_player_turn(player_turn):\n",
    "    if player_turn == \"PlayerX\":\n",
    "        return \"PlayerY\"\n",
    "    else:\n",
    "        return \"PlayerX\""
   ]
  },
  {
   "cell_type": "code",
   "execution_count": null,
   "id": "bd620e6b",
   "metadata": {},
   "outputs": [
    {
     "name": "stdout",
     "output_type": "stream",
     "text": [
      "|  |   |  |\n",
      "|---------|\n",
      "|  |   |  |\n",
      "|---------|\n",
      "|  |   |  |\n",
      "PlayerX, please select a board position (1-9): 1\n",
      "Resume Game (Y or N)? Y\n",
      "|  |   |  |\n",
      "|---------|\n",
      "|  |   |  |\n",
      "|---------|\n",
      "|X |   |  |\n",
      "PlayerY, please select a board position (1-9): 2\n",
      "Resume Game (Y or N)? Y\n",
      "|  |   |  |\n",
      "|---------|\n",
      "|  |   |  |\n",
      "|---------|\n",
      "|X | O |  |\n"
     ]
    }
   ],
   "source": [
    "# Game Variables\n",
    "game_board = [' ',' ',' ',' ',' ',' ', ' ',' ', ' ' ]\n",
    "game_on = True\n",
    "player_map = { \"PlayerX\": \"X\", \"PlayerY\": \"O\" }\n",
    "player_turn = \"PlayerX\"\n",
    "\n",
    "while game_on:\n",
    "    display_board(game_board)\n",
    "    choice = user_choice(game_board, player_turn)\n",
    "    game_board[choice-1] = player_map[player_turn]\n",
    "    game_on = resume_play_choice()\n",
    "    if game_on:\n",
    "        player_turn = toggle_player_turn(player_turn)"
   ]
  },
  {
   "cell_type": "code",
   "execution_count": null,
   "id": "78e7e34b",
   "metadata": {},
   "outputs": [],
   "source": []
  },
  {
   "cell_type": "code",
   "execution_count": null,
   "id": "5ede7e47",
   "metadata": {},
   "outputs": [],
   "source": []
  }
 ],
 "metadata": {
  "kernelspec": {
   "display_name": "Python 3 (ipykernel)",
   "language": "python",
   "name": "python3"
  },
  "language_info": {
   "codemirror_mode": {
    "name": "ipython",
    "version": 3
   },
   "file_extension": ".py",
   "mimetype": "text/x-python",
   "name": "python",
   "nbconvert_exporter": "python",
   "pygments_lexer": "ipython3",
   "version": "3.10.9"
  }
 },
 "nbformat": 4,
 "nbformat_minor": 5
}
