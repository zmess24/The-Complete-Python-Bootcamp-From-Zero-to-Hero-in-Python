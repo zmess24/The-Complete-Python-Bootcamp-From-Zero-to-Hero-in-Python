{
 "cells": [
  {
   "cell_type": "markdown",
   "id": "fea6c4d6",
   "metadata": {},
   "source": [
    "# Project 1: Tic Tac Toe"
   ]
  },
  {
   "cell_type": "code",
   "execution_count": 2,
   "id": "509c210c",
   "metadata": {},
   "outputs": [],
   "source": [
    "def display_board(game_board):\n",
    "    print(f\"|{game_board[6]} | {game_board[7]} | {game_board[8]}|\")\n",
    "    print(f\"|---------|\")\n",
    "    print(f\"|{game_board[3]} | {game_board[4]} | {game_board[5]}|\")\n",
    "    print(f\"|---------|\")\n",
    "    print(f\"|{game_board[0]} | {game_board[1]} | {game_board[2]}|\")"
   ]
  },
  {
   "cell_type": "code",
   "execution_count": 3,
   "id": "4d62d45e",
   "metadata": {},
   "outputs": [],
   "source": [
    "def user_choice(game_board):\n",
    "    choice = ''\n",
    "    acceptable_range = range(1, 10)\n",
    "    within_range = False\n",
    "    error_message = \"Sorry, please enter a valid board position (1-9): \"\n",
    "    \n",
    "    while choice.isdigit() == False or within_range == False:\n",
    "        \n",
    "        choice = input(f\"{player_turn}, please select a board position (1-9): \")\n",
    "        if choice.isdigit() == False:\n",
    "            print(error_message)\n",
    "        elif choice.isdigit() == True:\n",
    "            if int(choice) not in acceptable_range or game_board[int(choice) - 1] != ' ':\n",
    "                print(error_message)\n",
    "                within_range = False\n",
    "            else:\n",
    "                within_range = True\n",
    "\n",
    "    return int(choice)"
   ]
  },
  {
   "cell_type": "code",
   "execution_count": 22,
   "id": "e172b91a",
   "metadata": {},
   "outputs": [],
   "source": [
    "def resume_play_choice():\n",
    "    choice = ''\n",
    "    acceptable_range = ['Y', 'N']\n",
    "    \n",
    "    while choice not in acceptable_range:\n",
    "        \n",
    "        choice = input(\"Play Again (Y or N)? \")\n",
    "        \n",
    "        if choice not in acceptable_range:\n",
    "            print(\"Sorry, please enter a valid selection.\")\n",
    "    \n",
    "    if choice == 'Y':\n",
    "        return True\n",
    "    else:\n",
    "        return False"
   ]
  },
  {
   "cell_type": "code",
   "execution_count": 5,
   "id": "7c18cbe1",
   "metadata": {},
   "outputs": [],
   "source": [
    "def toggle_player_turn(player_turn):\n",
    "    if player_turn == \"PlayerX\":\n",
    "        return \"PlayerY\"\n",
    "    else:\n",
    "        return \"PlayerX\""
   ]
  },
  {
   "cell_type": "code",
   "execution_count": 25,
   "id": "3547015a",
   "metadata": {},
   "outputs": [],
   "source": [
    "def check_win(game_board):\n",
    "    winning_combos = [[0,1,2], [3,4,5], [6,7,8], [0,3,6], [1,4,7], [2,5,8], [0,4,8], [2,4,6]]\n",
    "    \n",
    "    for combo in winning_combos:\n",
    "        if game_board[combo[0]] == \"X\" and game_board[combo[1]] == \"X\" and game_board[combo[2]] == \"X\":\n",
    "            return True\n",
    "        \n",
    "        if game_board[combo[0]] == \"O\" and game_board[combo[1]] == \"O\" and game_board[combo[2]] == \"O\":\n",
    "            return True\n",
    "    else:\n",
    "        return False"
   ]
  },
  {
   "cell_type": "code",
   "execution_count": 24,
   "id": "6271364c",
   "metadata": {},
   "outputs": [
    {
     "name": "stdout",
     "output_type": "stream",
     "text": [
      "|X | X | O|\n",
      "|---------|\n",
      "|X | X | O|\n",
      "|---------|\n",
      "|X | O | O|\n",
      "PlayerX wins!\n",
      "Play Again (Y or N)? N\n"
     ]
    }
   ],
   "source": [
    "from IPython.display import clear_output\n",
    "\n",
    "# Game Variables\n",
    "game_board = [' ',' ',' ',' ',' ',' ', ' ',' ', ' ' ]\n",
    "game_on = True\n",
    "player_map = { \"PlayerX\": \"X\", \"PlayerY\": \"O\" }\n",
    "player_turn = \"PlayerX\"\n",
    "\n",
    "while game_on:\n",
    "    clear_output(wait=False)\n",
    "    display_board(game_board)\n",
    "    choice = user_choice(game_board)\n",
    "    game_board[choice-1] = player_map[player_turn]\n",
    "    win = check_win(game_board)\n",
    "    if win == True:\n",
    "        clear_output(wait=False)\n",
    "        display_board(game_board)\n",
    "        print(f\"{player_turn} wins!\")\n",
    "        game_on = resume_play_choice()\n",
    "        if game_on:\n",
    "            game_board = [' ',' ',' ',' ',' ',' ', ' ',' ', ' ' ]\n",
    "    elif \" \" not in game_board:\n",
    "        clear_output(wait=False)\n",
    "        display_board(game_board)\n",
    "        print(\"Game Over\")\n",
    "        game_on = resume_play_choice()\n",
    "        if game_on:\n",
    "            game_board = [' ',' ',' ',' ',' ',' ', ' ',' ', ' ' ]\n",
    "    else:\n",
    "        player_turn = toggle_player_turn(player_turn)\n"
   ]
  },
  {
   "cell_type": "markdown",
   "id": "d448385d",
   "metadata": {},
   "source": [
    "# SOLUTION"
   ]
  },
  {
   "cell_type": "code",
   "execution_count": 51,
   "id": "65fa8d22",
   "metadata": {},
   "outputs": [],
   "source": [
    "test_board = [\"#\", \"X\", \"O\", \"X\", \"O\", \"X\", \"O\", \"X\", \"O\", \"X\"]"
   ]
  },
  {
   "cell_type": "code",
   "execution_count": 52,
   "id": "748ff1fd",
   "metadata": {},
   "outputs": [],
   "source": [
    "def display_board(game_board):\n",
    "    print(f\"|{game_board[7]} | {game_board[8]} | {game_board[9]}|\")\n",
    "    print(f\"|---------|\")\n",
    "    print(f\"|{game_board[4]} | {game_board[5]} | {game_board[6]}|\")\n",
    "    print(f\"|---------|\")\n",
    "    print(f\"|{game_board[1]} | {game_board[2]} | {game_board[3]}|\")"
   ]
  },
  {
   "cell_type": "code",
   "execution_count": 53,
   "id": "e58c7222",
   "metadata": {},
   "outputs": [],
   "source": [
    "def player_input():\n",
    "    \n",
    "    '''\n",
    "    OUTPUT = (Player 1 marker, Player 2 marker)\n",
    "    '''\n",
    "    \n",
    "    marker = ''\n",
    "    \n",
    "    while marker != \"X\" and marker != \")\":\n",
    "        marker = input(\"Player 1: Choose X or O: \").upper()\n",
    "    \n",
    "    if marker == \"X\":\n",
    "        return (\"X\", \"O\")\n",
    "    else:\n",
    "        return (\"O\", \"X\")"
   ]
  },
  {
   "cell_type": "code",
   "execution_count": 54,
   "id": "010ace4c",
   "metadata": {},
   "outputs": [],
   "source": [
    "def place_marker(board, marker, position):\n",
    "    board[position] = marker"
   ]
  },
  {
   "cell_type": "code",
   "execution_count": 55,
   "id": "e4880fbf",
   "metadata": {},
   "outputs": [],
   "source": [
    "def win_check(board, mark):\n",
    "    winning_combos = [[1,2,3], [4,5,6], [7,8,9], [1,4,7], [2,5,8], [3,6,9], [1,5,9], [3,5,7]]\n",
    "    \n",
    "    for combo in winning_combos:\n",
    "        if board[combo[0]] == mark and board[combo[1]] == mark and board[combo[2]] == mark:\n",
    "            return True\n",
    "    else:\n",
    "        return False"
   ]
  },
  {
   "cell_type": "code",
   "execution_count": 56,
   "id": "4e2f5f41",
   "metadata": {},
   "outputs": [],
   "source": [
    "import random\n",
    "\n",
    "def choose_first():\n",
    "    \n",
    "    flip = random.randint(0,1)\n",
    "    \n",
    "    if flip == 0:\n",
    "        return \"Player 1\"\n",
    "    else:\n",
    "        return \"Player 2\""
   ]
  },
  {
   "cell_type": "code",
   "execution_count": 57,
   "id": "10bb35a2",
   "metadata": {},
   "outputs": [],
   "source": [
    "def space_check(board, position):\n",
    "    return board[position] == \" \""
   ]
  },
  {
   "cell_type": "code",
   "execution_count": 58,
   "id": "04d4dbc6",
   "metadata": {},
   "outputs": [],
   "source": [
    "def full_board_check(board):\n",
    "    for i in range(1,10):\n",
    "        if space_check(board,i):\n",
    "            return False\n",
    "    \n",
    "    return True"
   ]
  },
  {
   "cell_type": "code",
   "execution_count": 59,
   "id": "0d8d1a3c",
   "metadata": {},
   "outputs": [],
   "source": [
    "def player_choice(board):\n",
    "    position = 0\n",
    "    \n",
    "    while position not in [1,2,3,4,5,6,7,8,9] or not space_check(board,position):\n",
    "        position = int(input(\"Choose a position (1-9)\"))\n",
    "    \n",
    "    return position"
   ]
  },
  {
   "cell_type": "code",
   "execution_count": 60,
   "id": "aebb9b5f",
   "metadata": {},
   "outputs": [],
   "source": [
    "def replay():\n",
    "    input(\"Play again? Enter Y or N\")\n",
    "    \n",
    "    return choice == \"Y\""
   ]
  },
  {
   "cell_type": "code",
   "execution_count": 61,
   "id": "63dd4fa3",
   "metadata": {},
   "outputs": [
    {
     "name": "stdout",
     "output_type": "stream",
     "text": [
      "Welcome to Tic Tac Toe\n",
      "Player 1: Choose X or O: X\n",
      "Player 2 will go first\n",
      "Ready to Play? Enter Y or NY\n",
      "|  |   |  |\n",
      "|---------|\n",
      "|  |   |  |\n",
      "|---------|\n",
      "|  |   |  |\n",
      "Choose a position (1-9)1\n",
      "|  |   |  |\n",
      "|---------|\n",
      "|  |   |  |\n",
      "|---------|\n",
      "|O |   |  |\n",
      "Choose a position (1-9)2\n",
      "|  |   |  |\n",
      "|---------|\n",
      "|  |   |  |\n",
      "|---------|\n",
      "|O | X |  |\n",
      "Choose a position (1-9)4\n",
      "|  |   |  |\n",
      "|---------|\n",
      "|O |   |  |\n",
      "|---------|\n",
      "|O | X |  |\n",
      "Choose a position (1-9)7\n",
      "|X |   |  |\n",
      "|---------|\n",
      "|O |   |  |\n",
      "|---------|\n",
      "|O | X |  |\n",
      "Choose a position (1-9)3\n",
      "|X |   |  |\n",
      "|---------|\n",
      "|O |   |  |\n",
      "|---------|\n",
      "|O | X | O|\n",
      "Choose a position (1-9)6\n",
      "|X |   |  |\n",
      "|---------|\n",
      "|O |   | X|\n",
      "|---------|\n",
      "|O | X | O|\n",
      "Choose a position (1-9)8\n",
      "|X | O |  |\n",
      "|---------|\n",
      "|O |   | X|\n",
      "|---------|\n",
      "|O | X | O|\n",
      "Choose a position (1-9)9\n",
      "|X | O | X|\n",
      "|---------|\n",
      "|O |   | X|\n",
      "|---------|\n",
      "|O | X | O|\n",
      "Choose a position (1-9)5\n",
      "|X | O | X|\n",
      "|---------|\n",
      "|O | O | X|\n",
      "|---------|\n",
      "|O | X | O|\n",
      "TIE GAME!\n",
      "Play again? Enter Y or NN\n"
     ]
    }
   ],
   "source": [
    "print(\"Welcome to Tic Tac Toe\")\n",
    "\n",
    "while True:\n",
    "    \n",
    "    # Play the game\n",
    "    board = [' ']*10\n",
    "    player1_marker, player2_marker = player_input()\n",
    "    \n",
    "    turn = choose_first()\n",
    "    print(f\"{turn} will go first\")\n",
    "    \n",
    "    play_game = input('Ready to Play? Enter Y or N')\n",
    "    \n",
    "    if play_game == \"Y\":\n",
    "        game_on = True\n",
    "    else:\n",
    "        game_on = False\n",
    "        \n",
    "    while game_on:\n",
    "        \n",
    "        if turn == \"Player 1\":\n",
    "            # Show the board\n",
    "            display_board(board)\n",
    "            #Choose a position\n",
    "            position = player_choice(board)\n",
    "            #Place marker on position\n",
    "            place_marker(board, player1_marker, position)\n",
    "            \n",
    "            #Check for win\n",
    "            if win_check(board, player1_marker):\n",
    "                display_board(board)\n",
    "                print(\"PLAYER 1 HAS WON\")\n",
    "                game_on = False\n",
    "            else:\n",
    "                if full_board_check(board):\n",
    "                    display_board(board)\n",
    "                    print(\"TIE GAME!\")\n",
    "                    game_on = False\n",
    "\n",
    "                else:\n",
    "                    turn = \"Player 2\"\n",
    "                \n",
    "        else:\n",
    "            # Show the board\n",
    "            display_board(board)\n",
    "            #Choose a position\n",
    "            position = player_choice(board)\n",
    "            #Place marker on position\n",
    "            place_marker(board, player2_marker, position)\n",
    "            \n",
    "            #Check for win\n",
    "            if win_check(board, player2_marker):\n",
    "                display_board(board)\n",
    "                print(\"PLAYER 1 HAS WON\")\n",
    "                game_on = False\n",
    "            else:\n",
    "                if full_board_check(board):\n",
    "                    display_board(board)\n",
    "                    print(\"TIE GAME!\")\n",
    "                    game_on = False\n",
    "\n",
    "                else:\n",
    "                    turn = \"Player 1\"\n",
    "    \n",
    "    \n",
    "    if not replay():\n",
    "        break"
   ]
  },
  {
   "cell_type": "code",
   "execution_count": null,
   "id": "5f6a55b6",
   "metadata": {},
   "outputs": [],
   "source": []
  }
 ],
 "metadata": {
  "kernelspec": {
   "display_name": "Python 3 (ipykernel)",
   "language": "python",
   "name": "python3"
  },
  "language_info": {
   "codemirror_mode": {
    "name": "ipython",
    "version": 3
   },
   "file_extension": ".py",
   "mimetype": "text/x-python",
   "name": "python",
   "nbconvert_exporter": "python",
   "pygments_lexer": "ipython3",
   "version": "3.10.9"
  }
 },
 "nbformat": 4,
 "nbformat_minor": 5
}
