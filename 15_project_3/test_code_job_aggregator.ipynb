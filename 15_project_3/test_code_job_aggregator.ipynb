{
 "cells": [
  {
   "cell_type": "code",
   "execution_count": 278,
   "id": "c36a20e5",
   "metadata": {},
   "outputs": [],
   "source": [
    "import requests\n",
    "import bs4\n",
    "import re\n",
    "\n",
    "source = ['https://www.forbes.com/lists/ai50']\n",
    "jobs = []"
   ]
  },
  {
   "cell_type": "code",
   "execution_count": 262,
   "id": "d2dab3e8",
   "metadata": {},
   "outputs": [],
   "source": [
    "class Company:\n",
    "    \n",
    "    def __init__(self,name):\n",
    "        self.name = name\n",
    "        self.open_roles = []\n",
    "        \n",
    "    def add_open_role(self, role):\n",
    "        self.open_roles.append(role)\n",
    "        \n",
    "    def __str__(self):\n",
    "        roles = ''\n",
    "        for role in self.open_roles:\n",
    "            roles += f\"\\n{role.__str__()}\"\n",
    "        \n",
    "        return f\"{self.name.capitalize()} has: {roles}\""
   ]
  },
  {
   "cell_type": "code",
   "execution_count": 263,
   "id": "41b29bcc",
   "metadata": {},
   "outputs": [],
   "source": [
    "class Role:\n",
    "    def __init__(self, title, location, link):\n",
    "        self.title = title\n",
    "        self.location = location\n",
    "        self.link = link\n",
    "        \n",
    "    def __str__(self):\n",
    "        return f\"{self.title} in {self.location}\""
   ]
  },
  {
   "cell_type": "code",
   "execution_count": 290,
   "id": "1daa6740",
   "metadata": {},
   "outputs": [],
   "source": [
    "def init_bs4(base_url):\n",
    "    result = requests.get(base_url).text\n",
    "    return bs4.BeautifulSoup(result, \"html.parser\")"
   ]
  },
  {
   "cell_type": "code",
   "execution_count": 291,
   "id": "983c81c4",
   "metadata": {},
   "outputs": [],
   "source": [
    "def crawl_google(company):\n",
    "    pattern = r\"www.linkedin.com\\/company\\/.*\\/jobs\"\n",
    "    base_url = f\"https://www.google.com/search?q={company.name}+ai+jobs\"\n",
    "    result = requests.get(base_url).text\n",
    "    soup = bs4.BeautifulSoup(result, \"html.parser\")\n",
    "    linkedIn_link = soup.find_all('a', {'href': re.compile(pattern)})\n",
    "    print(linkedIn_link)\n",
    "#     https://www.linkedin.com/company/shield-ai/jobs"
   ]
  },
  {
   "cell_type": "code",
   "execution_count": 292,
   "id": "72ff0727",
   "metadata": {},
   "outputs": [],
   "source": [
    "def scrape_lever(company):\n",
    "    # BS4 Setup\n",
    "    soup = init_bs4(f\"https://jobs.lever.co/{company.name}\")\n",
    "    postings = soup.select('.posting')\n",
    "\n",
    "    for posting in postings:\n",
    "        title = posting.find('h5').text\n",
    "        location = posting.select('.location')[0].get_text()\n",
    "        link = posting.select('.posting-apply a')[0]['href']\n",
    "        \n",
    "        role = Role(title, location, link)\n",
    "        company.add_open_role(role)"
   ]
  },
  {
   "cell_type": "code",
   "execution_count": 284,
   "id": "504d603d",
   "metadata": {},
   "outputs": [],
   "source": [
    "def scrape_forbes():\n",
    "    # BS4 Setup\n",
    "    base_url = f\"https://www.forbes.com/lists/ai50\"\n",
    "    result = requests.get(base_url).text\n",
    "    soup = bs4.BeautifulSoup(result, \"html.parser\")\n",
    "    link = soup.select('..table-row-group .table-row')\n",
    "    print(link)"
   ]
  },
  {
   "cell_type": "code",
   "execution_count": 293,
   "id": "e3919040",
   "metadata": {},
   "outputs": [
    {
     "data": {
      "text/plain": [
       "'Shieldai has: \\nAccounts Payable Manager (on site in Dallas) in Dallas Metro Area\\nManager, Government Compliance (R2155) in United States\\nV-BAT Air Vehicle Operator (R1910) in Dallas Metro Area\\nV-BAT Operations Officer (R2142) in Dallas Metro Area\\nIT Service Desk Manager in Washington DC Metro Area\\nSenior Cybersecurity Manager (R2037) in Dallas Metro Area\\nSenior Systems Administrator (R1941) in Washington DC Metro Area\\nFleet Engineer (R1898) in Dallas Metro Area\\nFleet Management Project Manager (R2144) in Dallas Metro Area\\nContinuous Improvement Engineer (R2014) in Dallas Metro Area\\nDirector of Quality in Dallas Metro Area\\nInventory Clerk, V-BAT Internal Fleet (R2174) in Dallas Metro Area\\nPrice/Cost Analyst, Material Estimator, San Diego, CA or Frisco, TX (R2090) in Dallas Metro Area\\nSubcontracts Admin, Dallas, TX or San Diego, CA (R2134) in United States\\nSubcontracts/Procurement Manager (R2021) in Dallas Metro Area\\nDirector of User Experience Design (San Diego, Dallas, or Washington DC) (R2137) in United States\\nSenior C++ Modeling & Simulation Engineer (R1914) in Washington DC Metro Area\\nSoftware Engineer C++ in California, MD\\nEngineering Manager, PAC (R2124) in San Diego Metro Area\\nEngineering Manager, PAC (R2124) in Dallas Metro Area\\nSoftware Engineering Manager, Build & Tools (R1659) in San Diego Metro Area\\nSoftware Engineering Manager, Build & Tools (R1659) in Dallas Metro Area\\nStaff Engineer in San Diego Metro Area\\nStaff Systems Engineer, Dallas (R2083) in Dallas Metro Area\\nStaff Systems Engineer, San Diego (R2083) in San Diego Metro Area\\nSystems Engineering Manager, Dallas (R2079) in Dallas Metro Area\\nSystems Engineering Manager, San Diego (R2079) in San Diego Metro Area\\nStaff Software Foundations Test Engineer, Dallas (R2138) in Dallas Metro Area\\nStaff Software Foundations Test Engineer, San Diego (R2138) in San Diego Metro Area\\nTest Operations Engineering Manager (R2106) in San Diego Metro Area\\nElectrical Engineer (2153) in Dallas Metro Area\\nSr Manager of Electrical Engineering, RF (R2151) in Dallas Metro Area\\nStaff Electrical Engineer (R1958) in Dallas Metro Area\\nSenior Propulsion Engineer (R2180) in Dallas Metro Area\\nStaff Propulsion Engineer (R2173) in Dallas Metro Area\\nStaff Systems Engineer, Dallas (R2110) in Dallas Metro Area\\nSenior Staff Aircraft Systems Test Engineer (R2073) in Dallas Metro Area\\nProject Manager/Program Manager Dallas TX (R2187) in Dallas Metro Area\\nTechnical Director, D.C. (R2020) in Washington DC Metro Area'"
      ]
     },
     "execution_count": 293,
     "metadata": {},
     "output_type": "execute_result"
    }
   ],
   "source": [
    "company_name = 'shieldai'\n",
    "company = Company(company_name)\n",
    "# crawl_google(company)\n",
    "scrape_lever(company)\n",
    "company.__str__()"
   ]
  },
  {
   "cell_type": "code",
   "execution_count": null,
   "id": "a5745d42",
   "metadata": {},
   "outputs": [],
   "source": []
  },
  {
   "cell_type": "code",
   "execution_count": null,
   "id": "24c2e752",
   "metadata": {},
   "outputs": [],
   "source": []
  }
 ],
 "metadata": {
  "kernelspec": {
   "display_name": "Python 3 (ipykernel)",
   "language": "python",
   "name": "python3"
  },
  "language_info": {
   "codemirror_mode": {
    "name": "ipython",
    "version": 3
   },
   "file_extension": ".py",
   "mimetype": "text/x-python",
   "name": "python",
   "nbconvert_exporter": "python",
   "pygments_lexer": "ipython3",
   "version": "3.10.9"
  }
 },
 "nbformat": 4,
 "nbformat_minor": 5
}
