{
 "cells": [
  {
   "cell_type": "code",
   "execution_count": 6,
   "id": "9db6094b",
   "metadata": {},
   "outputs": [],
   "source": [
    "import scrapy\n",
    "from scrapy.crawler import CrawlerProcess\n",
    "import re\n",
    "import logging"
   ]
  },
  {
   "cell_type": "code",
   "execution_count": 7,
   "id": "de78cffe",
   "metadata": {},
   "outputs": [],
   "source": [
    "class ExtractFirstLine(object):\n",
    "    def process_item(self, item, spider):\n",
    "        lines = dict(item)[\"quote\"].splitlines()\n",
    "        first_line = self.__remove_html_tags__(lines[0])\n",
    "        return {'quote': first_line}\n",
    "    \n",
    "    def __remove_html_tags__(self, text):\n",
    "        html_tags = re.compile('<.*?>')\n",
    "        return re.sub(html_tags, '', text)"
   ]
  },
  {
   "cell_type": "code",
   "execution_count": 8,
   "id": "e249443c",
   "metadata": {},
   "outputs": [],
   "source": [
    "class MarilynMansonQuotesFirstLineOnly(scrapy.Spider):\n",
    "    name = \"MarilynMansonQuotesFirstLineOnly\"\n",
    "    start_urls = [\n",
    "        'https://en.wikiquote.org/wiki/Marilyn_Manson',\n",
    "    ]\n",
    "    \n",
    "    custom_settings = {\n",
    "        'LOG_LEVEL': logging.WARNING,\n",
    "        'ITEM_PIPELINES': {'__main__.ExtractFirstLine': 1},\n",
    "        'FEED_FORMAT':'csv',\n",
    "        'FEED_URI': 'marilyn_manson.csv'\n",
    "    }\n",
    "        \n",
    "    def parse(self, response):\n",
    "        for quote in response.css('div.mw-parser-output > ul > li'):\n",
    "            yield {'quote': quote.extract()}\n",
    "    \n",
    "    def __remove_html_tags__(self, text):\n",
    "        html_tags = re.compile('<.*?>')\n",
    "        return re.sub(html_tags, '', text)"
   ]
  },
  {
   "cell_type": "code",
   "execution_count": 9,
   "id": "71a67276",
   "metadata": {},
   "outputs": [
    {
     "name": "stderr",
     "output_type": "stream",
     "text": [
      "2023-06-07 19:14:21 [scrapy.utils.log] INFO: Scrapy 2.8.0 started (bot: scrapybot)\n",
      "2023-06-07 19:14:21 [scrapy.utils.log] INFO: Versions: lxml 4.9.1.0, libxml2 2.9.14, cssselect 1.1.0, parsel 1.6.0, w3lib 1.21.0, Twisted 22.2.0, Python 3.10.9 (main, Mar  1 2023, 12:20:14) [Clang 14.0.6 ], pyOpenSSL 23.0.0 (OpenSSL 1.1.1t  7 Feb 2023), cryptography 39.0.1, Platform macOS-12.6.2-arm64-arm-64bit\n"
     ]
    },
    {
     "ename": "NameError",
     "evalue": "name 'MarilynMansonQuotes' is not defined",
     "output_type": "error",
     "traceback": [
      "\u001b[0;31m---------------------------------------------------------------------------\u001b[0m",
      "\u001b[0;31mNameError\u001b[0m                                 Traceback (most recent call last)",
      "Cell \u001b[0;32mIn[9], line 2\u001b[0m\n\u001b[1;32m      1\u001b[0m process \u001b[38;5;241m=\u001b[39m CrawlerProcess()\n\u001b[0;32m----> 2\u001b[0m process\u001b[38;5;241m.\u001b[39mcrawl(\u001b[43mMarilynMansonQuotes\u001b[49m)\n\u001b[1;32m      3\u001b[0m process\u001b[38;5;241m.\u001b[39mstart()\n",
      "\u001b[0;31mNameError\u001b[0m: name 'MarilynMansonQuotes' is not defined"
     ]
    }
   ],
   "source": [
    "process = CrawlerProcess()\n",
    "process.crawl(MarilynMansonQuotes)\n",
    "process.start()"
   ]
  },
  {
   "cell_type": "code",
   "execution_count": null,
   "id": "9fe96088",
   "metadata": {},
   "outputs": [],
   "source": []
  }
 ],
 "metadata": {
  "kernelspec": {
   "display_name": "Python 3 (ipykernel)",
   "language": "python",
   "name": "python3"
  },
  "language_info": {
   "codemirror_mode": {
    "name": "ipython",
    "version": 3
   },
   "file_extension": ".py",
   "mimetype": "text/x-python",
   "name": "python",
   "nbconvert_exporter": "python",
   "pygments_lexer": "ipython3",
   "version": "3.10.9"
  }
 },
 "nbformat": 4,
 "nbformat_minor": 5
}
