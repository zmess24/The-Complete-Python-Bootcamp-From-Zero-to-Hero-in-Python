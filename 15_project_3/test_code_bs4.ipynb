{
 "cells": [
  {
   "cell_type": "markdown",
   "id": "c1b52898",
   "metadata": {},
   "source": [
    "# With Beautiful Soup & Requests"
   ]
  },
  {
   "cell_type": "code",
   "execution_count": 247,
   "id": "c6e651c9",
   "metadata": {},
   "outputs": [],
   "source": [
    "import requests\n",
    "import bs4\n",
    "import re\n"
   ]
  },
  {
   "cell_type": "code",
   "execution_count": 139,
   "id": "fdfadece",
   "metadata": {},
   "outputs": [],
   "source": [
    "class Companies:\n",
    "    \n",
    "    def __init__(self):\n",
    "        self.all_companies = []\n",
    "        self.all_departments = set()\n",
    "    \n",
    "    def add_company(self, company):\n",
    "        self.all_companies.append(company)\n",
    "        self.all_departments = self.all_departments.union(company.departments)\n",
    "    \n",
    "    def find_roles_by_department(self, department):\n",
    "        role_list = list()\n",
    "        for company in self.all_companies: \n",
    "            for role in company.open_roles:\n",
    "                if role.department == department:\n",
    "                    role_list.append({ \"\": })\n",
    "        return role_list"
   ]
  },
  {
   "cell_type": "code",
   "execution_count": 120,
   "id": "f2beac41",
   "metadata": {},
   "outputs": [],
   "source": [
    "class Company:\n",
    "    \n",
    "    def __init__(self,name, job_portal):\n",
    "        self.name = name\n",
    "        self.open_roles = []\n",
    "        self.departments = set()\n",
    "        self.job_portal = job_portal\n",
    "        \n",
    "    def add_open_role(self, role):\n",
    "        self.open_roles.append(role)\n",
    "        self.departments.add(role.department)\n",
    "    \n",
    "    def __str__(self):\n",
    "        roles = ''\n",
    "        for role in self.open_roles:\n",
    "            roles += f\"\\n{role.__str__()}\"\n",
    "        \n",
    "        return f\"{self.name.capitalize()} has: {roles}\""
   ]
  },
  {
   "cell_type": "code",
   "execution_count": 185,
   "id": "dc38a196",
   "metadata": {},
   "outputs": [],
   "source": [
    "class Role:\n",
    "    def __init__(self, title, location, link, department, company):\n",
    "        self.title = title\n",
    "        self.location = location\n",
    "        self.link = link\n",
    "        self.department = department\n",
    "        self.company = company\n",
    "        \n",
    "    def __str__(self):\n",
    "        return f\"{self.title} in {self.location} | {self.department} | {self.company} | {self.link}\""
   ]
  },
  {
   "cell_type": "code",
   "execution_count": 154,
   "id": "8c4e27b7",
   "metadata": {},
   "outputs": [],
   "source": [
    "def init_bs4(base_url):\n",
    "    result = requests.get(base_url).text\n",
    "    return bs4.BeautifulSoup(result, \"html.parser\")"
   ]
  },
  {
   "cell_type": "code",
   "execution_count": 179,
   "id": "2b79edd4",
   "metadata": {},
   "outputs": [],
   "source": [
    "def grab_department(department, job_portal):\n",
    "    def sanitize_string(string):\n",
    "        return string.lstrip().rstrip()\n",
    "    \n",
    "    name = None\n",
    "    \n",
    "    try:\n",
    "        if job_portal == \"lever\":\n",
    "            name = department.select('.posting-category-title')[0].get_text()\n",
    "        elif job_portal == \"greenhouse\":\n",
    "            name = department.find('h3').text\n",
    "    except:\n",
    "        name = \"Other\"\n",
    "    finally:\n",
    "        return sanitize_string(name)"
   ]
  },
  {
   "cell_type": "code",
   "execution_count": 176,
   "id": "bc395dea",
   "metadata": {},
   "outputs": [],
   "source": [
    "def scrape_lever(company):\n",
    "    soup = init_bs4(company.job_portal)\n",
    "    departments = soup.select('.postings-group')\n",
    "    \n",
    "    for department in departments:\n",
    "        department_name = grab_department(department, \"lever\")\n",
    "        \n",
    "        for opening in department.select('.posting'):\n",
    "            title = opening.find('h5').text\n",
    "            location = opening.select('.location')[0].get_text()\n",
    "            link = opening.select('.posting-apply a')[0]['href']\n",
    "\n",
    "            role = Role(title, location, link, department_name, company.name)\n",
    "            company.add_open_role(role)\n",
    "\n",
    "def scrape_greenhouse(company):\n",
    "    soup = init_bs4(company.job_portal)\n",
    "    departments = soup.select('section.level-0')\n",
    "    \n",
    "    for department in departments:\n",
    "        department_name = grab_department(department, \"greenhouse\")\n",
    "        \n",
    "        for opening in department.select('.opening'):\n",
    "            title = opening.find('a').text\n",
    "            location = opening.select('.location')[0].get_text()\n",
    "            link = f\"https://boards.greenhouse.io{opening.select('a')[0]['href']}\"\n",
    "            \n",
    "            role = Role(title, location, link, department_name, company.name)\n",
    "            company.add_open_role(role)"
   ]
  },
  {
   "cell_type": "markdown",
   "id": "0d2673e0",
   "metadata": {},
   "source": [
    "# With Scrapy"
   ]
  },
  {
   "cell_type": "code",
   "execution_count": 186,
   "id": "053c6754",
   "metadata": {},
   "outputs": [
    {
     "name": "stdout",
     "output_type": "stream",
     "text": [
      " Scraping OpenAI\n",
      " Scraping Memora Health\n",
      " Scraping MindsDB\n",
      " Scraping Shield AI\n",
      " Scraping Spot AI\n",
      " Scraping Fathom\n",
      " Scraping Deepgram\n",
      " Scraping AMP Robotics\n",
      " Scraping Kumo\n",
      " Scraping Abridge\n",
      " Scraping Aisera\n",
      " Scraping AssemblyAI\n",
      " Scraping Tecton.AI\n",
      " Scraping Optimal Dynamics\n",
      " Scraping Built Robotics\n",
      " Scraping Viz\n",
      " Scraping Lilt\n",
      " Scraping Cresta\n",
      " Scraping Deepcell\n",
      " Scraping Veriff\n",
      " Scraping Labelbox\n",
      " Scraping HyperScience\n",
      " Scraping Robust Intelligence\n",
      " Scraping Robin Healthcare\n",
      " Scraping Synthesia\n",
      " Scraping VergeSense\n",
      " Scraping Shift Technology\n",
      " Scraping copy.ai\n",
      " Scraping Osaro\n",
      " Scraping Centaur Labs\n",
      " Scraping Moveworks\n",
      " Scraping Neuralink\n",
      " Scraping Standard AI\n",
      " Scraping Scale AI\n",
      " Scraping Crosschq\n",
      " Scraping Ada\n",
      " Scraping AEye\n",
      " Scraping Databricks\n",
      " Scraping People.ai\n",
      " Scraping Sisu\n",
      " Scraping Dialpad\n",
      " Scraping AKASA\n",
      " Scraping Dyno Therapeutics\n",
      " Scraping Cape Analytics\n",
      " Scraping Vectra AI\n",
      " Scraping Deep Genomics\n",
      " Scraping Tempo\n",
      " Scraping Orbital Insight\n",
      " Scraping Tessian\n",
      " Scraping Domino Data Lab\n",
      " Scraping Vise\n",
      " Scraping Physna\n",
      " Scraping Observe.AI\n",
      " Scraping SiSense\n",
      " Scraping Iris Automation\n",
      " Scraping Rigetti Computing\n",
      " Scraping Rasa\n",
      " Scraping Atomwise\n",
      " Scraping Caption Health\n",
      " Scraping Curai Health\n",
      " Scraping Graphcore\n",
      " Scraping AI2\n",
      " Scraping SoundHound\n",
      " Scraping Pindrop Security\n"
     ]
    }
   ],
   "source": [
    "companies = Companies()\n",
    "\n",
    "for item in company_data:\n",
    "    company = Company(item['name'], item['link'])\n",
    "    print(f\" Scraping {company.name}\")\n",
    "    if 'lever' in company.job_portal:\n",
    "        scrape_lever(company)\n",
    "    elif 'greenhouse' in company.job_portal:\n",
    "        scrape_greenhouse(company)\n",
    "    \n",
    "    companies.add_company(company)"
   ]
  },
  {
   "cell_type": "code",
   "execution_count": 187,
   "id": "af9fb412",
   "metadata": {},
   "outputs": [
    {
     "name": "stdout",
     "output_type": "stream",
     "text": [
      "Client Growth in Remote | Customer Success | Fathom | https://boards.greenhouse.io/fathom/jobs/5536914003\n",
      "Client Growth in San Francisco | Customer Success | Fathom | https://boards.greenhouse.io/fathom/jobs/5544517003\n",
      "AI Services Engineer in Palo Alto, CA | Customer Success | Aisera | https://boards.greenhouse.io/aiserajobs/jobs/4899686004\n",
      "AI Services Engineer, Remote in Bangalore, India | Customer Success | Aisera | https://boards.greenhouse.io/aiserajobs/jobs/4595857004\n",
      "AI Services Manager in Palo Alto, CA | Customer Success | Aisera | https://boards.greenhouse.io/aiserajobs/jobs/4850507004\n",
      "Customer Engineer in Palo Alto, California | Customer Success | Aisera | https://boards.greenhouse.io/aiserajobs/jobs/4857064004\n",
      "Customer Success Engineer in Bangalore, India  | Customer Success | Aisera | https://boards.greenhouse.io/aiserajobs/jobs/4345512004\n",
      "Customer Success Manager in Hyderabad, India | Customer Success | Aisera | https://boards.greenhouse.io/aiserajobs/jobs/4595855004\n",
      "Customer Success Operations Manager in Palo Alto, CA | Customer Success | Aisera | https://boards.greenhouse.io/aiserajobs/jobs/4840850004\n",
      "Director of Customer Success in Hyderabad, India (Remote) | Customer Success | Aisera | https://boards.greenhouse.io/aiserajobs/jobs/4682408004\n",
      "Escalation Manager in Bangalore, India  | Customer Success | Aisera | https://boards.greenhouse.io/aiserajobs/jobs/4732003004\n",
      "Technical Project Manager in Hyderabad, India | Customer Success | Aisera | https://boards.greenhouse.io/aiserajobs/jobs/4678362004\n",
      "Technical Project Manager in Palo Alto, CA | Customer Success | Aisera | https://boards.greenhouse.io/aiserajobs/jobs/4899664004\n",
      "Technical Project Manager in Hyderabad, Bangalore (Remote) | Customer Success | Aisera | https://boards.greenhouse.io/aiserajobs/jobs/4831792004\n",
      "Technical Support Engineer in Bangalore, India | Customer Success | Aisera | https://boards.greenhouse.io/aiserajobs/jobs/4587727004\n",
      "Technical Support Engineer in Palo Alto, CA | Customer Success | Aisera | https://boards.greenhouse.io/aiserajobs/jobs/4846819004\n",
      "Learning Manager in United States | Customer Success | Tecton.AI | https://jobs.lever.co/tecton/64694b85-2e61-4faf-ba60-1157d0f5cf1f\n",
      "Customer Success Manager in USA (Remote) | Customer Success | Cresta | https://jobs.lever.co/cresta/b21165b1-379e-4853-86c7-eafabbf0c25c\n",
      "Data Scientist in USA (Remote) | Customer Success | Cresta | https://jobs.lever.co/cresta/9f7dd9a9-d219-4901-b932-43edfeb1c9df\n",
      "Data Scientist in Toronto (Remote) | Customer Success | Cresta | https://jobs.lever.co/cresta/74d21dff-831f-4d47-bc73-9fbbbedbcac8\n",
      "Customer Success Director, Commercial Applications in Menlo Park, CA | Customer Success | Deepcell | https://jobs.lever.co/deepcell/e9ad216d-d13d-4b9a-9426-22f687c65625\n",
      "Customer Success Manager- East USA in Remote (East), USA | Customer Success | Moveworks | https://boards.greenhouse.iohttps://www.moveworks.com/position?gh_jid=6738012002\n",
      "Customer Success Manager- East USA in New York City, NY | Customer Success | Moveworks | https://boards.greenhouse.iohttps://www.moveworks.com/position?gh_jid=6738014002\n",
      "Customer Success Manager- East USA in Atlanta, GA | Customer Success | Moveworks | https://boards.greenhouse.iohttps://www.moveworks.com/position?gh_jid=6738013002\n",
      "Customer Success Manager- EMEA in London, United Kingdom | Customer Success | Moveworks | https://boards.greenhouse.iohttps://www.moveworks.com/position?gh_jid=6781710002\n",
      "Implementation Manager - East in Remote, USA | Customer Success | Moveworks | https://boards.greenhouse.iohttps://www.moveworks.com/position?gh_jid=6682936002\n",
      "Implementation Manager - East in Toronto, Canada | Customer Success | Moveworks | https://boards.greenhouse.iohttps://www.moveworks.com/position?gh_jid=6667968002\n",
      "Technical Support Engineer in Bengaluru, India | Customer Success | Moveworks | https://boards.greenhouse.iohttps://www.moveworks.com/position?gh_jid=6594294002\n",
      "Customer Success Manager in Remote | Customer Success | People.ai | https://jobs.lever.co/people-ai/240f24bd-4ede-42d7-a424-0f5c35ef7861\n",
      "Customer Success Manager in UK - London (Office) | Customer Success | Tessian | https://jobs.lever.co/tessian/8b0029ff-4e28-449c-a956-93063563ff02\n",
      "Business Value Consultant in San Francisco, CA | Customer Success | Observe.AI | https://jobs.lever.co/observeai/ca3c5d15-8623-427e-9d05-84574eef0e53\n",
      "Data Engineer in New York, NY; US-Remote | Customer Success | SiSense | https://boards.greenhouse.iohttps://www.sisense.com/careers/2444603?gh_jid=2444603\n",
      "Junior Technical Support Engineer for Infra/Deploy Pod (Late shifts)  in Kyiv, Ukraine | Customer Success | SiSense | https://boards.greenhouse.iohttps://www.sisense.com/careers/5053942?gh_jid=5053942\n",
      "Senior Manager, Customer Success in New York, NY; United States-Remote;  | Customer Success | SiSense | https://boards.greenhouse.iohttps://www.sisense.com/careers/5008230?gh_jid=5008230\n",
      "Technical Account Manager in Tel Aviv-Yafo, Gush Dan, Israel | Customer Success | SiSense | https://boards.greenhouse.iohttps://www.sisense.com/careers/5040713?gh_jid=5040713\n",
      "Technical Account Manager in New York, NY; San Francisco, CA; US-Remote | Customer Success | SiSense | https://boards.greenhouse.iohttps://www.sisense.com/careers/2421734?gh_jid=2421734\n",
      "Technical Account Manager in New York, NY; United States-Remote; San Francisco, CA | Customer Success | SiSense | https://boards.greenhouse.iohttps://www.sisense.com/careers/5045692?gh_jid=5045692\n",
      "Technical Account Manager in London, UK | Customer Success | SiSense | https://boards.greenhouse.iohttps://www.sisense.com/careers/5023405?gh_jid=5023405\n",
      "Technical Support Engineer | Analytics Pod (late shift) in Kyiv, Ukraine | Customer Success | SiSense | https://boards.greenhouse.iohttps://www.sisense.com/careers/5050566?gh_jid=5050566\n",
      "Technical Support Engineer for Data Pod (late shifts) in Kyiv, Ukraine | Customer Success | SiSense | https://boards.greenhouse.iohttps://www.sisense.com/careers/5050418?gh_jid=5050418\n",
      "Technical Support Engineer for DevX (late shifts) in Ukraine | Customer Success | SiSense | https://boards.greenhouse.iohttps://www.sisense.com/careers/5033310?gh_jid=5033310\n",
      "Resident AI Engineer in Remote - USA | Customer Success | Rasa | https://boards.greenhouse.io/rasa/jobs/6438549002\n"
     ]
    }
   ],
   "source": [
    "roles = companies.find_roles_by_department('Customer Success')\n",
    "for role in roles:\n",
    "    print(role)"
   ]
  },
  {
   "cell_type": "code",
   "execution_count": null,
   "id": "883e6bbc",
   "metadata": {},
   "outputs": [],
   "source": []
  },
  {
   "cell_type": "code",
   "execution_count": 203,
   "id": "b0f8df44",
   "metadata": {},
   "outputs": [
    {
     "data": {
      "text/plain": [
       "{'1104 - Computer Vision',\n",
       " '1105 - Data Science',\n",
       " '130 - Customer Support',\n",
       " '1301 - Program Mgt - PS',\n",
       " '140 - Customer Success',\n",
       " '150 - Professional Services',\n",
       " '2101 - Sales - Commercial',\n",
       " '2103 - Sales - PS',\n",
       " '211 - Product Engineering',\n",
       " '213 - Telephony Engineering',\n",
       " '214 - AI Engineering',\n",
       " '220 - Design',\n",
       " '230 - Quality Assurance',\n",
       " '240 - Product Management',\n",
       " '244 - AI Data Annotation',\n",
       " '246 - Data - Product Management',\n",
       " '410 - Marketing',\n",
       " '4102 - UX-UI Engr',\n",
       " '4301 - Product - Content/Vendor',\n",
       " '435 - Marketing Growth',\n",
       " '450 - Demand Generation',\n",
       " '515 - Enterprise Sales',\n",
       " '520 - Sales Engineering',\n",
       " '526 - Business Technology',\n",
       " '530 - MidMarket Sales',\n",
       " '535 - SMB Sales',\n",
       " '540 - Sales Development',\n",
       " '550 - Channel Sales',\n",
       " '580 - VSB Sales',\n",
       " '610 - Accounting',\n",
       " '620 - Legal',\n",
       " '645 - Facilities',\n",
       " '650 - Data',\n",
       " 'AI / ML Data Science',\n",
       " 'AI/ML Engineering',\n",
       " 'Active Learning',\n",
       " 'Applied ML',\n",
       " 'Applied ML or Research',\n",
       " 'Business Development',\n",
       " 'COGS',\n",
       " 'Cheminformatics',\n",
       " 'Client Solutions & Support',\n",
       " 'Commercial',\n",
       " 'Communications Design',\n",
       " 'Connected Devices',\n",
       " 'Corporate',\n",
       " 'Creative',\n",
       " 'Customer Engineering',\n",
       " 'Customer Success',\n",
       " 'Customer Success Engineering',\n",
       " 'Customer Support',\n",
       " 'Data Science',\n",
       " 'Deployed Operations',\n",
       " 'Design',\n",
       " 'DevOps',\n",
       " 'Digital Identity',\n",
       " \"Don't see a position that suits your interest or skills?\",\n",
       " 'Engineering',\n",
       " 'Engineering - Development',\n",
       " 'Engineering - Europe',\n",
       " 'Engineering - General',\n",
       " 'Engineering - Operations',\n",
       " 'Engineering Infrastructure',\n",
       " 'Engineering Productivity',\n",
       " 'Engineering- RE',\n",
       " 'Engineering: Infrastructure',\n",
       " 'Engineering: PRIOR',\n",
       " 'Engineering: Semantic Scholar',\n",
       " 'Engineering: Skylight',\n",
       " 'Enterprise Features',\n",
       " 'Enterprise Operations',\n",
       " 'Finance',\n",
       " 'Finance & Accounting',\n",
       " 'Finance & Legal',\n",
       " 'Finance/Accounting',\n",
       " 'Fleet Asset Management',\n",
       " 'G&A',\n",
       " 'G&A (Corporate)',\n",
       " 'GTM',\n",
       " 'General',\n",
       " 'Go To Market',\n",
       " 'Growth',\n",
       " 'Hardware',\n",
       " 'Hardware Engineering',\n",
       " 'Hivemind - Hivemind Design',\n",
       " 'Hivemind - Hivemind Edge',\n",
       " 'Hivemind - Systems',\n",
       " 'Hivemind - Test',\n",
       " 'Human Resources',\n",
       " 'IT',\n",
       " 'Information Technology',\n",
       " \"Interested in Standard AI but don't see the right job?\",\n",
       " 'Internships',\n",
       " 'Labeling Workflow',\n",
       " 'Legal',\n",
       " 'ML Support Engineering',\n",
       " 'Machine Learning',\n",
       " 'Machine Learning Engineers',\n",
       " 'Manufacturing',\n",
       " 'Marketing',\n",
       " 'Operations',\n",
       " 'Operations: General',\n",
       " 'Other',\n",
       " 'People',\n",
       " 'People & Culture',\n",
       " 'People Operations',\n",
       " 'Perception',\n",
       " 'Physician',\n",
       " 'Platform - Electrical',\n",
       " 'Platform - Mechanical',\n",
       " 'Platform - Systems',\n",
       " 'Platform - Test',\n",
       " 'Predictive Systems',\n",
       " 'Product',\n",
       " 'Product & Engineering',\n",
       " 'Product Engineering',\n",
       " 'Product Management',\n",
       " 'Product Marketing',\n",
       " 'Product: Semantic Scholar',\n",
       " 'Production - Talent and Community',\n",
       " 'Production Management',\n",
       " 'Production and Supply Chain',\n",
       " 'Professional Services',\n",
       " 'Program Management',\n",
       " 'Public Policy',\n",
       " 'Quality',\n",
       " 'Quant',\n",
       " 'R&D',\n",
       " 'R&D - Hardware',\n",
       " 'R&D - Research',\n",
       " 'R&D - Software',\n",
       " 'Research',\n",
       " 'Research & Development',\n",
       " 'Research and Development',\n",
       " 'Research, Engineering, Product',\n",
       " 'Research: AllenNLP',\n",
       " 'Research: Aristo',\n",
       " 'Research: Mosaic',\n",
       " 'Research: PRIOR',\n",
       " 'Research: Semantic Scholar',\n",
       " 'Revenue',\n",
       " 'Revenue Marketing',\n",
       " 'Robotics Platform',\n",
       " 'Sales',\n",
       " 'Sales & Marketing',\n",
       " 'Sales Dept',\n",
       " 'Sales Development',\n",
       " 'Sales Engineering',\n",
       " 'Sales Operations',\n",
       " 'Sales and Business Development',\n",
       " 'Sales and Go-To-Market (GTM)',\n",
       " 'Science',\n",
       " 'Scribe',\n",
       " 'Security',\n",
       " 'Service Operations',\n",
       " 'Software',\n",
       " 'Software Engineering',\n",
       " 'Solutions',\n",
       " 'Solutions Engineering',\n",
       " 'Supply Chain Management',\n",
       " 'Supply Chain Management & Operations',\n",
       " 'Technical Directors',\n",
       " 'Technical Services',\n",
       " 'Technology',\n",
       " 'Technology and Innovation',\n",
       " 'Translators/Linguists',\n",
       " 'Upsell',\n",
       " 'Voice'}"
      ]
     },
     "execution_count": 203,
     "metadata": {},
     "output_type": "execute_result"
    }
   ],
   "source": [
    "companies.all_departments"
   ]
  },
  {
   "cell_type": "code",
   "execution_count": 183,
   "id": "abd7f0d7",
   "metadata": {},
   "outputs": [
    {
     "name": "stdout",
     "output_type": "stream",
     "text": [
      "Client Growth in Remote | Customer Success | Fathom\n",
      "Client Growth in San Francisco | Customer Success | Fathom\n",
      "AI Services Engineer in Palo Alto, CA | Customer Success | Aisera\n",
      "AI Services Engineer, Remote in Bangalore, India | Customer Success | Aisera\n",
      "AI Services Manager in Palo Alto, CA | Customer Success | Aisera\n",
      "Customer Engineer in Palo Alto, California | Customer Success | Aisera\n",
      "Customer Success Engineer in Bangalore, India  | Customer Success | Aisera\n",
      "Customer Success Manager in Hyderabad, India | Customer Success | Aisera\n",
      "Customer Success Operations Manager in Palo Alto, CA | Customer Success | Aisera\n",
      "Director of Customer Success in Hyderabad, India (Remote) | Customer Success | Aisera\n",
      "Escalation Manager in Bangalore, India  | Customer Success | Aisera\n",
      "Technical Project Manager in Hyderabad, India | Customer Success | Aisera\n",
      "Technical Project Manager in Palo Alto, CA | Customer Success | Aisera\n",
      "Technical Project Manager in Hyderabad, Bangalore (Remote) | Customer Success | Aisera\n",
      "Technical Support Engineer in Bangalore, India | Customer Success | Aisera\n",
      "Technical Support Engineer in Palo Alto, CA | Customer Success | Aisera\n",
      "Learning Manager in United States | Customer Success | Tecton.AI\n",
      "Customer Success Manager in USA (Remote) | Customer Success | Cresta\n",
      "Data Scientist in USA (Remote) | Customer Success | Cresta\n",
      "Data Scientist in Toronto (Remote) | Customer Success | Cresta\n",
      "Customer Success Director, Commercial Applications in Menlo Park, CA | Customer Success | Deepcell\n",
      "Customer Success Manager- East USA in Remote (East), USA | Customer Success | Moveworks\n",
      "Customer Success Manager- East USA in New York City, NY | Customer Success | Moveworks\n",
      "Customer Success Manager- East USA in Atlanta, GA | Customer Success | Moveworks\n",
      "Customer Success Manager- EMEA in London, United Kingdom | Customer Success | Moveworks\n",
      "Implementation Manager - East in Remote, USA | Customer Success | Moveworks\n",
      "Implementation Manager - East in Toronto, Canada | Customer Success | Moveworks\n",
      "Technical Support Engineer in Bengaluru, India | Customer Success | Moveworks\n",
      "Customer Success Manager in Remote | Customer Success | People.ai\n",
      "Customer Success Manager in UK - London (Office) | Customer Success | Tessian\n",
      "Business Value Consultant in San Francisco, CA | Customer Success | Observe.AI\n",
      "Data Engineer in New York, NY; US-Remote | Customer Success | SiSense\n",
      "Junior Technical Support Engineer for Infra/Deploy Pod (Late shifts)  in Kyiv, Ukraine | Customer Success | SiSense\n",
      "Senior Manager, Customer Success in New York, NY; United States-Remote;  | Customer Success | SiSense\n",
      "Technical Account Manager in Tel Aviv-Yafo, Gush Dan, Israel | Customer Success | SiSense\n",
      "Technical Account Manager in New York, NY; San Francisco, CA; US-Remote | Customer Success | SiSense\n",
      "Technical Account Manager in New York, NY; United States-Remote; San Francisco, CA | Customer Success | SiSense\n",
      "Technical Account Manager in London, UK | Customer Success | SiSense\n",
      "Technical Support Engineer | Analytics Pod (late shift) in Kyiv, Ukraine | Customer Success | SiSense\n",
      "Technical Support Engineer for Data Pod (late shifts) in Kyiv, Ukraine | Customer Success | SiSense\n",
      "Technical Support Engineer for DevX (late shifts) in Ukraine | Customer Success | SiSense\n",
      "Resident AI Engineer in Remote - USA | Customer Success | Rasa\n"
     ]
    }
   ],
   "source": [
    "roles = companies.find_roles_by_department('Customer Success')\n",
    "for role in roles:\n",
    "    print(role)"
   ]
  },
  {
   "cell_type": "code",
   "execution_count": 213,
   "id": "5a1a905c",
   "metadata": {},
   "outputs": [
    {
     "data": {
      "text/plain": [
       "'       Sales   Commercial'"
      ]
     },
     "execution_count": 213,
     "metadata": {},
     "output_type": "execute_result"
    }
   ],
   "source": [
    "string = \"2101 - Sales - Commercial\"\n",
    "pattern = re.compile('[^a-zA-Z]')\n",
    " \n",
    "re.sub(pattern, \" \", string)"
   ]
  },
  {
   "cell_type": "code",
   "execution_count": 171,
   "id": "fe501ce4",
   "metadata": {},
   "outputs": [],
   "source": [
    "string = string.lstrip().rstrip()"
   ]
  },
  {
   "cell_type": "code",
   "execution_count": 172,
   "id": "29d1c429",
   "metadata": {},
   "outputs": [
    {
     "data": {
      "text/plain": [
       "'sfksdm'"
      ]
     },
     "execution_count": 172,
     "metadata": {},
     "output_type": "execute_result"
    }
   ],
   "source": [
    "string"
   ]
  },
  {
   "cell_type": "code",
   "execution_count": 215,
   "id": "852e688d",
   "metadata": {},
   "outputs": [
    {
     "data": {
      "text/plain": [
       "True"
      ]
     },
     "execution_count": 215,
     "metadata": {},
     "output_type": "execute_result"
    }
   ],
   "source": [
    "url = \"http://tripactions.com/?utm_source=topstartups.io\"\n",
    "\"?\" in url"
   ]
  },
  {
   "cell_type": "code",
   "execution_count": null,
   "id": "7c072d7f",
   "metadata": {},
   "outputs": [],
   "source": []
  },
  {
   "cell_type": "code",
   "execution_count": 250,
   "id": "65e6fea3",
   "metadata": {},
   "outputs": [
    {
     "data": {
      "text/plain": [
       "<generator object <genexpr> at 0x1155a7ae0>"
      ]
     },
     "execution_count": 250,
     "metadata": {},
     "output_type": "execute_result"
    }
   ],
   "source": [
    "data"
   ]
  },
  {
   "cell_type": "code",
   "execution_count": 251,
   "id": "a1d4ef01",
   "metadata": {},
   "outputs": [
    {
     "ename": "TypeError",
     "evalue": "'generator' object is not subscriptable",
     "output_type": "error",
     "traceback": [
      "\u001b[0;31m---------------------------------------------------------------------------\u001b[0m",
      "\u001b[0;31mTypeError\u001b[0m                                 Traceback (most recent call last)",
      "Cell \u001b[0;32mIn[251], line 1\u001b[0m\n\u001b[0;32m----> 1\u001b[0m \u001b[43mdata\u001b[49m\u001b[43m[\u001b[49m\u001b[38;5;241;43m0\u001b[39;49m\u001b[43m]\u001b[49m\n",
      "\u001b[0;31mTypeError\u001b[0m: 'generator' object is not subscriptable"
     ]
    }
   ],
   "source": [
    "data[0]"
   ]
  },
  {
   "cell_type": "code",
   "execution_count": null,
   "id": "f611c91e",
   "metadata": {},
   "outputs": [],
   "source": []
  }
 ],
 "metadata": {
  "kernelspec": {
   "display_name": "Python 3 (ipykernel)",
   "language": "python",
   "name": "python3"
  },
  "language_info": {
   "codemirror_mode": {
    "name": "ipython",
    "version": 3
   },
   "file_extension": ".py",
   "mimetype": "text/x-python",
   "name": "python",
   "nbconvert_exporter": "python",
   "pygments_lexer": "ipython3",
   "version": "3.10.9"
  }
 },
 "nbformat": 4,
 "nbformat_minor": 5
}
